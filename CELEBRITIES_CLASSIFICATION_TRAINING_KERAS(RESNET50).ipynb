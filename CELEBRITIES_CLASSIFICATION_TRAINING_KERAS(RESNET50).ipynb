{
  "metadata": {
    "kernelspec": {
      "name": "python3",
      "display_name": "Python 3",
      "language": "python"
    },
    "language_info": {
      "name": "python",
      "version": "3.11.11",
      "mimetype": "text/x-python",
      "codemirror_mode": {
        "name": "ipython",
        "version": 3
      },
      "pygments_lexer": "ipython3",
      "nbconvert_exporter": "python",
      "file_extension": ".py"
    },
    "colab": {
      "provenance": [],
      "gpuType": "T4"
    },
    "accelerator": "GPU",
    "kaggle": {
      "accelerator": "none",
      "dataSources": [],
      "dockerImageVersionId": 31040,
      "isInternetEnabled": true,
      "language": "python",
      "sourceType": "notebook",
      "isGpuEnabled": false
    }
  },
  "nbformat_minor": 0,
  "nbformat": 4,
  "cells": [
    {
      "cell_type": "code",
      "source": [
        "#FOR YOUR DATASET IF ITS IN ZIP\n",
        "import zipfile\n",
        "import os\n",
        "\n",
        "def extract_zip(zip_file_path, extract_to_path):\n",
        "    with zipfile.ZipFile(zip_file_path, 'r') as zip_ref:\n",
        "        zip_ref.extractall(extract_to_path)\n",
        "extract_zip(\"/kaggle/working/predict.zip\",\"predict_content\")\n",
        "extract_zip(\"/kaggle/working/train.zip\",\"data_content\")"
      ],
      "metadata": {
        "id": "19erlyv2Pr5C",
        "trusted": true,
        "execution": {
          "iopub.status.busy": "2025-07-02T15:50:09.561703Z",
          "iopub.execute_input": "2025-07-02T15:50:09.562213Z",
          "iopub.status.idle": "2025-07-02T15:50:11.806590Z",
          "shell.execute_reply.started": "2025-07-02T15:50:09.562169Z",
          "shell.execute_reply": "2025-07-02T15:50:11.806005Z"
        }
      },
      "outputs": [],
      "execution_count": null
    },
    {
      "cell_type": "code",
      "source": [
        "import os\n",
        "import numpy as np\n",
        "import pandas as pd\n",
        "from tqdm import tqdm\n",
        "from sklearn.metrics import classification_report, accuracy_score, f1_score, precision_score, recall_score\n",
        "\n",
        "import tensorflow as tf\n",
        "from tensorflow.keras.applications import ResNet50\n",
        "from tensorflow.keras.applications.resnet50 import preprocess_input\n",
        "from tensorflow.keras.models import Model, load_model\n",
        "from tensorflow.keras.layers import Dense, Dropout, BatchNormalization, ReLU, GlobalAveragePooling2D, Input\n",
        "from tensorflow.keras.optimizers import Adam\n",
        "from tensorflow.keras.callbacks import EarlyStopping, ModelCheckpoint,ReduceLROnPlateau\n",
        "from tensorflow.keras.preprocessing.image import ImageDataGenerator, load_img, img_to_array\n",
        "from tensorflow.keras.metrics import TopKCategoricalAccuracy\n"
      ],
      "metadata": {
        "id": "tWrAF7Gl_LF6",
        "trusted": true,
        "execution": {
          "iopub.status.busy": "2025-07-02T15:50:17.083221Z",
          "iopub.execute_input": "2025-07-02T15:50:17.083502Z",
          "iopub.status.idle": "2025-07-02T15:50:17.088402Z",
          "shell.execute_reply.started": "2025-07-02T15:50:17.083483Z",
          "shell.execute_reply": "2025-07-02T15:50:17.087592Z"
        }
      },
      "outputs": [],
      "execution_count": null
    },
    {
      "cell_type": "code",
      "source": [
        "# ==== CONFIGURATION ====\n",
        "DATA_DIR = '/kaggle/working/data_content/Agumented '\n",
        "TEST_DIR = '/kaggle/working/predict_content'\n",
        "IMG_SIZE = (224, 224)\n",
        "NUM_CLASSES = 16\n",
        "EPOCHS = 50"
      ],
      "metadata": {
        "id": "J81jeWwuHuiq",
        "trusted": true,
        "execution": {
          "iopub.status.busy": "2025-07-02T16:20:38.039789Z",
          "iopub.execute_input": "2025-07-02T16:20:38.040358Z",
          "iopub.status.idle": "2025-07-02T16:20:38.043942Z",
          "shell.execute_reply.started": "2025-07-02T16:20:38.040333Z",
          "shell.execute_reply": "2025-07-02T16:20:38.043241Z"
        }
      },
      "outputs": [],
      "execution_count": null
    },
    {
      "cell_type": "code",
      "source": [
        "import tensorflow as tf\n",
        "import tensorflow_probability as tfp\n",
        "import numpy as np\n",
        "import os\n",
        "\n",
        "# Constants\n",
        "IMG_SIZE = (224, 224)\n",
        "BATCH_SIZE = 32\n",
        "DATA_DIR = '/kaggle/working/data_content/Agumented Data'\n",
        "\n",
        "# ========== Augmentation Functions ==========\n",
        "\n",
        "def preprocess(img, label):\n",
        "    img = tf.image.resize(img, IMG_SIZE)\n",
        "    img = tf.keras.applications.resnet.preprocess_input(img)\n",
        "    return img, label\n",
        "\n",
        "def cutout(images, mask_size=50):\n",
        "    def apply_cutout(img):\n",
        "        h, w = img.shape[0], img.shape[1]\n",
        "        y = tf.random.uniform([], 0, h, dtype=tf.int32)\n",
        "        x = tf.random.uniform([], 0, w, dtype=tf.int32)\n",
        "        y1 = tf.clip_by_value(y - mask_size // 2, 0, h)\n",
        "        y2 = tf.clip_by_value(y + mask_size // 2, 0, h)\n",
        "        x1 = tf.clip_by_value(x - mask_size // 2, 0, w)\n",
        "        x2 = tf.clip_by_value(x + mask_size // 2, 0, w)\n",
        "        cutout_mask = tf.ones((y2 - y1, x2 - x1), dtype=tf.float32)\n",
        "        cutout_mask = tf.pad(cutout_mask, [[y1, h - y2], [x1, w - x2]])\n",
        "        cutout_mask = tf.expand_dims(1. - cutout_mask, axis=-1)\n",
        "        return img * cutout_mask\n",
        "    return tf.map_fn(apply_cutout, images)\n",
        "\n",
        "def mixup(images, labels, alpha=0.2):\n",
        "    batch_size = tf.shape(images)[0]\n",
        "    dist = tfp.distributions.Beta(alpha, alpha)\n",
        "    lam = dist.sample([batch_size])\n",
        "    lam = tf.maximum(lam, 1 - lam)\n",
        "\n",
        "    index = tf.random.shuffle(tf.range(batch_size))\n",
        "    mixed_images = lam[:, None, None, None] * images + (1 - lam)[:, None, None, None] * tf.gather(images, index)\n",
        "    mixed_labels = lam[:, None] * labels + (1 - lam)[:, None] * tf.gather(labels, index)\n",
        "    return mixed_images, mixed_labels\n",
        "\n",
        "def cutmix(images, labels, alpha=1.0):\n",
        "    batch_size = tf.shape(images)[0]\n",
        "    indices = tf.random.shuffle(tf.range(batch_size))\n",
        "    shuffled_images = tf.gather(images, indices)\n",
        "    shuffled_labels = tf.gather(labels, indices)\n",
        "\n",
        "    dist = tfp.distributions.Beta(alpha, alpha)\n",
        "    lam = dist.sample()\n",
        "    img_h, img_w = tf.shape(images)[1], tf.shape(images)[2]\n",
        "    cut_rat = tf.math.sqrt(1. - lam)\n",
        "    cut_w = tf.cast(img_w * cut_rat, tf.int32)\n",
        "    cut_h = tf.cast(img_h * cut_rat, tf.int32)\n",
        "    cx = tf.random.uniform([], 0, img_w, dtype=tf.int32)\n",
        "    cy = tf.random.uniform([], 0, img_h, dtype=tf.int32)\n",
        "    x1 = tf.clip_by_value(cx - cut_w // 2, 0, img_w)\n",
        "    y1 = tf.clip_by_value(cy - cut_h // 2, 0, img_h)\n",
        "    x2 = tf.clip_by_value(cx + cut_w // 2, 0, img_w)\n",
        "    y2 = tf.clip_by_value(cy + cut_h // 2, 0, img_h)\n",
        "\n",
        "    for i in range(batch_size):\n",
        "        images = tf.tensor_scatter_nd_update(images, [[i]], [tf.tensor_scatter_nd_update(\n",
        "            images[i],\n",
        "            tf.stack(tf.meshgrid(tf.range(y1, y2), tf.range(x1, x2), indexing='ij'), axis=-1),\n",
        "            shuffled_images[i, y1:y2, x1:x2]\n",
        "        )])\n",
        "\n",
        "    lam_adjusted = 1 - ((x2 - x1) * (y2 - y1)) / (img_w * img_h)\n",
        "    labels = lam_adjusted * labels + (1 - lam_adjusted) * shuffled_labels\n",
        "    return images, labels\n",
        "\n",
        "# ========== Dataset Loader ==========\n",
        "\n",
        "def load_dataset(data_dir, img_size=(224, 224), batch_size=32, augment=False, mix_type='none'):\n",
        "    ds_train = tf.keras.preprocessing.image_dataset_from_directory(\n",
        "        data_dir,\n",
        "        validation_split=0.2,\n",
        "        subset='training',\n",
        "        seed=42,\n",
        "        label_mode='categorical',\n",
        "        image_size=img_size,\n",
        "        batch_size=batch_size\n",
        "    )\n",
        "\n",
        "    ds_val = tf.keras.preprocessing.image_dataset_from_directory(\n",
        "        data_dir,\n",
        "        validation_split=0.2,\n",
        "        subset='validation',\n",
        "        seed=42,\n",
        "        label_mode='categorical',\n",
        "        image_size=img_size,\n",
        "        batch_size=batch_size\n",
        "    )\n",
        "\n",
        "    class_names = ds_train.class_names\n",
        "    class_to_idx = {class_name: i for i, class_name in enumerate(class_names)}\n",
        "\n",
        "    ds_train = ds_train.map(preprocess, num_parallel_calls=tf.data.AUTOTUNE)\n",
        "    ds_val = ds_val.map(preprocess, num_parallel_calls=tf.data.AUTOTUNE)\n",
        "\n",
        "    if augment:\n",
        "        ds_train = ds_train.map(lambda x, y: (tf.image.random_flip_left_right(x), y), num_parallel_calls=tf.data.AUTOTUNE)\n",
        "        ds_train = ds_train.map(lambda x, y: (tf.image.random_brightness(x, 0.1), y), num_parallel_calls=tf.data.AUTOTUNE)\n",
        "        ds_train = ds_train.map(lambda x, y: (cutout(x), y), num_parallel_calls=tf.data.AUTOTUNE)\n",
        "\n",
        "        if mix_type == 'mixup':\n",
        "            ds_train = ds_train.map(lambda x, y: mixup(x, y), num_parallel_calls=tf.data.AUTOTUNE)\n",
        "        elif mix_type == 'cutmix':\n",
        "            ds_train = ds_train.map(lambda x, y: cutmix(x, y), num_parallel_calls=tf.data.AUTOTUNE)\n",
        "\n",
        "    train_loader = ds_train.prefetch(tf.data.AUTOTUNE)\n",
        "    val_loader = ds_val.prefetch(tf.data.AUTOTUNE)\n",
        "    return train_loader, val_loader, class_to_idx, class_names"
      ],
      "metadata": {
        "id": "rjRr7EHI_TVY",
        "trusted": true,
        "execution": {
          "iopub.status.busy": "2025-07-02T16:56:33.539991Z",
          "iopub.execute_input": "2025-07-02T16:56:33.540346Z",
          "iopub.status.idle": "2025-07-02T16:56:33.559933Z",
          "shell.execute_reply.started": "2025-07-02T16:56:33.540324Z",
          "shell.execute_reply": "2025-07-02T16:56:33.559234Z"
        }
      },
      "outputs": [],
      "execution_count": null
    },
    {
      "cell_type": "code",
      "source": [
        "# Class mapping\n",
        "train_loader, val_loader, class_to_idx, class_names = load_dataset(DATA_DIR, IMG_SIZE, BATCH_SIZE, augment=True, mix_type='mixup')\n",
        "\n",
        "idx_to_class = {v: k for k, v in class_to_idx.items()}\n",
        "\n",
        "# ==== Model Definition ====\n",
        "from tensorflow.keras.applications import ResNet50\n",
        "from tensorflow.keras.models import Model\n",
        "from tensorflow.keras.layers import Input, GlobalAveragePooling2D, Dense, Dropout, BatchNormalization, ReLU\n",
        "from tensorflow.keras.optimizers import Adam\n",
        "from tensorflow.keras.metrics import TopKCategoricalAccuracy\n",
        "\n",
        "# === Constants ===\n",
        "IMG_SIZE = (224, 224, 3)\n",
        "NUM_CLASSES = 16  # 15 known + 1 for -1 others\n",
        "\n",
        "# === Load Pretrained Base Model ===\n",
        "base_model = ResNet50(include_top=False, weights='imagenet', input_shape=IMG_SIZE)\n",
        "\n",
        "# === Freeze All Layers Except Last Block ===\n",
        "for layer in base_model.layers:\n",
        "    layer.trainable = False\n",
        "for layer in base_model.layers[-30:]:  # Fine-tune last ~30 layers\n",
        "    layer.trainable = True\n",
        "\n",
        "# === Custom Classification Head ===\n",
        "inputs = Input(shape=IMG_SIZE)\n",
        "x = base_model(inputs, training=True)  # Keep BN layers active\n",
        "x = GlobalAveragePooling2D()(x)\n",
        "x = Dense(256)(x)\n",
        "x = ReLU()(x)\n",
        "x = Dropout(0.5)(x)\n",
        "x = BatchNormalization()(x)\n",
        "outputs = Dense(NUM_CLASSES, activation='softmax')(x)\n",
        "\n",
        "# === Build and Compile Model ===\n",
        "model = Model(inputs, outputs)\n",
        "model.compile(\n",
        "    optimizer=Adam(learning_rate=1e-4),\n",
        "    loss='categorical_crossentropy',\n",
        "    metrics=['accuracy', TopKCategoricalAccuracy(k=3, name='top_3_accuracy')]\n",
        ")\n",
        "\n",
        "model.summary()\n"
      ],
      "metadata": {
        "colab": {
          "base_uri": "https://localhost:8080/",
          "height": 486
        },
        "id": "HoP8YnDh_V7O",
        "outputId": "65a183e6-96a0-491b-8b80-514a3d58a4ec",
        "trusted": true,
        "execution": {
          "iopub.status.busy": "2025-07-02T16:56:38.286446Z",
          "iopub.execute_input": "2025-07-02T16:56:38.287021Z",
          "iopub.status.idle": "2025-07-02T16:56:40.702380Z",
          "shell.execute_reply.started": "2025-07-02T16:56:38.287000Z",
          "shell.execute_reply": "2025-07-02T16:56:40.701803Z"
        }
      },
      "outputs": [
        {
          "name": "stdout",
          "text": "Found 12654 files belonging to 16 classes.\nUsing 10124 files for training.\nFound 12654 files belonging to 16 classes.\nUsing 2530 files for validation.\n",
          "output_type": "stream"
        },
        {
          "output_type": "display_data",
          "data": {
            "text/plain": "\u001b[1mModel: \"functional_6\"\u001b[0m\n",
            "text/html": "<pre style=\"white-space:pre;overflow-x:auto;line-height:normal;font-family:Menlo,'DejaVu Sans Mono',consolas,'Courier New',monospace\"><span style=\"font-weight: bold\">Model: \"functional_6\"</span>\n</pre>\n"
          },
          "metadata": {}
        },
        {
          "output_type": "display_data",
          "data": {
            "text/plain": "┏━━━━━━━━━━━━━━━━━━━━━━━━━━━━━━━━━━━━━━┳━━━━━━━━━━━━━━━━━━━━━━━━━━━━━┳━━━━━━━━━━━━━━━━━┓\n┃\u001b[1m \u001b[0m\u001b[1mLayer (type)                        \u001b[0m\u001b[1m \u001b[0m┃\u001b[1m \u001b[0m\u001b[1mOutput Shape               \u001b[0m\u001b[1m \u001b[0m┃\u001b[1m \u001b[0m\u001b[1m        Param #\u001b[0m\u001b[1m \u001b[0m┃\n┡━━━━━━━━━━━━━━━━━━━━━━━━━━━━━━━━━━━━━━╇━━━━━━━━━━━━━━━━━━━━━━━━━━━━━╇━━━━━━━━━━━━━━━━━┩\n│ input_layer_13 (\u001b[38;5;33mInputLayer\u001b[0m)          │ (\u001b[38;5;45mNone\u001b[0m, \u001b[38;5;34m224\u001b[0m, \u001b[38;5;34m224\u001b[0m, \u001b[38;5;34m3\u001b[0m)         │               \u001b[38;5;34m0\u001b[0m │\n├──────────────────────────────────────┼─────────────────────────────┼─────────────────┤\n│ resnet50 (\u001b[38;5;33mFunctional\u001b[0m)                │ (\u001b[38;5;45mNone\u001b[0m, \u001b[38;5;34m7\u001b[0m, \u001b[38;5;34m7\u001b[0m, \u001b[38;5;34m2048\u001b[0m)          │      \u001b[38;5;34m23,587,712\u001b[0m │\n├──────────────────────────────────────┼─────────────────────────────┼─────────────────┤\n│ global_average_pooling2d_6           │ (\u001b[38;5;45mNone\u001b[0m, \u001b[38;5;34m2048\u001b[0m)                │               \u001b[38;5;34m0\u001b[0m │\n│ (\u001b[38;5;33mGlobalAveragePooling2D\u001b[0m)             │                             │                 │\n├──────────────────────────────────────┼─────────────────────────────┼─────────────────┤\n│ dense_16 (\u001b[38;5;33mDense\u001b[0m)                     │ (\u001b[38;5;45mNone\u001b[0m, \u001b[38;5;34m256\u001b[0m)                 │         \u001b[38;5;34m524,544\u001b[0m │\n├──────────────────────────────────────┼─────────────────────────────┼─────────────────┤\n│ re_lu_10 (\u001b[38;5;33mReLU\u001b[0m)                      │ (\u001b[38;5;45mNone\u001b[0m, \u001b[38;5;34m256\u001b[0m)                 │               \u001b[38;5;34m0\u001b[0m │\n├──────────────────────────────────────┼─────────────────────────────┼─────────────────┤\n│ dropout_14 (\u001b[38;5;33mDropout\u001b[0m)                 │ (\u001b[38;5;45mNone\u001b[0m, \u001b[38;5;34m256\u001b[0m)                 │               \u001b[38;5;34m0\u001b[0m │\n├──────────────────────────────────────┼─────────────────────────────┼─────────────────┤\n│ batch_normalization_14               │ (\u001b[38;5;45mNone\u001b[0m, \u001b[38;5;34m256\u001b[0m)                 │           \u001b[38;5;34m1,024\u001b[0m │\n│ (\u001b[38;5;33mBatchNormalization\u001b[0m)                 │                             │                 │\n├──────────────────────────────────────┼─────────────────────────────┼─────────────────┤\n│ dense_17 (\u001b[38;5;33mDense\u001b[0m)                     │ (\u001b[38;5;45mNone\u001b[0m, \u001b[38;5;34m16\u001b[0m)                  │           \u001b[38;5;34m4,112\u001b[0m │\n└──────────────────────────────────────┴─────────────────────────────┴─────────────────┘\n",
            "text/html": "<pre style=\"white-space:pre;overflow-x:auto;line-height:normal;font-family:Menlo,'DejaVu Sans Mono',consolas,'Courier New',monospace\">┏━━━━━━━━━━━━━━━━━━━━━━━━━━━━━━━━━━━━━━┳━━━━━━━━━━━━━━━━━━━━━━━━━━━━━┳━━━━━━━━━━━━━━━━━┓\n┃<span style=\"font-weight: bold\"> Layer (type)                         </span>┃<span style=\"font-weight: bold\"> Output Shape                </span>┃<span style=\"font-weight: bold\">         Param # </span>┃\n┡━━━━━━━━━━━━━━━━━━━━━━━━━━━━━━━━━━━━━━╇━━━━━━━━━━━━━━━━━━━━━━━━━━━━━╇━━━━━━━━━━━━━━━━━┩\n│ input_layer_13 (<span style=\"color: #0087ff; text-decoration-color: #0087ff\">InputLayer</span>)          │ (<span style=\"color: #00d7ff; text-decoration-color: #00d7ff\">None</span>, <span style=\"color: #00af00; text-decoration-color: #00af00\">224</span>, <span style=\"color: #00af00; text-decoration-color: #00af00\">224</span>, <span style=\"color: #00af00; text-decoration-color: #00af00\">3</span>)         │               <span style=\"color: #00af00; text-decoration-color: #00af00\">0</span> │\n├──────────────────────────────────────┼─────────────────────────────┼─────────────────┤\n│ resnet50 (<span style=\"color: #0087ff; text-decoration-color: #0087ff\">Functional</span>)                │ (<span style=\"color: #00d7ff; text-decoration-color: #00d7ff\">None</span>, <span style=\"color: #00af00; text-decoration-color: #00af00\">7</span>, <span style=\"color: #00af00; text-decoration-color: #00af00\">7</span>, <span style=\"color: #00af00; text-decoration-color: #00af00\">2048</span>)          │      <span style=\"color: #00af00; text-decoration-color: #00af00\">23,587,712</span> │\n├──────────────────────────────────────┼─────────────────────────────┼─────────────────┤\n│ global_average_pooling2d_6           │ (<span style=\"color: #00d7ff; text-decoration-color: #00d7ff\">None</span>, <span style=\"color: #00af00; text-decoration-color: #00af00\">2048</span>)                │               <span style=\"color: #00af00; text-decoration-color: #00af00\">0</span> │\n│ (<span style=\"color: #0087ff; text-decoration-color: #0087ff\">GlobalAveragePooling2D</span>)             │                             │                 │\n├──────────────────────────────────────┼─────────────────────────────┼─────────────────┤\n│ dense_16 (<span style=\"color: #0087ff; text-decoration-color: #0087ff\">Dense</span>)                     │ (<span style=\"color: #00d7ff; text-decoration-color: #00d7ff\">None</span>, <span style=\"color: #00af00; text-decoration-color: #00af00\">256</span>)                 │         <span style=\"color: #00af00; text-decoration-color: #00af00\">524,544</span> │\n├──────────────────────────────────────┼─────────────────────────────┼─────────────────┤\n│ re_lu_10 (<span style=\"color: #0087ff; text-decoration-color: #0087ff\">ReLU</span>)                      │ (<span style=\"color: #00d7ff; text-decoration-color: #00d7ff\">None</span>, <span style=\"color: #00af00; text-decoration-color: #00af00\">256</span>)                 │               <span style=\"color: #00af00; text-decoration-color: #00af00\">0</span> │\n├──────────────────────────────────────┼─────────────────────────────┼─────────────────┤\n│ dropout_14 (<span style=\"color: #0087ff; text-decoration-color: #0087ff\">Dropout</span>)                 │ (<span style=\"color: #00d7ff; text-decoration-color: #00d7ff\">None</span>, <span style=\"color: #00af00; text-decoration-color: #00af00\">256</span>)                 │               <span style=\"color: #00af00; text-decoration-color: #00af00\">0</span> │\n├──────────────────────────────────────┼─────────────────────────────┼─────────────────┤\n│ batch_normalization_14               │ (<span style=\"color: #00d7ff; text-decoration-color: #00d7ff\">None</span>, <span style=\"color: #00af00; text-decoration-color: #00af00\">256</span>)                 │           <span style=\"color: #00af00; text-decoration-color: #00af00\">1,024</span> │\n│ (<span style=\"color: #0087ff; text-decoration-color: #0087ff\">BatchNormalization</span>)                 │                             │                 │\n├──────────────────────────────────────┼─────────────────────────────┼─────────────────┤\n│ dense_17 (<span style=\"color: #0087ff; text-decoration-color: #0087ff\">Dense</span>)                     │ (<span style=\"color: #00d7ff; text-decoration-color: #00d7ff\">None</span>, <span style=\"color: #00af00; text-decoration-color: #00af00\">16</span>)                  │           <span style=\"color: #00af00; text-decoration-color: #00af00\">4,112</span> │\n└──────────────────────────────────────┴─────────────────────────────┴─────────────────┘\n</pre>\n"
          },
          "metadata": {}
        },
        {
          "output_type": "display_data",
          "data": {
            "text/plain": "\u001b[1m Total params: \u001b[0m\u001b[38;5;34m24,117,392\u001b[0m (92.00 MB)\n",
            "text/html": "<pre style=\"white-space:pre;overflow-x:auto;line-height:normal;font-family:Menlo,'DejaVu Sans Mono',consolas,'Courier New',monospace\"><span style=\"font-weight: bold\"> Total params: </span><span style=\"color: #00af00; text-decoration-color: #00af00\">24,117,392</span> (92.00 MB)\n</pre>\n"
          },
          "metadata": {}
        },
        {
          "output_type": "display_data",
          "data": {
            "text/plain": "\u001b[1m Trainable params: \u001b[0m\u001b[38;5;34m14,979,344\u001b[0m (57.14 MB)\n",
            "text/html": "<pre style=\"white-space:pre;overflow-x:auto;line-height:normal;font-family:Menlo,'DejaVu Sans Mono',consolas,'Courier New',monospace\"><span style=\"font-weight: bold\"> Trainable params: </span><span style=\"color: #00af00; text-decoration-color: #00af00\">14,979,344</span> (57.14 MB)\n</pre>\n"
          },
          "metadata": {}
        },
        {
          "output_type": "display_data",
          "data": {
            "text/plain": "\u001b[1m Non-trainable params: \u001b[0m\u001b[38;5;34m9,138,048\u001b[0m (34.86 MB)\n",
            "text/html": "<pre style=\"white-space:pre;overflow-x:auto;line-height:normal;font-family:Menlo,'DejaVu Sans Mono',consolas,'Courier New',monospace\"><span style=\"font-weight: bold\"> Non-trainable params: </span><span style=\"color: #00af00; text-decoration-color: #00af00\">9,138,048</span> (34.86 MB)\n</pre>\n"
          },
          "metadata": {}
        }
      ],
      "execution_count": null
    },
    {
      "cell_type": "code",
      "source": [
        "from sklearn.metrics import f1_score\n",
        "import numpy as np\n",
        "from tensorflow.keras.callbacks import Callback, ReduceLROnPlateau, EarlyStopping\n",
        "\n",
        "class F1CheckpointCallback(Callback):\n",
        "    def __init__(self, val_data, save_path='best_model_f1.keras'):\n",
        "        super().__init__()\n",
        "        self.val_data = val_data\n",
        "        self.best_f1 = 0.0\n",
        "        self.save_path = save_path\n",
        "\n",
        "    def on_epoch_end(self, epoch, logs=None):\n",
        "        y_true = []\n",
        "        y_pred = []\n",
        "\n",
        "        for x_batch, y_batch in self.val_data:\n",
        "            preds = self.model.predict(x_batch, verbose=0)\n",
        "            y_true.extend(np.argmax(y_batch, axis=1))\n",
        "            y_pred.extend(np.argmax(preds, axis=1))\n",
        "\n",
        "        f1 = f1_score(y_true, y_pred, average='weighted')\n",
        "        print(f\"\\nEpoch {epoch+1}: Validation F1 Score = {f1:.4f}\")\n",
        "\n",
        "        if f1 > self.best_f1:\n",
        "            print(f\"✅ F1 improved from {self.best_f1:.4f} to {f1:.4f}. Saving model to {self.save_path}\")\n",
        "            self.best_f1 = f1\n",
        "            self.model.save(self.save_path)\n"
      ],
      "metadata": {
        "id": "mSeQtYxD0ikv",
        "trusted": true,
        "execution": {
          "iopub.status.busy": "2025-07-02T16:56:46.005439Z",
          "iopub.execute_input": "2025-07-02T16:56:46.005974Z",
          "iopub.status.idle": "2025-07-02T16:56:46.012025Z",
          "shell.execute_reply.started": "2025-07-02T16:56:46.005949Z",
          "shell.execute_reply": "2025-07-02T16:56:46.011463Z"
        }
      },
      "outputs": [],
      "execution_count": null
    },
    {
      "cell_type": "code",
      "source": [
        "from sklearn.utils.class_weight import compute_class_weight\n",
        "import numpy as np\n",
        "import os\n",
        "\n",
        "# Count the number of images per class from folder names\n",
        "classes = sorted(os.listdir(DATA_DIR))  # assumes 1 folder per class\n",
        "class_counts = [len(os.listdir(os.path.join(DATA_DIR, cls))) for cls in classes]\n",
        "class_indices = {cls: idx for idx, cls in enumerate(classes)}\n",
        "\n",
        "# Flatten class labels for sklearn\n",
        "y_labels = np.concatenate([[class_indices[cls]] * count for cls, count in zip(classes, class_counts)])\n",
        "\n",
        "class_weights = compute_class_weight(\n",
        "    class_weight='balanced',\n",
        "    classes=np.unique(y_labels),\n",
        "    y=y_labels\n",
        ")\n",
        "\n",
        "# Cap weight of known classes and raise the one for '-1'\n",
        "class_weights = np.clip(class_weights, 0.25, 2.0)  # floor for -1, ceiling for others\n",
        "\n",
        "# Final dictionary\n",
        "class_weight_dict = {i: weight for i, weight in enumerate(class_weights)}\n",
        "\n",
        "# Optional: print class weights\n",
        "for i, w in class_weight_dict.items():\n",
        "    print(f\"Class {i} ({classes[i]}): weight = {w:.2f}\")\n"
      ],
      "metadata": {
        "colab": {
          "base_uri": "https://localhost:8080/"
        },
        "id": "SRAgtgj35Ic9",
        "outputId": "8b82044a-f34d-4a7d-94c1-f0f88ad888a7",
        "trusted": true,
        "execution": {
          "iopub.status.busy": "2025-07-02T16:56:50.966653Z",
          "iopub.execute_input": "2025-07-02T16:56:50.966945Z",
          "iopub.status.idle": "2025-07-02T16:56:50.985703Z",
          "shell.execute_reply.started": "2025-07-02T16:56:50.966923Z",
          "shell.execute_reply": "2025-07-02T16:56:50.985116Z"
        }
      },
      "outputs": [
        {
          "name": "stdout",
          "text": "Class 0 (-1): weight = 0.25\nClass 1 (0): weight = 1.62\nClass 2 (1): weight = 1.67\nClass 3 (10): weight = 1.47\nClass 4 (11): weight = 1.65\nClass 5 (12): weight = 1.55\nClass 6 (13): weight = 1.43\nClass 7 (14): weight = 1.45\nClass 8 (2): weight = 1.76\nClass 9 (3): weight = 1.50\nClass 10 (4): weight = 1.65\nClass 11 (5): weight = 1.98\nClass 12 (6): weight = 1.82\nClass 13 (7): weight = 1.55\nClass 14 (8): weight = 1.63\nClass 15 (9): weight = 1.79\n",
          "output_type": "stream"
        }
      ],
      "execution_count": null
    },
    {
      "cell_type": "code",
      "source": [
        "callbacks = [\n",
        "    ReduceLROnPlateau(monitor='val_loss', factor=0.3, patience=2, verbose=1),\n",
        "    EarlyStopping(patience=5, restore_best_weights=True, monitor='val_loss'),\n",
        "    F1CheckpointCallback(val_data=val_loader, save_path='best_model_f1.keras')\n",
        "]\n"
      ],
      "metadata": {
        "id": "SNd4T6doAC80",
        "trusted": true,
        "execution": {
          "iopub.status.busy": "2025-07-02T16:56:55.808236Z",
          "iopub.execute_input": "2025-07-02T16:56:55.808890Z",
          "iopub.status.idle": "2025-07-02T16:56:55.812609Z",
          "shell.execute_reply.started": "2025-07-02T16:56:55.808870Z",
          "shell.execute_reply": "2025-07-02T16:56:55.811752Z"
        }
      },
      "outputs": [],
      "execution_count": null
    },
    {
      "cell_type": "code",
      "source": [
        "history=model.fit(\n",
        "    train_loader,\n",
        "    validation_data=val_loader,\n",
        "    epochs=EPOCHS,\n",
        "    callbacks=callbacks,\n",
        "    class_weight=class_weight_dict,\n",
        "    verbose=1\n",
        ")\n"
      ],
      "metadata": {
        "colab": {
          "base_uri": "https://localhost:8080/"
        },
        "id": "R6eHWbC5H-iV",
        "outputId": "0f69ce0d-4c42-4c4a-94c4-480836ac135f",
        "trusted": true,
        "execution": {
          "iopub.status.busy": "2025-07-02T16:56:58.459865Z",
          "iopub.execute_input": "2025-07-02T16:56:58.460133Z",
          "iopub.status.idle": "2025-07-02T17:25:26.389879Z",
          "shell.execute_reply.started": "2025-07-02T16:56:58.460112Z",
          "shell.execute_reply": "2025-07-02T17:25:26.389292Z"
        }
      },
      "outputs": [
        {
          "name": "stdout",
          "text": "Epoch 1/50\n\u001b[1m317/317\u001b[0m \u001b[32m━━━━━━━━━━━━━━━━━━━━\u001b[0m\u001b[37m\u001b[0m \u001b[1m0s\u001b[0m 99ms/step - accuracy: 0.1358 - loss: 3.1139 - top_3_accuracy: 0.3085\nEpoch 1: Validation F1 Score = 0.3669\n✅ F1 improved from 0.0000 to 0.3669. Saving model to best_model_f1.keras\n\u001b[1m317/317\u001b[0m \u001b[32m━━━━━━━━━━━━━━━━━━━━\u001b[0m\u001b[37m\u001b[0m \u001b[1m87s\u001b[0m 196ms/step - accuracy: 0.1360 - loss: 3.1129 - top_3_accuracy: 0.3087 - val_accuracy: 0.3680 - val_loss: 2.1220 - val_top_3_accuracy: 0.6253 - learning_rate: 1.0000e-04\nEpoch 2/50\n\u001b[1m316/317\u001b[0m \u001b[32m━━━━━━━━━━━━━━━━━━━\u001b[0m\u001b[37m━\u001b[0m \u001b[1m0s\u001b[0m 83ms/step - accuracy: 0.3280 - loss: 2.1785 - top_3_accuracy: 0.5694\nEpoch 2: Validation F1 Score = 0.4678\n✅ F1 improved from 0.3669 to 0.4678. Saving model to best_model_f1.keras\n\u001b[1m317/317\u001b[0m \u001b[32m━━━━━━━━━━━━━━━━━━━━\u001b[0m\u001b[37m\u001b[0m \u001b[1m43s\u001b[0m 134ms/step - accuracy: 0.3282 - loss: 2.1778 - top_3_accuracy: 0.5696 - val_accuracy: 0.4672 - val_loss: 1.8209 - val_top_3_accuracy: 0.7170 - learning_rate: 1.0000e-04\nEpoch 3/50\n\u001b[1m316/317\u001b[0m \u001b[32m━━━━━━━━━━━━━━━━━━━\u001b[0m\u001b[37m━\u001b[0m \u001b[1m0s\u001b[0m 83ms/step - accuracy: 0.4396 - loss: 1.7385 - top_3_accuracy: 0.6901\nEpoch 3: Validation F1 Score = 0.5772\n✅ F1 improved from 0.4678 to 0.5772. Saving model to best_model_f1.keras\n\u001b[1m317/317\u001b[0m \u001b[32m━━━━━━━━━━━━━━━━━━━━\u001b[0m\u001b[37m\u001b[0m \u001b[1m43s\u001b[0m 133ms/step - accuracy: 0.4398 - loss: 1.7382 - top_3_accuracy: 0.6902 - val_accuracy: 0.5656 - val_loss: 1.4538 - val_top_3_accuracy: 0.7960 - learning_rate: 1.0000e-04\nEpoch 4/50\n\u001b[1m316/317\u001b[0m \u001b[32m━━━━━━━━━━━━━━━━━━━\u001b[0m\u001b[37m━\u001b[0m \u001b[1m0s\u001b[0m 82ms/step - accuracy: 0.5503 - loss: 1.4686 - top_3_accuracy: 0.7673\nEpoch 4: Validation F1 Score = 0.6601\n✅ F1 improved from 0.5772 to 0.6601. Saving model to best_model_f1.keras\n\u001b[1m317/317\u001b[0m \u001b[32m━━━━━━━━━━━━━━━━━━━━\u001b[0m\u001b[37m\u001b[0m \u001b[1m42s\u001b[0m 132ms/step - accuracy: 0.5504 - loss: 1.4684 - top_3_accuracy: 0.7673 - val_accuracy: 0.6518 - val_loss: 1.1654 - val_top_3_accuracy: 0.8636 - learning_rate: 1.0000e-04\nEpoch 5/50\n\u001b[1m316/317\u001b[0m \u001b[32m━━━━━━━━━━━━━━━━━━━\u001b[0m\u001b[37m━\u001b[0m \u001b[1m0s\u001b[0m 84ms/step - accuracy: 0.6028 - loss: 1.3256 - top_3_accuracy: 0.8119\nEpoch 5: Validation F1 Score = 0.7291\n✅ F1 improved from 0.6601 to 0.7291. Saving model to best_model_f1.keras\n\u001b[1m317/317\u001b[0m \u001b[32m━━━━━━━━━━━━━━━━━━━━\u001b[0m\u001b[37m\u001b[0m \u001b[1m43s\u001b[0m 134ms/step - accuracy: 0.6029 - loss: 1.3254 - top_3_accuracy: 0.8120 - val_accuracy: 0.7257 - val_loss: 0.9273 - val_top_3_accuracy: 0.8980 - learning_rate: 1.0000e-04\nEpoch 6/50\n\u001b[1m316/317\u001b[0m \u001b[32m━━━━━━━━━━━━━━━━━━━\u001b[0m\u001b[37m━\u001b[0m \u001b[1m0s\u001b[0m 81ms/step - accuracy: 0.6571 - loss: 1.1673 - top_3_accuracy: 0.8563\nEpoch 6: Validation F1 Score = 0.7485\n✅ F1 improved from 0.7291 to 0.7485. Saving model to best_model_f1.keras\n\u001b[1m317/317\u001b[0m \u001b[32m━━━━━━━━━━━━━━━━━━━━\u001b[0m\u001b[37m\u001b[0m \u001b[1m43s\u001b[0m 133ms/step - accuracy: 0.6572 - loss: 1.1672 - top_3_accuracy: 0.8563 - val_accuracy: 0.7443 - val_loss: 0.8624 - val_top_3_accuracy: 0.9099 - learning_rate: 1.0000e-04\nEpoch 7/50\n\u001b[1m316/317\u001b[0m \u001b[32m━━━━━━━━━━━━━━━━━━━\u001b[0m\u001b[37m━\u001b[0m \u001b[1m0s\u001b[0m 83ms/step - accuracy: 0.7140 - loss: 1.0424 - top_3_accuracy: 0.8921\nEpoch 7: Validation F1 Score = 0.7717\n✅ F1 improved from 0.7485 to 0.7717. Saving model to best_model_f1.keras\n\u001b[1m317/317\u001b[0m \u001b[32m━━━━━━━━━━━━━━━━━━━━\u001b[0m\u001b[37m\u001b[0m \u001b[1m42s\u001b[0m 132ms/step - accuracy: 0.7141 - loss: 1.0423 - top_3_accuracy: 0.8921 - val_accuracy: 0.7680 - val_loss: 0.7551 - val_top_3_accuracy: 0.9372 - learning_rate: 1.0000e-04\nEpoch 8/50\n\u001b[1m316/317\u001b[0m \u001b[32m━━━━━━━━━━━━━━━━━━━\u001b[0m\u001b[37m━\u001b[0m \u001b[1m0s\u001b[0m 84ms/step - accuracy: 0.7380 - loss: 1.0009 - top_3_accuracy: 0.9067\nEpoch 8: Validation F1 Score = 0.7882\n✅ F1 improved from 0.7717 to 0.7882. Saving model to best_model_f1.keras\n\u001b[1m317/317\u001b[0m \u001b[32m━━━━━━━━━━━━━━━━━━━━\u001b[0m\u001b[37m\u001b[0m \u001b[1m43s\u001b[0m 135ms/step - accuracy: 0.7380 - loss: 1.0007 - top_3_accuracy: 0.9067 - val_accuracy: 0.7838 - val_loss: 0.7316 - val_top_3_accuracy: 0.9435 - learning_rate: 1.0000e-04\nEpoch 9/50\n\u001b[1m316/317\u001b[0m \u001b[32m━━━━━━━━━━━━━━━━━━━\u001b[0m\u001b[37m━\u001b[0m \u001b[1m0s\u001b[0m 83ms/step - accuracy: 0.7671 - loss: 0.8834 - top_3_accuracy: 0.9244\nEpoch 9: Validation F1 Score = 0.7856\n\u001b[1m317/317\u001b[0m \u001b[32m━━━━━━━━━━━━━━━━━━━━\u001b[0m\u001b[37m\u001b[0m \u001b[1m41s\u001b[0m 129ms/step - accuracy: 0.7672 - loss: 0.8833 - top_3_accuracy: 0.9244 - val_accuracy: 0.7818 - val_loss: 0.7294 - val_top_3_accuracy: 0.9423 - learning_rate: 1.0000e-04\nEpoch 10/50\n\u001b[1m316/317\u001b[0m \u001b[32m━━━━━━━━━━━━━━━━━━━\u001b[0m\u001b[37m━\u001b[0m \u001b[1m0s\u001b[0m 82ms/step - accuracy: 0.8014 - loss: 0.8565 - top_3_accuracy: 0.9355\nEpoch 10: Validation F1 Score = 0.8190\n✅ F1 improved from 0.7882 to 0.8190. Saving model to best_model_f1.keras\n\u001b[1m317/317\u001b[0m \u001b[32m━━━━━━━━━━━━━━━━━━━━\u001b[0m\u001b[37m\u001b[0m \u001b[1m42s\u001b[0m 133ms/step - accuracy: 0.8014 - loss: 0.8565 - top_3_accuracy: 0.9355 - val_accuracy: 0.8158 - val_loss: 0.6002 - val_top_3_accuracy: 0.9569 - learning_rate: 1.0000e-04\nEpoch 11/50\n\u001b[1m316/317\u001b[0m \u001b[32m━━━━━━━━━━━━━━━━━━━\u001b[0m\u001b[37m━\u001b[0m \u001b[1m0s\u001b[0m 84ms/step - accuracy: 0.8057 - loss: 0.8185 - top_3_accuracy: 0.9420\nEpoch 11: Validation F1 Score = 0.8052\n\u001b[1m317/317\u001b[0m \u001b[32m━━━━━━━━━━━━━━━━━━━━\u001b[0m\u001b[37m\u001b[0m \u001b[1m42s\u001b[0m 130ms/step - accuracy: 0.8058 - loss: 0.8184 - top_3_accuracy: 0.9420 - val_accuracy: 0.8020 - val_loss: 0.6756 - val_top_3_accuracy: 0.9498 - learning_rate: 1.0000e-04\nEpoch 12/50\n\u001b[1m316/317\u001b[0m \u001b[32m━━━━━━━━━━━━━━━━━━━\u001b[0m\u001b[37m━\u001b[0m \u001b[1m0s\u001b[0m 83ms/step - accuracy: 0.8389 - loss: 0.7391 - top_3_accuracy: 0.9540\nEpoch 12: Validation F1 Score = 0.8435\n✅ F1 improved from 0.8190 to 0.8435. Saving model to best_model_f1.keras\n\u001b[1m317/317\u001b[0m \u001b[32m━━━━━━━━━━━━━━━━━━━━\u001b[0m\u001b[37m\u001b[0m \u001b[1m43s\u001b[0m 133ms/step - accuracy: 0.8388 - loss: 0.7392 - top_3_accuracy: 0.9540 - val_accuracy: 0.8423 - val_loss: 0.5355 - val_top_3_accuracy: 0.9585 - learning_rate: 1.0000e-04\nEpoch 13/50\n\u001b[1m316/317\u001b[0m \u001b[32m━━━━━━━━━━━━━━━━━━━\u001b[0m\u001b[37m━\u001b[0m \u001b[1m0s\u001b[0m 83ms/step - accuracy: 0.8409 - loss: 0.7752 - top_3_accuracy: 0.9566\nEpoch 13: Validation F1 Score = 0.8451\n✅ F1 improved from 0.8435 to 0.8451. Saving model to best_model_f1.keras\n\u001b[1m317/317\u001b[0m \u001b[32m━━━━━━━━━━━━━━━━━━━━\u001b[0m\u001b[37m\u001b[0m \u001b[1m43s\u001b[0m 133ms/step - accuracy: 0.8409 - loss: 0.7751 - top_3_accuracy: 0.9566 - val_accuracy: 0.8423 - val_loss: 0.5187 - val_top_3_accuracy: 0.9684 - learning_rate: 1.0000e-04\nEpoch 14/50\n\u001b[1m316/317\u001b[0m \u001b[32m━━━━━━━━━━━━━━━━━━━\u001b[0m\u001b[37m━\u001b[0m \u001b[1m0s\u001b[0m 81ms/step - accuracy: 0.8489 - loss: 0.7415 - top_3_accuracy: 0.9547\nEpoch 14: Validation F1 Score = 0.8419\n\u001b[1m317/317\u001b[0m \u001b[32m━━━━━━━━━━━━━━━━━━━━\u001b[0m\u001b[37m\u001b[0m \u001b[1m41s\u001b[0m 127ms/step - accuracy: 0.8489 - loss: 0.7414 - top_3_accuracy: 0.9548 - val_accuracy: 0.8403 - val_loss: 0.5179 - val_top_3_accuracy: 0.9609 - learning_rate: 1.0000e-04\nEpoch 15/50\n\u001b[1m316/317\u001b[0m \u001b[32m━━━━━━━━━━━━━━━━━━━\u001b[0m\u001b[37m━\u001b[0m \u001b[1m0s\u001b[0m 82ms/step - accuracy: 0.8533 - loss: 0.7419 - top_3_accuracy: 0.9586\nEpoch 15: Validation F1 Score = 0.8341\n\u001b[1m317/317\u001b[0m \u001b[32m━━━━━━━━━━━━━━━━━━━━\u001b[0m\u001b[37m\u001b[0m \u001b[1m41s\u001b[0m 128ms/step - accuracy: 0.8534 - loss: 0.7418 - top_3_accuracy: 0.9586 - val_accuracy: 0.8328 - val_loss: 0.5233 - val_top_3_accuracy: 0.9644 - learning_rate: 1.0000e-04\nEpoch 16/50\n\u001b[1m316/317\u001b[0m \u001b[32m━━━━━━━━━━━━━━━━━━━\u001b[0m\u001b[37m━\u001b[0m \u001b[1m0s\u001b[0m 83ms/step - accuracy: 0.8682 - loss: 0.6925 - top_3_accuracy: 0.9672\nEpoch 16: Validation F1 Score = 0.8694\n✅ F1 improved from 0.8451 to 0.8694. Saving model to best_model_f1.keras\n\u001b[1m317/317\u001b[0m \u001b[32m━━━━━━━━━━━━━━━━━━━━\u001b[0m\u001b[37m\u001b[0m \u001b[1m43s\u001b[0m 134ms/step - accuracy: 0.8682 - loss: 0.6925 - top_3_accuracy: 0.9673 - val_accuracy: 0.8696 - val_loss: 0.4223 - val_top_3_accuracy: 0.9688 - learning_rate: 1.0000e-04\nEpoch 17/50\n\u001b[1m316/317\u001b[0m \u001b[32m━━━━━━━━━━━━━━━━━━━\u001b[0m\u001b[37m━\u001b[0m \u001b[1m0s\u001b[0m 83ms/step - accuracy: 0.8680 - loss: 0.6922 - top_3_accuracy: 0.9662\nEpoch 17: Validation F1 Score = 0.8515\n\u001b[1m317/317\u001b[0m \u001b[32m━━━━━━━━━━━━━━━━━━━━\u001b[0m\u001b[37m\u001b[0m \u001b[1m41s\u001b[0m 129ms/step - accuracy: 0.8680 - loss: 0.6922 - top_3_accuracy: 0.9662 - val_accuracy: 0.8506 - val_loss: 0.4498 - val_top_3_accuracy: 0.9739 - learning_rate: 1.0000e-04\nEpoch 18/50\n\u001b[1m316/317\u001b[0m \u001b[32m━━━━━━━━━━━━━━━━━━━\u001b[0m\u001b[37m━\u001b[0m \u001b[1m0s\u001b[0m 81ms/step - accuracy: 0.8790 - loss: 0.6432 - top_3_accuracy: 0.9700\nEpoch 18: ReduceLROnPlateau reducing learning rate to 2.9999999242136255e-05.\n\nEpoch 18: Validation F1 Score = 0.8622\n\u001b[1m317/317\u001b[0m \u001b[32m━━━━━━━━━━━━━━━━━━━━\u001b[0m\u001b[37m\u001b[0m \u001b[1m41s\u001b[0m 127ms/step - accuracy: 0.8790 - loss: 0.6433 - top_3_accuracy: 0.9700 - val_accuracy: 0.8605 - val_loss: 0.4377 - val_top_3_accuracy: 0.9731 - learning_rate: 1.0000e-04\nEpoch 19/50\n\u001b[1m316/317\u001b[0m \u001b[32m━━━━━━━━━━━━━━━━━━━\u001b[0m\u001b[37m━\u001b[0m \u001b[1m0s\u001b[0m 83ms/step - accuracy: 0.8866 - loss: 0.6482 - top_3_accuracy: 0.9723\nEpoch 19: Validation F1 Score = 0.8965\n✅ F1 improved from 0.8694 to 0.8965. Saving model to best_model_f1.keras\n\u001b[1m317/317\u001b[0m \u001b[32m━━━━━━━━━━━━━━━━━━━━\u001b[0m\u001b[37m\u001b[0m \u001b[1m42s\u001b[0m 132ms/step - accuracy: 0.8867 - loss: 0.6480 - top_3_accuracy: 0.9723 - val_accuracy: 0.8964 - val_loss: 0.3376 - val_top_3_accuracy: 0.9798 - learning_rate: 3.0000e-05\nEpoch 20/50\n\u001b[1m316/317\u001b[0m \u001b[32m━━━━━━━━━━━━━━━━━━━\u001b[0m\u001b[37m━\u001b[0m \u001b[1m0s\u001b[0m 81ms/step - accuracy: 0.9098 - loss: 0.6262 - top_3_accuracy: 0.9761\nEpoch 20: Validation F1 Score = 0.9050\n✅ F1 improved from 0.8965 to 0.9050. Saving model to best_model_f1.keras\n\u001b[1m317/317\u001b[0m \u001b[32m━━━━━━━━━━━━━━━━━━━━\u001b[0m\u001b[37m\u001b[0m \u001b[1m42s\u001b[0m 130ms/step - accuracy: 0.9098 - loss: 0.6261 - top_3_accuracy: 0.9761 - val_accuracy: 0.9051 - val_loss: 0.3210 - val_top_3_accuracy: 0.9806 - learning_rate: 3.0000e-05\nEpoch 21/50\n\u001b[1m316/317\u001b[0m \u001b[32m━━━━━━━━━━━━━━━━━━━\u001b[0m\u001b[37m━\u001b[0m \u001b[1m0s\u001b[0m 81ms/step - accuracy: 0.9138 - loss: 0.5937 - top_3_accuracy: 0.9766\nEpoch 21: Validation F1 Score = 0.9092\n✅ F1 improved from 0.9050 to 0.9092. Saving model to best_model_f1.keras\n\u001b[1m317/317\u001b[0m \u001b[32m━━━━━━━━━━━━━━━━━━━━\u001b[0m\u001b[37m\u001b[0m \u001b[1m42s\u001b[0m 131ms/step - accuracy: 0.9138 - loss: 0.5937 - top_3_accuracy: 0.9766 - val_accuracy: 0.9091 - val_loss: 0.3141 - val_top_3_accuracy: 0.9826 - learning_rate: 3.0000e-05\nEpoch 22/50\n\u001b[1m316/317\u001b[0m \u001b[32m━━━━━━━━━━━━━━━━━━━\u001b[0m\u001b[37m━\u001b[0m \u001b[1m0s\u001b[0m 81ms/step - accuracy: 0.9219 - loss: 0.5791 - top_3_accuracy: 0.9797\nEpoch 22: Validation F1 Score = 0.9069\n\u001b[1m317/317\u001b[0m \u001b[32m━━━━━━━━━━━━━━━━━━━━\u001b[0m\u001b[37m\u001b[0m \u001b[1m40s\u001b[0m 126ms/step - accuracy: 0.9219 - loss: 0.5791 - top_3_accuracy: 0.9797 - val_accuracy: 0.9071 - val_loss: 0.3046 - val_top_3_accuracy: 0.9854 - learning_rate: 3.0000e-05\nEpoch 23/50\n\u001b[1m316/317\u001b[0m \u001b[32m━━━━━━━━━━━━━━━━━━━\u001b[0m\u001b[37m━\u001b[0m \u001b[1m0s\u001b[0m 82ms/step - accuracy: 0.9148 - loss: 0.6107 - top_3_accuracy: 0.9770\nEpoch 23: Validation F1 Score = 0.9151\n✅ F1 improved from 0.9092 to 0.9151. Saving model to best_model_f1.keras\n\u001b[1m317/317\u001b[0m \u001b[32m━━━━━━━━━━━━━━━━━━━━\u001b[0m\u001b[37m\u001b[0m \u001b[1m42s\u001b[0m 131ms/step - accuracy: 0.9148 - loss: 0.6106 - top_3_accuracy: 0.9770 - val_accuracy: 0.9154 - val_loss: 0.2876 - val_top_3_accuracy: 0.9834 - learning_rate: 3.0000e-05\nEpoch 24/50\n\u001b[1m316/317\u001b[0m \u001b[32m━━━━━━━━━━━━━━━━━━━\u001b[0m\u001b[37m━\u001b[0m \u001b[1m0s\u001b[0m 82ms/step - accuracy: 0.9166 - loss: 0.5800 - top_3_accuracy: 0.9770\nEpoch 24: Validation F1 Score = 0.9118\n\u001b[1m317/317\u001b[0m \u001b[32m━━━━━━━━━━━━━━━━━━━━\u001b[0m\u001b[37m\u001b[0m \u001b[1m41s\u001b[0m 128ms/step - accuracy: 0.9167 - loss: 0.5800 - top_3_accuracy: 0.9770 - val_accuracy: 0.9119 - val_loss: 0.2951 - val_top_3_accuracy: 0.9822 - learning_rate: 3.0000e-05\nEpoch 25/50\n\u001b[1m316/317\u001b[0m \u001b[32m━━━━━━━━━━━━━━━━━━━\u001b[0m\u001b[37m━\u001b[0m \u001b[1m0s\u001b[0m 81ms/step - accuracy: 0.9215 - loss: 0.5776 - top_3_accuracy: 0.9793\nEpoch 25: ReduceLROnPlateau reducing learning rate to 8.999999772640877e-06.\n\nEpoch 25: Validation F1 Score = 0.9138\n\u001b[1m317/317\u001b[0m \u001b[32m━━━━━━━━━━━━━━━━━━━━\u001b[0m\u001b[37m\u001b[0m \u001b[1m40s\u001b[0m 126ms/step - accuracy: 0.9215 - loss: 0.5776 - top_3_accuracy: 0.9793 - val_accuracy: 0.9134 - val_loss: 0.2969 - val_top_3_accuracy: 0.9838 - learning_rate: 3.0000e-05\nEpoch 26/50\n\u001b[1m316/317\u001b[0m \u001b[32m━━━━━━━━━━━━━━━━━━━\u001b[0m\u001b[37m━\u001b[0m \u001b[1m0s\u001b[0m 82ms/step - accuracy: 0.9286 - loss: 0.5502 - top_3_accuracy: 0.9813\nEpoch 26: Validation F1 Score = 0.9169\n✅ F1 improved from 0.9151 to 0.9169. Saving model to best_model_f1.keras\n\u001b[1m317/317\u001b[0m \u001b[32m━━━━━━━━━━━━━━━━━━━━\u001b[0m\u001b[37m\u001b[0m \u001b[1m42s\u001b[0m 132ms/step - accuracy: 0.9286 - loss: 0.5503 - top_3_accuracy: 0.9813 - val_accuracy: 0.9170 - val_loss: 0.2866 - val_top_3_accuracy: 0.9822 - learning_rate: 9.0000e-06\nEpoch 27/50\n\u001b[1m316/317\u001b[0m \u001b[32m━━━━━━━━━━━━━━━━━━━\u001b[0m\u001b[37m━\u001b[0m \u001b[1m0s\u001b[0m 82ms/step - accuracy: 0.9284 - loss: 0.5908 - top_3_accuracy: 0.9808\nEpoch 27: Validation F1 Score = 0.9181\n✅ F1 improved from 0.9169 to 0.9181. Saving model to best_model_f1.keras\n\u001b[1m317/317\u001b[0m \u001b[32m━━━━━━━━━━━━━━━━━━━━\u001b[0m\u001b[37m\u001b[0m \u001b[1m42s\u001b[0m 131ms/step - accuracy: 0.9284 - loss: 0.5906 - top_3_accuracy: 0.9808 - val_accuracy: 0.9182 - val_loss: 0.2855 - val_top_3_accuracy: 0.9846 - learning_rate: 9.0000e-06\nEpoch 28/50\n\u001b[1m316/317\u001b[0m \u001b[32m━━━━━━━━━━━━━━━━━━━\u001b[0m\u001b[37m━\u001b[0m \u001b[1m0s\u001b[0m 82ms/step - accuracy: 0.9345 - loss: 0.5783 - top_3_accuracy: 0.9789\nEpoch 28: Validation F1 Score = 0.9193\n✅ F1 improved from 0.9181 to 0.9193. Saving model to best_model_f1.keras\n\u001b[1m317/317\u001b[0m \u001b[32m━━━━━━━━━━━━━━━━━━━━\u001b[0m\u001b[37m\u001b[0m \u001b[1m42s\u001b[0m 131ms/step - accuracy: 0.9345 - loss: 0.5782 - top_3_accuracy: 0.9789 - val_accuracy: 0.9194 - val_loss: 0.2883 - val_top_3_accuracy: 0.9838 - learning_rate: 9.0000e-06\nEpoch 29/50\n\u001b[1m316/317\u001b[0m \u001b[32m━━━━━━━━━━━━━━━━━━━\u001b[0m\u001b[37m━\u001b[0m \u001b[1m0s\u001b[0m 81ms/step - accuracy: 0.9226 - loss: 0.5878 - top_3_accuracy: 0.9790\nEpoch 29: Validation F1 Score = 0.9164\n\u001b[1m317/317\u001b[0m \u001b[32m━━━━━━━━━━━━━━━━━━━━\u001b[0m\u001b[37m\u001b[0m \u001b[1m40s\u001b[0m 126ms/step - accuracy: 0.9226 - loss: 0.5876 - top_3_accuracy: 0.9790 - val_accuracy: 0.9166 - val_loss: 0.2837 - val_top_3_accuracy: 0.9854 - learning_rate: 9.0000e-06\nEpoch 30/50\n\u001b[1m316/317\u001b[0m \u001b[32m━━━━━━━━━━━━━━━━━━━\u001b[0m\u001b[37m━\u001b[0m \u001b[1m0s\u001b[0m 82ms/step - accuracy: 0.9332 - loss: 0.5636 - top_3_accuracy: 0.9827\nEpoch 30: Validation F1 Score = 0.9198\n✅ F1 improved from 0.9193 to 0.9198. Saving model to best_model_f1.keras\n\u001b[1m317/317\u001b[0m \u001b[32m━━━━━━━━━━━━━━━━━━━━\u001b[0m\u001b[37m\u001b[0m \u001b[1m42s\u001b[0m 130ms/step - accuracy: 0.9332 - loss: 0.5637 - top_3_accuracy: 0.9827 - val_accuracy: 0.9198 - val_loss: 0.2855 - val_top_3_accuracy: 0.9850 - learning_rate: 9.0000e-06\nEpoch 31/50\n\u001b[1m316/317\u001b[0m \u001b[32m━━━━━━━━━━━━━━━━━━━\u001b[0m\u001b[37m━\u001b[0m \u001b[1m0s\u001b[0m 82ms/step - accuracy: 0.9342 - loss: 0.5708 - top_3_accuracy: 0.9832\nEpoch 31: ReduceLROnPlateau reducing learning rate to 2.6999998226528985e-06.\n\nEpoch 31: Validation F1 Score = 0.9184\n\u001b[1m317/317\u001b[0m \u001b[32m━━━━━━━━━━━━━━━━━━━━\u001b[0m\u001b[37m\u001b[0m \u001b[1m40s\u001b[0m 126ms/step - accuracy: 0.9342 - loss: 0.5709 - top_3_accuracy: 0.9832 - val_accuracy: 0.9186 - val_loss: 0.2843 - val_top_3_accuracy: 0.9850 - learning_rate: 9.0000e-06\nEpoch 32/50\n\u001b[1m316/317\u001b[0m \u001b[32m━━━━━━━━━━━━━━━━━━━\u001b[0m\u001b[37m━\u001b[0m \u001b[1m0s\u001b[0m 82ms/step - accuracy: 0.9390 - loss: 0.5567 - top_3_accuracy: 0.9840\nEpoch 32: Validation F1 Score = 0.9188\n\u001b[1m317/317\u001b[0m \u001b[32m━━━━━━━━━━━━━━━━━━━━\u001b[0m\u001b[37m\u001b[0m \u001b[1m41s\u001b[0m 127ms/step - accuracy: 0.9389 - loss: 0.5567 - top_3_accuracy: 0.9840 - val_accuracy: 0.9190 - val_loss: 0.2858 - val_top_3_accuracy: 0.9830 - learning_rate: 2.7000e-06\nEpoch 33/50\n\u001b[1m316/317\u001b[0m \u001b[32m━━━━━━━━━━━━━━━━━━━\u001b[0m\u001b[37m━\u001b[0m \u001b[1m0s\u001b[0m 81ms/step - accuracy: 0.9396 - loss: 0.5428 - top_3_accuracy: 0.9855\nEpoch 33: Validation F1 Score = 0.9181\n\u001b[1m317/317\u001b[0m \u001b[32m━━━━━━━━━━━━━━━━━━━━\u001b[0m\u001b[37m\u001b[0m \u001b[1m40s\u001b[0m 126ms/step - accuracy: 0.9396 - loss: 0.5428 - top_3_accuracy: 0.9855 - val_accuracy: 0.9182 - val_loss: 0.2833 - val_top_3_accuracy: 0.9838 - learning_rate: 2.7000e-06\nEpoch 34/50\n\u001b[1m316/317\u001b[0m \u001b[32m━━━━━━━━━━━━━━━━━━━\u001b[0m\u001b[37m━\u001b[0m \u001b[1m0s\u001b[0m 81ms/step - accuracy: 0.9328 - loss: 0.5638 - top_3_accuracy: 0.9808\nEpoch 34: Validation F1 Score = 0.9180\n\u001b[1m317/317\u001b[0m \u001b[32m━━━━━━━━━━━━━━━━━━━━\u001b[0m\u001b[37m\u001b[0m \u001b[1m41s\u001b[0m 125ms/step - accuracy: 0.9328 - loss: 0.5638 - top_3_accuracy: 0.9808 - val_accuracy: 0.9182 - val_loss: 0.2834 - val_top_3_accuracy: 0.9858 - learning_rate: 2.7000e-06\nEpoch 35/50\n\u001b[1m316/317\u001b[0m \u001b[32m━━━━━━━━━━━━━━━━━━━\u001b[0m\u001b[37m━\u001b[0m \u001b[1m0s\u001b[0m 83ms/step - accuracy: 0.9364 - loss: 0.5750 - top_3_accuracy: 0.9817\nEpoch 35: Validation F1 Score = 0.9204\n✅ F1 improved from 0.9198 to 0.9204. Saving model to best_model_f1.keras\n\u001b[1m317/317\u001b[0m \u001b[32m━━━━━━━━━━━━━━━━━━━━\u001b[0m\u001b[37m\u001b[0m \u001b[1m42s\u001b[0m 133ms/step - accuracy: 0.9364 - loss: 0.5749 - top_3_accuracy: 0.9817 - val_accuracy: 0.9206 - val_loss: 0.2784 - val_top_3_accuracy: 0.9862 - learning_rate: 2.7000e-06\nEpoch 36/50\n\u001b[1m316/317\u001b[0m \u001b[32m━━━━━━━━━━━━━━━━━━━\u001b[0m\u001b[37m━\u001b[0m \u001b[1m0s\u001b[0m 81ms/step - accuracy: 0.9376 - loss: 0.5517 - top_3_accuracy: 0.9839\nEpoch 36: Validation F1 Score = 0.9192\n\u001b[1m317/317\u001b[0m \u001b[32m━━━━━━━━━━━━━━━━━━━━\u001b[0m\u001b[37m\u001b[0m \u001b[1m40s\u001b[0m 125ms/step - accuracy: 0.9376 - loss: 0.5517 - top_3_accuracy: 0.9839 - val_accuracy: 0.9194 - val_loss: 0.2787 - val_top_3_accuracy: 0.9854 - learning_rate: 2.7000e-06\nEpoch 37/50\n\u001b[1m316/317\u001b[0m \u001b[32m━━━━━━━━━━━━━━━━━━━\u001b[0m\u001b[37m━\u001b[0m \u001b[1m0s\u001b[0m 83ms/step - accuracy: 0.9291 - loss: 0.5737 - top_3_accuracy: 0.9814\nEpoch 37: ReduceLROnPlateau reducing learning rate to 8.099999604382901e-07.\n\nEpoch 37: Validation F1 Score = 0.9204\n\u001b[1m317/317\u001b[0m \u001b[32m━━━━━━━━━━━━━━━━━━━━\u001b[0m\u001b[37m\u001b[0m \u001b[1m41s\u001b[0m 128ms/step - accuracy: 0.9291 - loss: 0.5736 - top_3_accuracy: 0.9814 - val_accuracy: 0.9206 - val_loss: 0.2817 - val_top_3_accuracy: 0.9854 - learning_rate: 2.7000e-06\nEpoch 38/50\n\u001b[1m316/317\u001b[0m \u001b[32m━━━━━━━━━━━━━━━━━━━\u001b[0m\u001b[37m━\u001b[0m \u001b[1m0s\u001b[0m 82ms/step - accuracy: 0.9354 - loss: 0.5581 - top_3_accuracy: 0.9820\nEpoch 38: Validation F1 Score = 0.9197\n\u001b[1m317/317\u001b[0m \u001b[32m━━━━━━━━━━━━━━━━━━━━\u001b[0m\u001b[37m\u001b[0m \u001b[1m41s\u001b[0m 128ms/step - accuracy: 0.9354 - loss: 0.5581 - top_3_accuracy: 0.9820 - val_accuracy: 0.9198 - val_loss: 0.2821 - val_top_3_accuracy: 0.9854 - learning_rate: 8.1000e-07\nEpoch 39/50\n\u001b[1m316/317\u001b[0m \u001b[32m━━━━━━━━━━━━━━━━━━━\u001b[0m\u001b[37m━\u001b[0m \u001b[1m0s\u001b[0m 81ms/step - accuracy: 0.9349 - loss: 0.5570 - top_3_accuracy: 0.9843\nEpoch 39: ReduceLROnPlateau reducing learning rate to 2.4299998813148704e-07.\n\nEpoch 39: Validation F1 Score = 0.9197\n\u001b[1m317/317\u001b[0m \u001b[32m━━━━━━━━━━━━━━━━━━━━\u001b[0m\u001b[37m\u001b[0m \u001b[1m40s\u001b[0m 125ms/step - accuracy: 0.9349 - loss: 0.5570 - top_3_accuracy: 0.9843 - val_accuracy: 0.9198 - val_loss: 0.2808 - val_top_3_accuracy: 0.9858 - learning_rate: 8.1000e-07\nEpoch 40/50\n\u001b[1m316/317\u001b[0m \u001b[32m━━━━━━━━━━━━━━━━━━━\u001b[0m\u001b[37m━\u001b[0m \u001b[1m0s\u001b[0m 82ms/step - accuracy: 0.9397 - loss: 0.5443 - top_3_accuracy: 0.9824\nEpoch 40: Validation F1 Score = 0.9196\n\u001b[1m317/317\u001b[0m \u001b[32m━━━━━━━━━━━━━━━━━━━━\u001b[0m\u001b[37m\u001b[0m \u001b[1m41s\u001b[0m 127ms/step - accuracy: 0.9397 - loss: 0.5443 - top_3_accuracy: 0.9824 - val_accuracy: 0.9198 - val_loss: 0.2806 - val_top_3_accuracy: 0.9858 - learning_rate: 2.4300e-07\n",
          "output_type": "stream"
        }
      ],
      "execution_count": null
    },
    {
      "cell_type": "code",
      "source": [
        "# ==== Evaluation ====\n",
        "y_true, y_pred, top3_correct = [], [], 0\n",
        "\n",
        "for X_batch, y_batch in val_loader:\n",
        "    y_true.extend(np.argmax(y_batch, axis=1))\n",
        "    preds = model.predict(X_batch)\n",
        "    y_pred.extend(np.argmax(preds, axis=1))\n",
        "\n",
        "    top3 = np.argsort(preds, axis=1)[:, -3:]\n",
        "    for j in range(len(y_batch)):\n",
        "        if np.argmax(y_batch[j]) in top3[j]:\n",
        "            top3_correct += 1\n",
        "\n",
        "val_acc = accuracy_score(y_true, y_pred)\n",
        "top3_acc = top3_correct / len(y_true)\n",
        "f1 = f1_score(y_true, y_pred, average='weighted')\n",
        "prec = precision_score(y_true, y_pred, average='weighted')\n",
        "recall = recall_score(y_true, y_pred, average='weighted')\n",
        "\n",
        "print(f\"Final Eval - Top-1 Acc: {val_acc:.4f} | Top-3 Acc: {top3_acc:.4f} | F1: {f1:.4f} | Prec: {prec:.4f} | Recall: {recall:.4f}\")"
      ],
      "metadata": {
        "colab": {
          "base_uri": "https://localhost:8080/"
        },
        "id": "-NxqmOrt_YxJ",
        "outputId": "3a777da0-5ed2-48d8-81ea-320815d36b32",
        "trusted": true,
        "execution": {
          "iopub.status.busy": "2025-07-02T17:25:37.632225Z",
          "iopub.execute_input": "2025-07-02T17:25:37.632485Z",
          "iopub.status.idle": "2025-07-02T17:25:49.934427Z",
          "shell.execute_reply.started": "2025-07-02T17:25:37.632468Z",
          "shell.execute_reply": "2025-07-02T17:25:49.933781Z"
        }
      },
      "outputs": [
        {
          "name": "stdout",
          "text": "\u001b[1m1/1\u001b[0m \u001b[32m━━━━━━━━━━━━━━━━━━━━\u001b[0m\u001b[37m\u001b[0m \u001b[1m0s\u001b[0m 96ms/step\n\u001b[1m1/1\u001b[0m \u001b[32m━━━━━━━━━━━━━━━━━━━━\u001b[0m\u001b[37m\u001b[0m \u001b[1m0s\u001b[0m 82ms/step\n\u001b[1m1/1\u001b[0m \u001b[32m━━━━━━━━━━━━━━━━━━━━\u001b[0m\u001b[37m\u001b[0m \u001b[1m0s\u001b[0m 82ms/step\n\u001b[1m1/1\u001b[0m \u001b[32m━━━━━━━━━━━━━━━━━━━━\u001b[0m\u001b[37m\u001b[0m \u001b[1m0s\u001b[0m 82ms/step\n\u001b[1m1/1\u001b[0m \u001b[32m━━━━━━━━━━━━━━━━━━━━\u001b[0m\u001b[37m\u001b[0m \u001b[1m0s\u001b[0m 82ms/step\n\u001b[1m1/1\u001b[0m \u001b[32m━━━━━━━━━━━━━━━━━━━━\u001b[0m\u001b[37m\u001b[0m \u001b[1m0s\u001b[0m 82ms/step\n\u001b[1m1/1\u001b[0m \u001b[32m━━━━━━━━━━━━━━━━━━━━\u001b[0m\u001b[37m\u001b[0m \u001b[1m0s\u001b[0m 82ms/step\n\u001b[1m1/1\u001b[0m \u001b[32m━━━━━━━━━━━━━━━━━━━━\u001b[0m\u001b[37m\u001b[0m \u001b[1m0s\u001b[0m 96ms/step\n\u001b[1m1/1\u001b[0m \u001b[32m━━━━━━━━━━━━━━━━━━━━\u001b[0m\u001b[37m\u001b[0m \u001b[1m0s\u001b[0m 90ms/step\n\u001b[1m1/1\u001b[0m \u001b[32m━━━━━━━━━━━━━━━━━━━━\u001b[0m\u001b[37m\u001b[0m \u001b[1m0s\u001b[0m 85ms/step\n\u001b[1m1/1\u001b[0m \u001b[32m━━━━━━━━━━━━━━━━━━━━\u001b[0m\u001b[37m\u001b[0m \u001b[1m0s\u001b[0m 89ms/step\n\u001b[1m1/1\u001b[0m \u001b[32m━━━━━━━━━━━━━━━━━━━━\u001b[0m\u001b[37m\u001b[0m \u001b[1m0s\u001b[0m 88ms/step\n\u001b[1m1/1\u001b[0m \u001b[32m━━━━━━━━━━━━━━━━━━━━\u001b[0m\u001b[37m\u001b[0m \u001b[1m0s\u001b[0m 88ms/step\n\u001b[1m1/1\u001b[0m \u001b[32m━━━━━━━━━━━━━━━━━━━━\u001b[0m\u001b[37m\u001b[0m \u001b[1m0s\u001b[0m 88ms/step\n\u001b[1m1/1\u001b[0m \u001b[32m━━━━━━━━━━━━━━━━━━━━\u001b[0m\u001b[37m\u001b[0m \u001b[1m0s\u001b[0m 89ms/step\n\u001b[1m1/1\u001b[0m \u001b[32m━━━━━━━━━━━━━━━━━━━━\u001b[0m\u001b[37m\u001b[0m \u001b[1m0s\u001b[0m 87ms/step\n\u001b[1m1/1\u001b[0m \u001b[32m━━━━━━━━━━━━━━━━━━━━\u001b[0m\u001b[37m\u001b[0m \u001b[1m0s\u001b[0m 84ms/step\n\u001b[1m1/1\u001b[0m \u001b[32m━━━━━━━━━━━━━━━━━━━━\u001b[0m\u001b[37m\u001b[0m \u001b[1m0s\u001b[0m 81ms/step\n\u001b[1m1/1\u001b[0m \u001b[32m━━━━━━━━━━━━━━━━━━━━\u001b[0m\u001b[37m\u001b[0m \u001b[1m0s\u001b[0m 82ms/step\n\u001b[1m1/1\u001b[0m \u001b[32m━━━━━━━━━━━━━━━━━━━━\u001b[0m\u001b[37m\u001b[0m \u001b[1m0s\u001b[0m 82ms/step\n\u001b[1m1/1\u001b[0m \u001b[32m━━━━━━━━━━━━━━━━━━━━\u001b[0m\u001b[37m\u001b[0m \u001b[1m0s\u001b[0m 82ms/step\n\u001b[1m1/1\u001b[0m \u001b[32m━━━━━━━━━━━━━━━━━━━━\u001b[0m\u001b[37m\u001b[0m \u001b[1m0s\u001b[0m 82ms/step\n\u001b[1m1/1\u001b[0m \u001b[32m━━━━━━━━━━━━━━━━━━━━\u001b[0m\u001b[37m\u001b[0m \u001b[1m0s\u001b[0m 81ms/step\n\u001b[1m1/1\u001b[0m \u001b[32m━━━━━━━━━━━━━━━━━━━━\u001b[0m\u001b[37m\u001b[0m \u001b[1m0s\u001b[0m 80ms/step\n\u001b[1m1/1\u001b[0m \u001b[32m━━━━━━━━━━━━━━━━━━━━\u001b[0m\u001b[37m\u001b[0m \u001b[1m0s\u001b[0m 84ms/step\n\u001b[1m1/1\u001b[0m \u001b[32m━━━━━━━━━━━━━━━━━━━━\u001b[0m\u001b[37m\u001b[0m \u001b[1m0s\u001b[0m 83ms/step\n\u001b[1m1/1\u001b[0m \u001b[32m━━━━━━━━━━━━━━━━━━━━\u001b[0m\u001b[37m\u001b[0m \u001b[1m0s\u001b[0m 84ms/step\n\u001b[1m1/1\u001b[0m \u001b[32m━━━━━━━━━━━━━━━━━━━━\u001b[0m\u001b[37m\u001b[0m \u001b[1m0s\u001b[0m 83ms/step\n\u001b[1m1/1\u001b[0m \u001b[32m━━━━━━━━━━━━━━━━━━━━\u001b[0m\u001b[37m\u001b[0m \u001b[1m0s\u001b[0m 85ms/step\n\u001b[1m1/1\u001b[0m \u001b[32m━━━━━━━━━━━━━━━━━━━━\u001b[0m\u001b[37m\u001b[0m \u001b[1m0s\u001b[0m 85ms/step\n\u001b[1m1/1\u001b[0m \u001b[32m━━━━━━━━━━━━━━━━━━━━\u001b[0m\u001b[37m\u001b[0m \u001b[1m0s\u001b[0m 86ms/step\n\u001b[1m1/1\u001b[0m \u001b[32m━━━━━━━━━━━━━━━━━━━━\u001b[0m\u001b[37m\u001b[0m \u001b[1m0s\u001b[0m 88ms/step\n\u001b[1m1/1\u001b[0m \u001b[32m━━━━━━━━━━━━━━━━━━━━\u001b[0m\u001b[37m\u001b[0m \u001b[1m0s\u001b[0m 92ms/step\n\u001b[1m1/1\u001b[0m \u001b[32m━━━━━━━━━━━━━━━━━━━━\u001b[0m\u001b[37m\u001b[0m \u001b[1m0s\u001b[0m 84ms/step\n\u001b[1m1/1\u001b[0m \u001b[32m━━━━━━━━━━━━━━━━━━━━\u001b[0m\u001b[37m\u001b[0m \u001b[1m0s\u001b[0m 83ms/step\n\u001b[1m1/1\u001b[0m \u001b[32m━━━━━━━━━━━━━━━━━━━━\u001b[0m\u001b[37m\u001b[0m \u001b[1m0s\u001b[0m 84ms/step\n\u001b[1m1/1\u001b[0m \u001b[32m━━━━━━━━━━━━━━━━━━━━\u001b[0m\u001b[37m\u001b[0m \u001b[1m0s\u001b[0m 84ms/step\n\u001b[1m1/1\u001b[0m \u001b[32m━━━━━━━━━━━━━━━━━━━━\u001b[0m\u001b[37m\u001b[0m \u001b[1m0s\u001b[0m 84ms/step\n\u001b[1m1/1\u001b[0m \u001b[32m━━━━━━━━━━━━━━━━━━━━\u001b[0m\u001b[37m\u001b[0m \u001b[1m0s\u001b[0m 83ms/step\n\u001b[1m1/1\u001b[0m \u001b[32m━━━━━━━━━━━━━━━━━━━━\u001b[0m\u001b[37m\u001b[0m \u001b[1m0s\u001b[0m 84ms/step\n\u001b[1m1/1\u001b[0m \u001b[32m━━━━━━━━━━━━━━━━━━━━\u001b[0m\u001b[37m\u001b[0m \u001b[1m0s\u001b[0m 85ms/step\n\u001b[1m1/1\u001b[0m \u001b[32m━━━━━━━━━━━━━━━━━━━━\u001b[0m\u001b[37m\u001b[0m \u001b[1m0s\u001b[0m 85ms/step\n\u001b[1m1/1\u001b[0m \u001b[32m━━━━━━━━━━━━━━━━━━━━\u001b[0m\u001b[37m\u001b[0m \u001b[1m0s\u001b[0m 85ms/step\n\u001b[1m1/1\u001b[0m \u001b[32m━━━━━━━━━━━━━━━━━━━━\u001b[0m\u001b[37m\u001b[0m \u001b[1m0s\u001b[0m 86ms/step\n\u001b[1m1/1\u001b[0m \u001b[32m━━━━━━━━━━━━━━━━━━━━\u001b[0m\u001b[37m\u001b[0m \u001b[1m0s\u001b[0m 84ms/step\n\u001b[1m1/1\u001b[0m \u001b[32m━━━━━━━━━━━━━━━━━━━━\u001b[0m\u001b[37m\u001b[0m \u001b[1m0s\u001b[0m 83ms/step\n\u001b[1m1/1\u001b[0m \u001b[32m━━━━━━━━━━━━━━━━━━━━\u001b[0m\u001b[37m\u001b[0m \u001b[1m0s\u001b[0m 84ms/step\n\u001b[1m1/1\u001b[0m \u001b[32m━━━━━━━━━━━━━━━━━━━━\u001b[0m\u001b[37m\u001b[0m \u001b[1m0s\u001b[0m 84ms/step\n\u001b[1m1/1\u001b[0m \u001b[32m━━━━━━━━━━━━━━━━━━━━\u001b[0m\u001b[37m\u001b[0m \u001b[1m0s\u001b[0m 83ms/step\n\u001b[1m1/1\u001b[0m \u001b[32m━━━━━━━━━━━━━━━━━━━━\u001b[0m\u001b[37m\u001b[0m \u001b[1m0s\u001b[0m 86ms/step\n\u001b[1m1/1\u001b[0m \u001b[32m━━━━━━━━━━━━━━━━━━━━\u001b[0m\u001b[37m\u001b[0m \u001b[1m0s\u001b[0m 87ms/step\n\u001b[1m1/1\u001b[0m \u001b[32m━━━━━━━━━━━━━━━━━━━━\u001b[0m\u001b[37m\u001b[0m \u001b[1m0s\u001b[0m 87ms/step\n\u001b[1m1/1\u001b[0m \u001b[32m━━━━━━━━━━━━━━━━━━━━\u001b[0m\u001b[37m\u001b[0m \u001b[1m0s\u001b[0m 84ms/step\n\u001b[1m1/1\u001b[0m \u001b[32m━━━━━━━━━━━━━━━━━━━━\u001b[0m\u001b[37m\u001b[0m \u001b[1m0s\u001b[0m 87ms/step\n\u001b[1m1/1\u001b[0m \u001b[32m━━━━━━━━━━━━━━━━━━━━\u001b[0m\u001b[37m\u001b[0m \u001b[1m0s\u001b[0m 84ms/step\n\u001b[1m1/1\u001b[0m \u001b[32m━━━━━━━━━━━━━━━━━━━━\u001b[0m\u001b[37m\u001b[0m \u001b[1m0s\u001b[0m 84ms/step\n\u001b[1m1/1\u001b[0m \u001b[32m━━━━━━━━━━━━━━━━━━━━\u001b[0m\u001b[37m\u001b[0m \u001b[1m0s\u001b[0m 83ms/step\n\u001b[1m1/1\u001b[0m \u001b[32m━━━━━━━━━━━━━━━━━━━━\u001b[0m\u001b[37m\u001b[0m \u001b[1m0s\u001b[0m 83ms/step\n\u001b[1m1/1\u001b[0m \u001b[32m━━━━━━━━━━━━━━━━━━━━\u001b[0m\u001b[37m\u001b[0m \u001b[1m0s\u001b[0m 84ms/step\n\u001b[1m1/1\u001b[0m \u001b[32m━━━━━━━━━━━━━━━━━━━━\u001b[0m\u001b[37m\u001b[0m \u001b[1m0s\u001b[0m 83ms/step\n\u001b[1m1/1\u001b[0m \u001b[32m━━━━━━━━━━━━━━━━━━━━\u001b[0m\u001b[37m\u001b[0m \u001b[1m0s\u001b[0m 86ms/step\n\u001b[1m1/1\u001b[0m \u001b[32m━━━━━━━━━━━━━━━━━━━━\u001b[0m\u001b[37m\u001b[0m \u001b[1m0s\u001b[0m 86ms/step\n\u001b[1m1/1\u001b[0m \u001b[32m━━━━━━━━━━━━━━━━━━━━\u001b[0m\u001b[37m\u001b[0m \u001b[1m0s\u001b[0m 83ms/step\n\u001b[1m1/1\u001b[0m \u001b[32m━━━━━━━━━━━━━━━━━━━━\u001b[0m\u001b[37m\u001b[0m \u001b[1m0s\u001b[0m 83ms/step\n\u001b[1m1/1\u001b[0m \u001b[32m━━━━━━━━━━━━━━━━━━━━\u001b[0m\u001b[37m\u001b[0m \u001b[1m0s\u001b[0m 84ms/step\n\u001b[1m1/1\u001b[0m \u001b[32m━━━━━━━━━━━━━━━━━━━━\u001b[0m\u001b[37m\u001b[0m \u001b[1m0s\u001b[0m 84ms/step\n\u001b[1m1/1\u001b[0m \u001b[32m━━━━━━━━━━━━━━━━━━━━\u001b[0m\u001b[37m\u001b[0m \u001b[1m0s\u001b[0m 84ms/step\n\u001b[1m1/1\u001b[0m \u001b[32m━━━━━━━━━━━━━━━━━━━━\u001b[0m\u001b[37m\u001b[0m \u001b[1m0s\u001b[0m 84ms/step\n\u001b[1m1/1\u001b[0m \u001b[32m━━━━━━━━━━━━━━━━━━━━\u001b[0m\u001b[37m\u001b[0m \u001b[1m0s\u001b[0m 84ms/step\n\u001b[1m1/1\u001b[0m \u001b[32m━━━━━━━━━━━━━━━━━━━━\u001b[0m\u001b[37m\u001b[0m \u001b[1m0s\u001b[0m 84ms/step\n\u001b[1m1/1\u001b[0m \u001b[32m━━━━━━━━━━━━━━━━━━━━\u001b[0m\u001b[37m\u001b[0m \u001b[1m0s\u001b[0m 85ms/step\n\u001b[1m1/1\u001b[0m \u001b[32m━━━━━━━━━━━━━━━━━━━━\u001b[0m\u001b[37m\u001b[0m \u001b[1m0s\u001b[0m 85ms/step\n\u001b[1m1/1\u001b[0m \u001b[32m━━━━━━━━━━━━━━━━━━━━\u001b[0m\u001b[37m\u001b[0m \u001b[1m0s\u001b[0m 82ms/step\n\u001b[1m1/1\u001b[0m \u001b[32m━━━━━━━━━━━━━━━━━━━━\u001b[0m\u001b[37m\u001b[0m \u001b[1m0s\u001b[0m 84ms/step\n\u001b[1m1/1\u001b[0m \u001b[32m━━━━━━━━━━━━━━━━━━━━\u001b[0m\u001b[37m\u001b[0m \u001b[1m0s\u001b[0m 83ms/step\n\u001b[1m1/1\u001b[0m \u001b[32m━━━━━━━━━━━━━━━━━━━━\u001b[0m\u001b[37m\u001b[0m \u001b[1m0s\u001b[0m 85ms/step\n\u001b[1m1/1\u001b[0m \u001b[32m━━━━━━━━━━━━━━━━━━━━\u001b[0m\u001b[37m\u001b[0m \u001b[1m0s\u001b[0m 84ms/step\n\u001b[1m1/1\u001b[0m \u001b[32m━━━━━━━━━━━━━━━━━━━━\u001b[0m\u001b[37m\u001b[0m \u001b[1m0s\u001b[0m 85ms/step\n\u001b[1m1/1\u001b[0m \u001b[32m━━━━━━━━━━━━━━━━━━━━\u001b[0m\u001b[37m\u001b[0m \u001b[1m0s\u001b[0m 85ms/step\n\u001b[1m1/1\u001b[0m \u001b[32m━━━━━━━━━━━━━━━━━━━━\u001b[0m\u001b[37m\u001b[0m \u001b[1m0s\u001b[0m 45ms/step\nFinal Eval - Top-1 Acc: 0.9206 | Top-3 Acc: 0.9862 | F1: 0.9204 | Prec: 0.9216 | Recall: 0.9206\n",
          "output_type": "stream"
        }
      ],
      "execution_count": null
    },
    {
      "cell_type": "code",
      "source": [
        "import matplotlib.pyplot as plt\n",
        "# === Accuracy Plot ===\n",
        "plt.figure(figsize=(10, 4))\n",
        "plt.plot(history.history['accuracy'], label='Train Accuracy', marker='o')\n",
        "plt.plot(history.history['val_accuracy'], label='Val Accuracy', marker='o')\n",
        "plt.title('Accuracy Over Epochs')\n",
        "plt.xlabel('Epoch')\n",
        "plt.ylabel('Accuracy')\n",
        "plt.legend()\n",
        "plt.grid(True)\n",
        "plt.tight_layout()\n",
        "plt.show()\n",
        "\n",
        "# === Loss Plot ===\n",
        "plt.figure(figsize=(10, 4))\n",
        "plt.plot(history.history['loss'], label='Train Loss', marker='o')\n",
        "plt.plot(history.history['val_loss'], label='Val Loss', marker='o')\n",
        "plt.title('Loss Over Epochs')\n",
        "plt.xlabel('Epoch')\n",
        "plt.ylabel('Loss')\n",
        "plt.legend()\n",
        "plt.grid(True)\n",
        "plt.tight_layout()\n",
        "plt.show()\n"
      ],
      "metadata": {
        "colab": {
          "base_uri": "https://localhost:8080/",
          "height": 228
        },
        "id": "6tBDGNvY9MZk",
        "outputId": "789e9e08-4e59-4b1d-bf01-66e9bfffbc43",
        "trusted": true,
        "execution": {
          "iopub.status.busy": "2025-07-02T17:26:02.646845Z",
          "iopub.execute_input": "2025-07-02T17:26:02.647475Z",
          "iopub.status.idle": "2025-07-02T17:26:03.065763Z",
          "shell.execute_reply.started": "2025-07-02T17:26:02.647454Z",
          "shell.execute_reply": "2025-07-02T17:26:03.065165Z"
        }
      },
      "outputs": [
        {
          "output_type": "display_data",
          "data": {
            "text/plain": "<Figure size 1000x400 with 1 Axes>",
            "image/png": "[encoded data removed]"
          },
          "metadata": {}
        },
        {
          "output_type": "display_data",
          "data": {
            "text/plain": "<Figure size 1000x400 with 1 Axes>",
            "image/png": "[encoded data removed]"
          },
          "metadata": {}
        }
      ],
      "execution_count": null
    },
    {
      "cell_type": "code",
      "source": [
        "import matplotlib.pyplot as plt\n",
        "import seaborn as sns\n",
        "from sklearn.metrics import confusion_matrix, classification_report\n",
        "import pandas as pd\n",
        "import numpy as np\n"
      ],
      "metadata": {
        "id": "2cKgW85Y95Gr",
        "trusted": true,
        "execution": {
          "iopub.status.busy": "2025-07-02T17:26:11.359550Z",
          "iopub.execute_input": "2025-07-02T17:26:11.359828Z",
          "iopub.status.idle": "2025-07-02T17:26:11.364146Z",
          "shell.execute_reply.started": "2025-07-02T17:26:11.359807Z",
          "shell.execute_reply": "2025-07-02T17:26:11.363397Z"
        }
      },
      "outputs": [],
      "execution_count": null
    },
    {
      "cell_type": "code",
      "source": [
        "# === Confusion Matrix ===\n",
        "cm = confusion_matrix(y_true, y_pred)\n",
        "plt.figure(figsize=(12, 10))\n",
        "sns.heatmap(cm, annot=True, fmt='d', cmap='Blues',\n",
        "            xticklabels=classes, yticklabels=classes)\n",
        "plt.title('Confusion Matrix')\n",
        "plt.xlabel('Predicted Label')\n",
        "plt.ylabel('True Label')\n",
        "plt.xticks(rotation=45)\n",
        "plt.yticks(rotation=0)\n",
        "plt.tight_layout()\n",
        "plt.show()\n",
        "\n",
        "# === Classification Report as DataFrame ===\n",
        "report_dict = classification_report(y_true, y_pred, target_names=classes, output_dict=True)\n",
        "report_df = pd.DataFrame(report_dict).transpose()\n",
        "\n",
        "# === Bar Plot: Precision, Recall, F1 per Class ===\n",
        "plt.figure(figsize=(12, 6))\n",
        "report_df.iloc[:-3][['precision', 'recall', 'f1-score']].plot(kind='bar')\n",
        "plt.title('Per-Class Precision, Recall, F1-Score')\n",
        "plt.ylabel('Score')\n",
        "plt.ylim(0, 1.05)\n",
        "plt.xticks(rotation=45)\n",
        "plt.grid(True)\n",
        "plt.tight_layout()\n",
        "plt.show()\n",
        "\n",
        "# === Top-1 vs Top-3 Accuracy Summary Bar ===\n",
        "plt.figure(figsize=(5, 4))\n",
        "plt.bar(['Top-1 Accuracy', 'Top-3 Accuracy'], [val_acc, top3_acc], color=['skyblue', 'lightgreen'])\n",
        "plt.ylim(0, 1.05)\n",
        "plt.ylabel('Accuracy')\n",
        "plt.title('Top-1 vs Top-3 Accuracy')\n",
        "plt.tight_layout()\n",
        "plt.show()"
      ],
      "metadata": {
        "colab": {
          "base_uri": "https://localhost:8080/",
          "height": 1000
        },
        "id": "JdsF9tL997-i",
        "outputId": "feaf619a-fc22-465f-b4f7-c390b62e9fd1",
        "trusted": true,
        "execution": {
          "iopub.status.busy": "2025-07-02T17:26:14.472718Z",
          "iopub.execute_input": "2025-07-02T17:26:14.472961Z",
          "iopub.status.idle": "2025-07-02T17:26:16.931171Z",
          "shell.execute_reply.started": "2025-07-02T17:26:14.472943Z",
          "shell.execute_reply": "2025-07-02T17:26:16.930582Z"
        }
      },
      "outputs": [
        {
          "output_type": "display_data",
          "data": {
            "text/plain": "<Figure size 1200x1000 with 2 Axes>",
            "image/png": "[encoded data removed]"
          },
          "metadata": {}
        },
        {
          "output_type": "display_data",
          "data": {
            "text/plain": "<Figure size 1200x600 with 0 Axes>"
          },
          "metadata": {}
        },
        {
          "output_type": "display_data",
          "data": {
            "text/plain": "<Figure size 640x480 with 1 Axes>",
            "image/png": "[encoded data removed]"
          },
          "metadata": {}
        },
        {
          "output_type": "display_data",
          "data": {
            "text/plain": "<Figure size 500x400 with 1 Axes>",
            "image/png": "[encoded data removed]"
          },
          "metadata": {}
        }
      ],
      "execution_count": null
    },
    {
      "cell_type": "code",
      "source": [
        "# ==== Submission Prediction ====\n",
        "model = load_model(\"/kaggle/working/best_model_f1.keras\", custom_objects={'TopKCategoricalAccuracy': TopKCategoricalAccuracy})\n",
        "\n",
        "submission_files = sorted([f for f in os.listdir(TEST_DIR) if f.lower().endswith(('jpg', 'jpeg', 'png'))])\n",
        "\n",
        "filenames, mapped_labels = [], []\n",
        "for fname in tqdm(submission_files):\n",
        "    img = load_img(os.path.join(TEST_DIR, fname), target_size=(224, 224))\n",
        "    x = img_to_array(img)\n",
        "    x = preprocess_input(x)\n",
        "    x = np.expand_dims(x, axis=0)\n",
        "\n",
        "    pred = model.predict(x)\n",
        "    label_idx = np.argmax(pred)\n",
        "    label = idx_to_class[label_idx]\n",
        "\n",
        "    filenames.append(fname)\n",
        "    mapped_labels.append(label)\n",
        "\n",
        "submission_df = pd.DataFrame({'Id': filenames, 'label': mapped_labels})\n",
        "submission_df.to_csv(\"new_submission.csv\", index=False)\n",
        "print(\"✅ Saved submission.csv with\", len(submission_df), \"rows\")\n"
      ],
      "metadata": {
        "colab": {
          "base_uri": "https://localhost:8080/"
        },
        "id": "f8Lauq_V_-hX",
        "outputId": "d3cfe269-ecda-4919-bd08-0c6fb81bb28b",
        "trusted": true,
        "execution": {
          "iopub.status.busy": "2025-07-02T17:26:38.939623Z",
          "iopub.execute_input": "2025-07-02T17:26:38.939876Z",
          "iopub.status.idle": "2025-07-02T17:27:20.040466Z",
          "shell.execute_reply.started": "2025-07-02T17:26:38.939859Z",
          "shell.execute_reply": "2025-07-02T17:27:20.039711Z"
        }
      },
      "outputs": [
        {
          "name": "stderr",
          "text": "  0%|          | 0/425 [00:00<?, ?it/s]",
          "output_type": "stream"
        },
        {
          "name": "stdout",
          "text": "\u001b[1m1/1\u001b[0m \u001b[32m━━━━━━━━━━━━━━━━━━━━\u001b[0m\u001b[37m\u001b[0m \u001b[1m5s\u001b[0m 5s/step\n",
          "output_type": "stream"
        },
        {
          "name": "stderr",
          "text": "  0%|          | 1/425 [00:04<32:51,  4.65s/it]",
          "output_type": "stream"
        },
        {
          "name": "stdout",
          "text": "\u001b[1m1/1\u001b[0m \u001b[32m━━━━━━━━━━━━━━━━━━━━\u001b[0m\u001b[37m\u001b[0m \u001b[1m0s\u001b[0m 38ms/step\n\u001b[1m1/1\u001b[0m \u001b[32m━━━━━━━━━━━━━━━━━━━━\u001b[0m\u001b[37m\u001b[0m \u001b[1m0s\u001b[0m 39ms/step\n",
          "output_type": "stream"
        },
        {
          "name": "stderr",
          "text": "  1%|          | 3/425 [00:04<08:55,  1.27s/it]",
          "output_type": "stream"
        },
        {
          "name": "stdout",
          "text": "\u001b[1m1/1\u001b[0m \u001b[32m━━━━━━━━━━━━━━━━━━━━\u001b[0m\u001b[37m\u001b[0m \u001b[1m0s\u001b[0m 37ms/step\n\u001b[1m1/1\u001b[0m \u001b[32m━━━━━━━━━━━━━━━━━━━━\u001b[0m\u001b[37m\u001b[0m \u001b[1m0s\u001b[0m 37ms/step\n",
          "output_type": "stream"
        },
        {
          "name": "stderr",
          "text": "  1%|          | 5/425 [00:04<04:36,  1.52it/s]",
          "output_type": "stream"
        },
        {
          "name": "stdout",
          "text": "\u001b[1m1/1\u001b[0m \u001b[32m━━━━━━━━━━━━━━━━━━━━\u001b[0m\u001b[37m\u001b[0m \u001b[1m0s\u001b[0m 37ms/step\n\u001b[1m1/1\u001b[0m \u001b[32m━━━━━━━━━━━━━━━━━━━━\u001b[0m\u001b[37m\u001b[0m \u001b[1m0s\u001b[0m 36ms/step\n",
          "output_type": "stream"
        },
        {
          "name": "stderr",
          "text": "  2%|▏         | 7/425 [00:05<02:53,  2.41it/s]",
          "output_type": "stream"
        },
        {
          "name": "stdout",
          "text": "\u001b[1m1/1\u001b[0m \u001b[32m━━━━━━━━━━━━━━━━━━━━\u001b[0m\u001b[37m\u001b[0m \u001b[1m0s\u001b[0m 37ms/step\n\u001b[1m1/1\u001b[0m \u001b[32m━━━━━━━━━━━━━━━━━━━━\u001b[0m\u001b[37m\u001b[0m \u001b[1m0s\u001b[0m 37ms/step\n",
          "output_type": "stream"
        },
        {
          "name": "stderr",
          "text": "  2%|▏         | 9/425 [00:05<02:00,  3.46it/s]",
          "output_type": "stream"
        },
        {
          "name": "stdout",
          "text": "\u001b[1m1/1\u001b[0m \u001b[32m━━━━━━━━━━━━━━━━━━━━\u001b[0m\u001b[37m\u001b[0m \u001b[1m0s\u001b[0m 36ms/step\n\u001b[1m1/1\u001b[0m \u001b[32m━━━━━━━━━━━━━━━━━━━━\u001b[0m\u001b[37m\u001b[0m \u001b[1m0s\u001b[0m 36ms/step\n",
          "output_type": "stream"
        },
        {
          "name": "stderr",
          "text": "  3%|▎         | 11/425 [00:05<01:29,  4.63it/s]",
          "output_type": "stream"
        },
        {
          "name": "stdout",
          "text": "\u001b[1m1/1\u001b[0m \u001b[32m━━━━━━━━━━━━━━━━━━━━\u001b[0m\u001b[37m\u001b[0m \u001b[1m0s\u001b[0m 39ms/step\n\u001b[1m1/1\u001b[0m \u001b[32m━━━━━━━━━━━━━━━━━━━━\u001b[0m\u001b[37m\u001b[0m \u001b[1m0s\u001b[0m 37ms/step\n",
          "output_type": "stream"
        },
        {
          "name": "stderr",
          "text": "  3%|▎         | 13/425 [00:05<01:10,  5.82it/s]",
          "output_type": "stream"
        },
        {
          "name": "stdout",
          "text": "\u001b[1m1/1\u001b[0m \u001b[32m━━━━━━━━━━━━━━━━━━━━\u001b[0m\u001b[37m\u001b[0m \u001b[1m0s\u001b[0m 36ms/step\n\u001b[1m1/1\u001b[0m \u001b[32m━━━━━━━━━━━━━━━━━━━━\u001b[0m\u001b[37m\u001b[0m \u001b[1m0s\u001b[0m 35ms/step\n",
          "output_type": "stream"
        },
        {
          "name": "stderr",
          "text": "  4%|▎         | 15/425 [00:05<00:58,  7.04it/s]",
          "output_type": "stream"
        },
        {
          "name": "stdout",
          "text": "\u001b[1m1/1\u001b[0m \u001b[32m━━━━━━━━━━━━━━━━━━━━\u001b[0m\u001b[37m\u001b[0m \u001b[1m0s\u001b[0m 35ms/step\n\u001b[1m1/1\u001b[0m \u001b[32m━━━━━━━━━━━━━━━━━━━━\u001b[0m\u001b[37m\u001b[0m \u001b[1m0s\u001b[0m 37ms/step\n",
          "output_type": "stream"
        },
        {
          "name": "stderr",
          "text": "  4%|▍         | 17/425 [00:05<00:49,  8.16it/s]",
          "output_type": "stream"
        },
        {
          "name": "stdout",
          "text": "\u001b[1m1/1\u001b[0m \u001b[32m━━━━━━━━━━━━━━━━━━━━\u001b[0m\u001b[37m\u001b[0m \u001b[1m0s\u001b[0m 38ms/step\n\u001b[1m1/1\u001b[0m \u001b[32m━━━━━━━━━━━━━━━━━━━━\u001b[0m\u001b[37m\u001b[0m \u001b[1m0s\u001b[0m 40ms/step\n",
          "output_type": "stream"
        },
        {
          "name": "stderr",
          "text": "  4%|▍         | 19/425 [00:06<00:45,  8.94it/s]",
          "output_type": "stream"
        },
        {
          "name": "stdout",
          "text": "\u001b[1m1/1\u001b[0m \u001b[32m━━━━━━━━━━━━━━━━━━━━\u001b[0m\u001b[37m\u001b[0m \u001b[1m0s\u001b[0m 39ms/step\n\u001b[1m1/1\u001b[0m \u001b[32m━━━━━━━━━━━━━━━━━━━━\u001b[0m\u001b[37m\u001b[0m \u001b[1m0s\u001b[0m 39ms/step\n",
          "output_type": "stream"
        },
        {
          "name": "stderr",
          "text": "  5%|▍         | 21/425 [00:06<00:42,  9.57it/s]",
          "output_type": "stream"
        },
        {
          "name": "stdout",
          "text": "\u001b[1m1/1\u001b[0m \u001b[32m━━━━━━━━━━━━━━━━━━━━\u001b[0m\u001b[37m\u001b[0m \u001b[1m0s\u001b[0m 38ms/step\n\u001b[1m1/1\u001b[0m \u001b[32m━━━━━━━━━━━━━━━━━━━━\u001b[0m\u001b[37m\u001b[0m \u001b[1m0s\u001b[0m 39ms/step\n",
          "output_type": "stream"
        },
        {
          "name": "stderr",
          "text": "  5%|▌         | 23/425 [00:06<00:39, 10.11it/s]",
          "output_type": "stream"
        },
        {
          "name": "stdout",
          "text": "\u001b[1m1/1\u001b[0m \u001b[32m━━━━━━━━━━━━━━━━━━━━\u001b[0m\u001b[37m\u001b[0m \u001b[1m0s\u001b[0m 39ms/step\n\u001b[1m1/1\u001b[0m \u001b[32m━━━━━━━━━━━━━━━━━━━━\u001b[0m\u001b[37m\u001b[0m \u001b[1m0s\u001b[0m 37ms/step\n",
          "output_type": "stream"
        },
        {
          "name": "stderr",
          "text": "  6%|▌         | 25/425 [00:06<00:37, 10.59it/s]",
          "output_type": "stream"
        },
        {
          "name": "stdout",
          "text": "\u001b[1m1/1\u001b[0m \u001b[32m━━━━━━━━━━━━━━━━━━━━\u001b[0m\u001b[37m\u001b[0m \u001b[1m0s\u001b[0m 36ms/step\n\u001b[1m1/1\u001b[0m \u001b[32m━━━━━━━━━━━━━━━━━━━━\u001b[0m\u001b[37m\u001b[0m \u001b[1m0s\u001b[0m 36ms/step\n",
          "output_type": "stream"
        },
        {
          "name": "stderr",
          "text": "  6%|▋         | 27/425 [00:06<00:35, 11.14it/s]",
          "output_type": "stream"
        },
        {
          "name": "stdout",
          "text": "\u001b[1m1/1\u001b[0m \u001b[32m━━━━━━━━━━━━━━━━━━━━\u001b[0m\u001b[37m\u001b[0m \u001b[1m0s\u001b[0m 36ms/step\n\u001b[1m1/1\u001b[0m \u001b[32m━━━━━━━━━━━━━━━━━━━━\u001b[0m\u001b[37m\u001b[0m \u001b[1m0s\u001b[0m 36ms/step\n",
          "output_type": "stream"
        },
        {
          "name": "stderr",
          "text": "  7%|▋         | 29/425 [00:06<00:34, 11.56it/s]",
          "output_type": "stream"
        },
        {
          "name": "stdout",
          "text": "\u001b[1m1/1\u001b[0m \u001b[32m━━━━━━━━━━━━━━━━━━━━\u001b[0m\u001b[37m\u001b[0m \u001b[1m0s\u001b[0m 36ms/step\n\u001b[1m1/1\u001b[0m \u001b[32m━━━━━━━━━━━━━━━━━━━━\u001b[0m\u001b[37m\u001b[0m \u001b[1m0s\u001b[0m 37ms/step\n",
          "output_type": "stream"
        },
        {
          "name": "stderr",
          "text": "  7%|▋         | 31/425 [00:07<00:33, 11.81it/s]",
          "output_type": "stream"
        },
        {
          "name": "stdout",
          "text": "\u001b[1m1/1\u001b[0m \u001b[32m━━━━━━━━━━━━━━━━━━━━\u001b[0m\u001b[37m\u001b[0m \u001b[1m0s\u001b[0m 36ms/step\n\u001b[1m1/1\u001b[0m \u001b[32m━━━━━━━━━━━━━━━━━━━━\u001b[0m\u001b[37m\u001b[0m \u001b[1m0s\u001b[0m 36ms/step\n",
          "output_type": "stream"
        },
        {
          "name": "stderr",
          "text": "  8%|▊         | 33/425 [00:07<00:32, 11.98it/s]",
          "output_type": "stream"
        },
        {
          "name": "stdout",
          "text": "\u001b[1m1/1\u001b[0m \u001b[32m━━━━━━━━━━━━━━━━━━━━\u001b[0m\u001b[37m\u001b[0m \u001b[1m0s\u001b[0m 36ms/step\n\u001b[1m1/1\u001b[0m \u001b[32m━━━━━━━━━━━━━━━━━━━━\u001b[0m\u001b[37m\u001b[0m \u001b[1m0s\u001b[0m 36ms/step\n",
          "output_type": "stream"
        },
        {
          "name": "stderr",
          "text": "  8%|▊         | 35/425 [00:07<00:32, 12.14it/s]",
          "output_type": "stream"
        },
        {
          "name": "stdout",
          "text": "\u001b[1m1/1\u001b[0m \u001b[32m━━━━━━━━━━━━━━━━━━━━\u001b[0m\u001b[37m\u001b[0m \u001b[1m0s\u001b[0m 36ms/step\n\u001b[1m1/1\u001b[0m \u001b[32m━━━━━━━━━━━━━━━━━━━━\u001b[0m\u001b[37m\u001b[0m \u001b[1m0s\u001b[0m 36ms/step\n",
          "output_type": "stream"
        },
        {
          "name": "stderr",
          "text": "  9%|▊         | 37/425 [00:07<00:31, 12.22it/s]",
          "output_type": "stream"
        },
        {
          "name": "stdout",
          "text": "\u001b[1m1/1\u001b[0m \u001b[32m━━━━━━━━━━━━━━━━━━━━\u001b[0m\u001b[37m\u001b[0m \u001b[1m0s\u001b[0m 36ms/step\n\u001b[1m1/1\u001b[0m \u001b[32m━━━━━━━━━━━━━━━━━━━━\u001b[0m\u001b[37m\u001b[0m \u001b[1m0s\u001b[0m 36ms/step\n",
          "output_type": "stream"
        },
        {
          "name": "stderr",
          "text": "  9%|▉         | 39/425 [00:07<00:31, 12.26it/s]",
          "output_type": "stream"
        },
        {
          "name": "stdout",
          "text": "\u001b[1m1/1\u001b[0m \u001b[32m━━━━━━━━━━━━━━━━━━━━\u001b[0m\u001b[37m\u001b[0m \u001b[1m0s\u001b[0m 36ms/step\n\u001b[1m1/1\u001b[0m \u001b[32m━━━━━━━━━━━━━━━━━━━━\u001b[0m\u001b[37m\u001b[0m \u001b[1m0s\u001b[0m 36ms/step\n",
          "output_type": "stream"
        },
        {
          "name": "stderr",
          "text": " 10%|▉         | 41/425 [00:07<00:30, 12.39it/s]",
          "output_type": "stream"
        },
        {
          "name": "stdout",
          "text": "\u001b[1m1/1\u001b[0m \u001b[32m━━━━━━━━━━━━━━━━━━━━\u001b[0m\u001b[37m\u001b[0m \u001b[1m0s\u001b[0m 36ms/step\n\u001b[1m1/1\u001b[0m \u001b[32m━━━━━━━━━━━━━━━━━━━━\u001b[0m\u001b[37m\u001b[0m \u001b[1m0s\u001b[0m 37ms/step\n",
          "output_type": "stream"
        },
        {
          "name": "stderr",
          "text": " 10%|█         | 43/425 [00:08<00:30, 12.35it/s]",
          "output_type": "stream"
        },
        {
          "name": "stdout",
          "text": "\u001b[1m1/1\u001b[0m \u001b[32m━━━━━━━━━━━━━━━━━━━━\u001b[0m\u001b[37m\u001b[0m \u001b[1m0s\u001b[0m 37ms/step\n\u001b[1m1/1\u001b[0m \u001b[32m━━━━━━━━━━━━━━━━━━━━\u001b[0m\u001b[37m\u001b[0m \u001b[1m0s\u001b[0m 37ms/step\n",
          "output_type": "stream"
        },
        {
          "name": "stderr",
          "text": " 11%|█         | 45/425 [00:08<00:31, 12.20it/s]",
          "output_type": "stream"
        },
        {
          "name": "stdout",
          "text": "\u001b[1m1/1\u001b[0m \u001b[32m━━━━━━━━━━━━━━━━━━━━\u001b[0m\u001b[37m\u001b[0m \u001b[1m0s\u001b[0m 38ms/step\n\u001b[1m1/1\u001b[0m \u001b[32m━━━━━━━━━━━━━━━━━━━━\u001b[0m\u001b[37m\u001b[0m \u001b[1m0s\u001b[0m 38ms/step\n",
          "output_type": "stream"
        },
        {
          "name": "stderr",
          "text": " 11%|█         | 47/425 [00:08<00:31, 12.09it/s]",
          "output_type": "stream"
        },
        {
          "name": "stdout",
          "text": "\u001b[1m1/1\u001b[0m \u001b[32m━━━━━━━━━━━━━━━━━━━━\u001b[0m\u001b[37m\u001b[0m \u001b[1m0s\u001b[0m 36ms/step\n\u001b[1m1/1\u001b[0m \u001b[32m━━━━━━━━━━━━━━━━━━━━\u001b[0m\u001b[37m\u001b[0m \u001b[1m0s\u001b[0m 36ms/step\n",
          "output_type": "stream"
        },
        {
          "name": "stderr",
          "text": " 12%|█▏        | 49/425 [00:08<00:30, 12.21it/s]",
          "output_type": "stream"
        },
        {
          "name": "stdout",
          "text": "\u001b[1m1/1\u001b[0m \u001b[32m━━━━━━━━━━━━━━━━━━━━\u001b[0m\u001b[37m\u001b[0m \u001b[1m0s\u001b[0m 35ms/step\n\u001b[1m1/1\u001b[0m \u001b[32m━━━━━━━━━━━━━━━━━━━━\u001b[0m\u001b[37m\u001b[0m \u001b[1m0s\u001b[0m 35ms/step\n",
          "output_type": "stream"
        },
        {
          "name": "stderr",
          "text": " 12%|█▏        | 51/425 [00:08<00:30, 12.29it/s]",
          "output_type": "stream"
        },
        {
          "name": "stdout",
          "text": "\u001b[1m1/1\u001b[0m \u001b[32m━━━━━━━━━━━━━━━━━━━━\u001b[0m\u001b[37m\u001b[0m \u001b[1m0s\u001b[0m 35ms/step\n\u001b[1m1/1\u001b[0m \u001b[32m━━━━━━━━━━━━━━━━━━━━\u001b[0m\u001b[37m\u001b[0m \u001b[1m0s\u001b[0m 35ms/step\n",
          "output_type": "stream"
        },
        {
          "name": "stderr",
          "text": " 12%|█▏        | 53/425 [00:08<00:30, 12.39it/s]",
          "output_type": "stream"
        },
        {
          "name": "stdout",
          "text": "\u001b[1m1/1\u001b[0m \u001b[32m━━━━━━━━━━━━━━━━━━━━\u001b[0m\u001b[37m\u001b[0m \u001b[1m0s\u001b[0m 36ms/step\n\u001b[1m1/1\u001b[0m \u001b[32m━━━━━━━━━━━━━━━━━━━━\u001b[0m\u001b[37m\u001b[0m \u001b[1m0s\u001b[0m 36ms/step\n",
          "output_type": "stream"
        },
        {
          "name": "stderr",
          "text": " 13%|█▎        | 55/425 [00:09<00:29, 12.46it/s]",
          "output_type": "stream"
        },
        {
          "name": "stdout",
          "text": "\u001b[1m1/1\u001b[0m \u001b[32m━━━━━━━━━━━━━━━━━━━━\u001b[0m\u001b[37m\u001b[0m \u001b[1m0s\u001b[0m 37ms/step\n\u001b[1m1/1\u001b[0m \u001b[32m━━━━━━━━━━━━━━━━━━━━\u001b[0m\u001b[37m\u001b[0m \u001b[1m0s\u001b[0m 37ms/step\n",
          "output_type": "stream"
        },
        {
          "name": "stderr",
          "text": " 13%|█▎        | 57/425 [00:09<00:29, 12.34it/s]",
          "output_type": "stream"
        },
        {
          "name": "stdout",
          "text": "\u001b[1m1/1\u001b[0m \u001b[32m━━━━━━━━━━━━━━━━━━━━\u001b[0m\u001b[37m\u001b[0m \u001b[1m0s\u001b[0m 38ms/step\n\u001b[1m1/1\u001b[0m \u001b[32m━━━━━━━━━━━━━━━━━━━━\u001b[0m\u001b[37m\u001b[0m \u001b[1m0s\u001b[0m 36ms/step\n",
          "output_type": "stream"
        },
        {
          "name": "stderr",
          "text": " 14%|█▍        | 59/425 [00:09<00:29, 12.34it/s]",
          "output_type": "stream"
        },
        {
          "name": "stdout",
          "text": "\u001b[1m1/1\u001b[0m \u001b[32m━━━━━━━━━━━━━━━━━━━━\u001b[0m\u001b[37m\u001b[0m \u001b[1m0s\u001b[0m 36ms/step\n\u001b[1m1/1\u001b[0m \u001b[32m━━━━━━━━━━━━━━━━━━━━\u001b[0m\u001b[37m\u001b[0m \u001b[1m0s\u001b[0m 36ms/step\n",
          "output_type": "stream"
        },
        {
          "name": "stderr",
          "text": " 14%|█▍        | 61/425 [00:09<00:29, 12.36it/s]",
          "output_type": "stream"
        },
        {
          "name": "stdout",
          "text": "\u001b[1m1/1\u001b[0m \u001b[32m━━━━━━━━━━━━━━━━━━━━\u001b[0m\u001b[37m\u001b[0m \u001b[1m0s\u001b[0m 36ms/step\n\u001b[1m1/1\u001b[0m \u001b[32m━━━━━━━━━━━━━━━━━━━━\u001b[0m\u001b[37m\u001b[0m \u001b[1m0s\u001b[0m 35ms/step\n",
          "output_type": "stream"
        },
        {
          "name": "stderr",
          "text": " 15%|█▍        | 63/425 [00:09<00:29, 12.46it/s]",
          "output_type": "stream"
        },
        {
          "name": "stdout",
          "text": "\u001b[1m1/1\u001b[0m \u001b[32m━━━━━━━━━━━━━━━━━━━━\u001b[0m\u001b[37m\u001b[0m \u001b[1m0s\u001b[0m 37ms/step\n\u001b[1m1/1\u001b[0m \u001b[32m━━━━━━━━━━━━━━━━━━━━\u001b[0m\u001b[37m\u001b[0m \u001b[1m0s\u001b[0m 37ms/step\n",
          "output_type": "stream"
        },
        {
          "name": "stderr",
          "text": " 15%|█▌        | 65/425 [00:09<00:28, 12.43it/s]",
          "output_type": "stream"
        },
        {
          "name": "stdout",
          "text": "\u001b[1m1/1\u001b[0m \u001b[32m━━━━━━━━━━━━━━━━━━━━\u001b[0m\u001b[37m\u001b[0m \u001b[1m0s\u001b[0m 38ms/step\n\u001b[1m1/1\u001b[0m \u001b[32m━━━━━━━━━━━━━━━━━━━━\u001b[0m\u001b[37m\u001b[0m \u001b[1m0s\u001b[0m 37ms/step\n",
          "output_type": "stream"
        },
        {
          "name": "stderr",
          "text": " 16%|█▌        | 67/425 [00:10<00:29, 12.31it/s]",
          "output_type": "stream"
        },
        {
          "name": "stdout",
          "text": "\u001b[1m1/1\u001b[0m \u001b[32m━━━━━━━━━━━━━━━━━━━━\u001b[0m\u001b[37m\u001b[0m \u001b[1m0s\u001b[0m 37ms/step\n\u001b[1m1/1\u001b[0m \u001b[32m━━━━━━━━━━━━━━━━━━━━\u001b[0m\u001b[37m\u001b[0m \u001b[1m0s\u001b[0m 35ms/step\n",
          "output_type": "stream"
        },
        {
          "name": "stderr",
          "text": " 16%|█▌        | 69/425 [00:10<00:29, 12.26it/s]",
          "output_type": "stream"
        },
        {
          "name": "stdout",
          "text": "\u001b[1m1/1\u001b[0m \u001b[32m━━━━━━━━━━━━━━━━━━━━\u001b[0m\u001b[37m\u001b[0m \u001b[1m0s\u001b[0m 37ms/step\n\u001b[1m1/1\u001b[0m \u001b[32m━━━━━━━━━━━━━━━━━━━━\u001b[0m\u001b[37m\u001b[0m \u001b[1m0s\u001b[0m 37ms/step\n",
          "output_type": "stream"
        },
        {
          "name": "stderr",
          "text": " 17%|█▋        | 71/425 [00:10<00:28, 12.23it/s]",
          "output_type": "stream"
        },
        {
          "name": "stdout",
          "text": "\u001b[1m1/1\u001b[0m \u001b[32m━━━━━━━━━━━━━━━━━━━━\u001b[0m\u001b[37m\u001b[0m \u001b[1m0s\u001b[0m 36ms/step\n\u001b[1m1/1\u001b[0m \u001b[32m━━━━━━━━━━━━━━━━━━━━\u001b[0m\u001b[37m\u001b[0m \u001b[1m0s\u001b[0m 36ms/step\n",
          "output_type": "stream"
        },
        {
          "name": "stderr",
          "text": " 17%|█▋        | 73/425 [00:10<00:28, 12.34it/s]",
          "output_type": "stream"
        },
        {
          "name": "stdout",
          "text": "\u001b[1m1/1\u001b[0m \u001b[32m━━━━━━━━━━━━━━━━━━━━\u001b[0m\u001b[37m\u001b[0m \u001b[1m0s\u001b[0m 36ms/step\n\u001b[1m1/1\u001b[0m \u001b[32m━━━━━━━━━━━━━━━━━━━━\u001b[0m\u001b[37m\u001b[0m \u001b[1m0s\u001b[0m 36ms/step\n",
          "output_type": "stream"
        },
        {
          "name": "stderr",
          "text": " 18%|█▊        | 75/425 [00:10<00:28, 12.43it/s]",
          "output_type": "stream"
        },
        {
          "name": "stdout",
          "text": "\u001b[1m1/1\u001b[0m \u001b[32m━━━━━━━━━━━━━━━━━━━━\u001b[0m\u001b[37m\u001b[0m \u001b[1m0s\u001b[0m 37ms/step\n\u001b[1m1/1\u001b[0m \u001b[32m━━━━━━━━━━━━━━━━━━━━\u001b[0m\u001b[37m\u001b[0m \u001b[1m0s\u001b[0m 39ms/step\n",
          "output_type": "stream"
        },
        {
          "name": "stderr",
          "text": " 18%|█▊        | 77/425 [00:10<00:28, 12.30it/s]",
          "output_type": "stream"
        },
        {
          "name": "stdout",
          "text": "\u001b[1m1/1\u001b[0m \u001b[32m━━━━━━━━━━━━━━━━━━━━\u001b[0m\u001b[37m\u001b[0m \u001b[1m0s\u001b[0m 36ms/step\n\u001b[1m1/1\u001b[0m \u001b[32m━━━━━━━━━━━━━━━━━━━━\u001b[0m\u001b[37m\u001b[0m \u001b[1m0s\u001b[0m 37ms/step\n",
          "output_type": "stream"
        },
        {
          "name": "stderr",
          "text": " 19%|█▊        | 79/425 [00:11<00:28, 12.32it/s]",
          "output_type": "stream"
        },
        {
          "name": "stdout",
          "text": "\u001b[1m1/1\u001b[0m \u001b[32m━━━━━━━━━━━━━━━━━━━━\u001b[0m\u001b[37m\u001b[0m \u001b[1m0s\u001b[0m 40ms/step\n\u001b[1m1/1\u001b[0m \u001b[32m━━━━━━━━━━━━━━━━━━━━\u001b[0m\u001b[37m\u001b[0m \u001b[1m0s\u001b[0m 37ms/step\n",
          "output_type": "stream"
        },
        {
          "name": "stderr",
          "text": " 19%|█▉        | 81/425 [00:11<00:28, 12.07it/s]",
          "output_type": "stream"
        },
        {
          "name": "stdout",
          "text": "\u001b[1m1/1\u001b[0m \u001b[32m━━━━━━━━━━━━━━━━━━━━\u001b[0m\u001b[37m\u001b[0m \u001b[1m0s\u001b[0m 40ms/step\n\u001b[1m1/1\u001b[0m \u001b[32m━━━━━━━━━━━━━━━━━━━━\u001b[0m\u001b[37m\u001b[0m \u001b[1m0s\u001b[0m 37ms/step\n",
          "output_type": "stream"
        },
        {
          "name": "stderr",
          "text": " 20%|█▉        | 83/425 [00:11<00:28, 11.91it/s]",
          "output_type": "stream"
        },
        {
          "name": "stdout",
          "text": "\u001b[1m1/1\u001b[0m \u001b[32m━━━━━━━━━━━━━━━━━━━━\u001b[0m\u001b[37m\u001b[0m \u001b[1m0s\u001b[0m 39ms/step\n\u001b[1m1/1\u001b[0m \u001b[32m━━━━━━━━━━━━━━━━━━━━\u001b[0m\u001b[37m\u001b[0m \u001b[1m0s\u001b[0m 38ms/step\n",
          "output_type": "stream"
        },
        {
          "name": "stderr",
          "text": " 20%|██        | 85/425 [00:11<00:28, 11.90it/s]",
          "output_type": "stream"
        },
        {
          "name": "stdout",
          "text": "\u001b[1m1/1\u001b[0m \u001b[32m━━━━━━━━━━━━━━━━━━━━\u001b[0m\u001b[37m\u001b[0m \u001b[1m0s\u001b[0m 40ms/step\n\u001b[1m1/1\u001b[0m \u001b[32m━━━━━━━━━━━━━━━━━━━━\u001b[0m\u001b[37m\u001b[0m \u001b[1m0s\u001b[0m 40ms/step\n",
          "output_type": "stream"
        },
        {
          "name": "stderr",
          "text": " 20%|██        | 87/425 [00:11<00:28, 11.70it/s]",
          "output_type": "stream"
        },
        {
          "name": "stdout",
          "text": "\u001b[1m1/1\u001b[0m \u001b[32m━━━━━━━━━━━━━━━━━━━━\u001b[0m\u001b[37m\u001b[0m \u001b[1m0s\u001b[0m 39ms/step\n\u001b[1m1/1\u001b[0m \u001b[32m━━━━━━━━━━━━━━━━━━━━\u001b[0m\u001b[37m\u001b[0m \u001b[1m0s\u001b[0m 41ms/step\n",
          "output_type": "stream"
        },
        {
          "name": "stderr",
          "text": " 21%|██        | 89/425 [00:11<00:29, 11.46it/s]",
          "output_type": "stream"
        },
        {
          "name": "stdout",
          "text": "\u001b[1m1/1\u001b[0m \u001b[32m━━━━━━━━━━━━━━━━━━━━\u001b[0m\u001b[37m\u001b[0m \u001b[1m0s\u001b[0m 39ms/step\n\u001b[1m1/1\u001b[0m \u001b[32m━━━━━━━━━━━━━━━━━━━━\u001b[0m\u001b[37m\u001b[0m \u001b[1m0s\u001b[0m 39ms/step\n",
          "output_type": "stream"
        },
        {
          "name": "stderr",
          "text": " 21%|██▏       | 91/425 [00:12<00:29, 11.47it/s]",
          "output_type": "stream"
        },
        {
          "name": "stdout",
          "text": "\u001b[1m1/1\u001b[0m \u001b[32m━━━━━━━━━━━━━━━━━━━━\u001b[0m\u001b[37m\u001b[0m \u001b[1m0s\u001b[0m 47ms/step\n\u001b[1m1/1\u001b[0m \u001b[32m━━━━━━━━━━━━━━━━━━━━\u001b[0m\u001b[37m\u001b[0m \u001b[1m0s\u001b[0m 39ms/step\n",
          "output_type": "stream"
        },
        {
          "name": "stderr",
          "text": " 22%|██▏       | 93/425 [00:12<00:29, 11.11it/s]",
          "output_type": "stream"
        },
        {
          "name": "stdout",
          "text": "\u001b[1m1/1\u001b[0m \u001b[32m━━━━━━━━━━━━━━━━━━━━\u001b[0m\u001b[37m\u001b[0m \u001b[1m0s\u001b[0m 54ms/step\n\u001b[1m1/1\u001b[0m \u001b[32m━━━━━━━━━━━━━━━━━━━━\u001b[0m\u001b[37m\u001b[0m \u001b[1m0s\u001b[0m 38ms/step\n",
          "output_type": "stream"
        },
        {
          "name": "stderr",
          "text": " 22%|██▏       | 95/425 [00:12<00:30, 10.81it/s]",
          "output_type": "stream"
        },
        {
          "name": "stdout",
          "text": "\u001b[1m1/1\u001b[0m \u001b[32m━━━━━━━━━━━━━━━━━━━━\u001b[0m\u001b[37m\u001b[0m \u001b[1m0s\u001b[0m 39ms/step\n\u001b[1m1/1\u001b[0m \u001b[32m━━━━━━━━━━━━━━━━━━━━\u001b[0m\u001b[37m\u001b[0m \u001b[1m0s\u001b[0m 39ms/step\n",
          "output_type": "stream"
        },
        {
          "name": "stderr",
          "text": " 23%|██▎       | 97/425 [00:12<00:29, 10.93it/s]",
          "output_type": "stream"
        },
        {
          "name": "stdout",
          "text": "\u001b[1m1/1\u001b[0m \u001b[32m━━━━━━━━━━━━━━━━━━━━\u001b[0m\u001b[37m\u001b[0m \u001b[1m0s\u001b[0m 39ms/step\n\u001b[1m1/1\u001b[0m \u001b[32m━━━━━━━━━━━━━━━━━━━━\u001b[0m\u001b[37m\u001b[0m \u001b[1m0s\u001b[0m 39ms/step\n",
          "output_type": "stream"
        },
        {
          "name": "stderr",
          "text": " 23%|██▎       | 99/425 [00:12<00:29, 11.10it/s]",
          "output_type": "stream"
        },
        {
          "name": "stdout",
          "text": "\u001b[1m1/1\u001b[0m \u001b[32m━━━━━━━━━━━━━━━━━━━━\u001b[0m\u001b[37m\u001b[0m \u001b[1m0s\u001b[0m 39ms/step\n\u001b[1m1/1\u001b[0m \u001b[32m━━━━━━━━━━━━━━━━━━━━\u001b[0m\u001b[37m\u001b[0m \u001b[1m0s\u001b[0m 39ms/step\n",
          "output_type": "stream"
        },
        {
          "name": "stderr",
          "text": " 24%|██▍       | 101/425 [00:12<00:28, 11.22it/s]",
          "output_type": "stream"
        },
        {
          "name": "stdout",
          "text": "\u001b[1m1/1\u001b[0m \u001b[32m━━━━━━━━━━━━━━━━━━━━\u001b[0m\u001b[37m\u001b[0m \u001b[1m0s\u001b[0m 38ms/step\n\u001b[1m1/1\u001b[0m \u001b[32m━━━━━━━━━━━━━━━━━━━━\u001b[0m\u001b[37m\u001b[0m \u001b[1m0s\u001b[0m 38ms/step\n",
          "output_type": "stream"
        },
        {
          "name": "stderr",
          "text": " 24%|██▍       | 103/425 [00:13<00:28, 11.39it/s]",
          "output_type": "stream"
        },
        {
          "name": "stdout",
          "text": "\u001b[1m1/1\u001b[0m \u001b[32m━━━━━━━━━━━━━━━━━━━━\u001b[0m\u001b[37m\u001b[0m \u001b[1m0s\u001b[0m 37ms/step\n\u001b[1m1/1\u001b[0m \u001b[32m━━━━━━━━━━━━━━━━━━━━\u001b[0m\u001b[37m\u001b[0m \u001b[1m0s\u001b[0m 35ms/step\n",
          "output_type": "stream"
        },
        {
          "name": "stderr",
          "text": " 25%|██▍       | 105/425 [00:13<00:27, 11.62it/s]",
          "output_type": "stream"
        },
        {
          "name": "stdout",
          "text": "\u001b[1m1/1\u001b[0m \u001b[32m━━━━━━━━━━━━━━━━━━━━\u001b[0m\u001b[37m\u001b[0m \u001b[1m0s\u001b[0m 36ms/step\n\u001b[1m1/1\u001b[0m \u001b[32m━━━━━━━━━━━━━━━━━━━━\u001b[0m\u001b[37m\u001b[0m \u001b[1m0s\u001b[0m 35ms/step\n",
          "output_type": "stream"
        },
        {
          "name": "stderr",
          "text": " 25%|██▌       | 107/425 [00:13<00:26, 11.91it/s]",
          "output_type": "stream"
        },
        {
          "name": "stdout",
          "text": "\u001b[1m1/1\u001b[0m \u001b[32m━━━━━━━━━━━━━━━━━━━━\u001b[0m\u001b[37m\u001b[0m \u001b[1m0s\u001b[0m 36ms/step\n\u001b[1m1/1\u001b[0m \u001b[32m━━━━━━━━━━━━━━━━━━━━\u001b[0m\u001b[37m\u001b[0m \u001b[1m0s\u001b[0m 35ms/step\n",
          "output_type": "stream"
        },
        {
          "name": "stderr",
          "text": " 26%|██▌       | 109/425 [00:13<00:26, 12.04it/s]",
          "output_type": "stream"
        },
        {
          "name": "stdout",
          "text": "\u001b[1m1/1\u001b[0m \u001b[32m━━━━━━━━━━━━━━━━━━━━\u001b[0m\u001b[37m\u001b[0m \u001b[1m0s\u001b[0m 35ms/step\n\u001b[1m1/1\u001b[0m \u001b[32m━━━━━━━━━━━━━━━━━━━━\u001b[0m\u001b[37m\u001b[0m \u001b[1m0s\u001b[0m 35ms/step\n",
          "output_type": "stream"
        },
        {
          "name": "stderr",
          "text": " 26%|██▌       | 111/425 [00:13<00:25, 12.27it/s]",
          "output_type": "stream"
        },
        {
          "name": "stdout",
          "text": "\u001b[1m1/1\u001b[0m \u001b[32m━━━━━━━━━━━━━━━━━━━━\u001b[0m\u001b[37m\u001b[0m \u001b[1m0s\u001b[0m 36ms/step\n\u001b[1m1/1\u001b[0m \u001b[32m━━━━━━━━━━━━━━━━━━━━\u001b[0m\u001b[37m\u001b[0m \u001b[1m0s\u001b[0m 35ms/step\n",
          "output_type": "stream"
        },
        {
          "name": "stderr",
          "text": " 27%|██▋       | 113/425 [00:13<00:25, 12.38it/s]",
          "output_type": "stream"
        },
        {
          "name": "stdout",
          "text": "\u001b[1m1/1\u001b[0m \u001b[32m━━━━━━━━━━━━━━━━━━━━\u001b[0m\u001b[37m\u001b[0m \u001b[1m0s\u001b[0m 36ms/step\n\u001b[1m1/1\u001b[0m \u001b[32m━━━━━━━━━━━━━━━━━━━━\u001b[0m\u001b[37m\u001b[0m \u001b[1m0s\u001b[0m 36ms/step\n",
          "output_type": "stream"
        },
        {
          "name": "stderr",
          "text": " 27%|██▋       | 115/425 [00:14<00:24, 12.45it/s]",
          "output_type": "stream"
        },
        {
          "name": "stdout",
          "text": "\u001b[1m1/1\u001b[0m \u001b[32m━━━━━━━━━━━━━━━━━━━━\u001b[0m\u001b[37m\u001b[0m \u001b[1m0s\u001b[0m 36ms/step\n\u001b[1m1/1\u001b[0m \u001b[32m━━━━━━━━━━━━━━━━━━━━\u001b[0m\u001b[37m\u001b[0m \u001b[1m0s\u001b[0m 36ms/step\n",
          "output_type": "stream"
        },
        {
          "name": "stderr",
          "text": " 28%|██▊       | 117/425 [00:14<00:24, 12.33it/s]",
          "output_type": "stream"
        },
        {
          "name": "stdout",
          "text": "\u001b[1m1/1\u001b[0m \u001b[32m━━━━━━━━━━━━━━━━━━━━\u001b[0m\u001b[37m\u001b[0m \u001b[1m0s\u001b[0m 36ms/step\n\u001b[1m1/1\u001b[0m \u001b[32m━━━━━━━━━━━━━━━━━━━━\u001b[0m\u001b[37m\u001b[0m \u001b[1m0s\u001b[0m 36ms/step\n",
          "output_type": "stream"
        },
        {
          "name": "stderr",
          "text": " 28%|██▊       | 119/425 [00:14<00:24, 12.41it/s]",
          "output_type": "stream"
        },
        {
          "name": "stdout",
          "text": "\u001b[1m1/1\u001b[0m \u001b[32m━━━━━━━━━━━━━━━━━━━━\u001b[0m\u001b[37m\u001b[0m \u001b[1m0s\u001b[0m 39ms/step\n\u001b[1m1/1\u001b[0m \u001b[32m━━━━━━━━━━━━━━━━━━━━\u001b[0m\u001b[37m\u001b[0m \u001b[1m0s\u001b[0m 38ms/step\n",
          "output_type": "stream"
        },
        {
          "name": "stderr",
          "text": " 28%|██▊       | 121/425 [00:14<00:24, 12.27it/s]",
          "output_type": "stream"
        },
        {
          "name": "stdout",
          "text": "\u001b[1m1/1\u001b[0m \u001b[32m━━━━━━━━━━━━━━━━━━━━\u001b[0m\u001b[37m\u001b[0m \u001b[1m0s\u001b[0m 38ms/step\n\u001b[1m1/1\u001b[0m \u001b[32m━━━━━━━━━━━━━━━━━━━━\u001b[0m\u001b[37m\u001b[0m \u001b[1m0s\u001b[0m 38ms/step\n",
          "output_type": "stream"
        },
        {
          "name": "stderr",
          "text": " 29%|██▉       | 123/425 [00:14<00:24, 12.19it/s]",
          "output_type": "stream"
        },
        {
          "name": "stdout",
          "text": "\u001b[1m1/1\u001b[0m \u001b[32m━━━━━━━━━━━━━━━━━━━━\u001b[0m\u001b[37m\u001b[0m \u001b[1m0s\u001b[0m 37ms/step\n\u001b[1m1/1\u001b[0m \u001b[32m━━━━━━━━━━━━━━━━━━━━\u001b[0m\u001b[37m\u001b[0m \u001b[1m0s\u001b[0m 37ms/step\n",
          "output_type": "stream"
        },
        {
          "name": "stderr",
          "text": " 29%|██▉       | 125/425 [00:14<00:24, 12.20it/s]",
          "output_type": "stream"
        },
        {
          "name": "stdout",
          "text": "\u001b[1m1/1\u001b[0m \u001b[32m━━━━━━━━━━━━━━━━━━━━\u001b[0m\u001b[37m\u001b[0m \u001b[1m0s\u001b[0m 38ms/step\n\u001b[1m1/1\u001b[0m \u001b[32m━━━━━━━━━━━━━━━━━━━━\u001b[0m\u001b[37m\u001b[0m \u001b[1m0s\u001b[0m 36ms/step\n",
          "output_type": "stream"
        },
        {
          "name": "stderr",
          "text": " 30%|██▉       | 127/425 [00:15<00:24, 12.20it/s]",
          "output_type": "stream"
        },
        {
          "name": "stdout",
          "text": "\u001b[1m1/1\u001b[0m \u001b[32m━━━━━━━━━━━━━━━━━━━━\u001b[0m\u001b[37m\u001b[0m \u001b[1m0s\u001b[0m 36ms/step\n\u001b[1m1/1\u001b[0m \u001b[32m━━━━━━━━━━━━━━━━━━━━\u001b[0m\u001b[37m\u001b[0m \u001b[1m0s\u001b[0m 37ms/step\n",
          "output_type": "stream"
        },
        {
          "name": "stderr",
          "text": " 30%|███       | 129/425 [00:15<00:24, 12.21it/s]",
          "output_type": "stream"
        },
        {
          "name": "stdout",
          "text": "\u001b[1m1/1\u001b[0m \u001b[32m━━━━━━━━━━━━━━━━━━━━\u001b[0m\u001b[37m\u001b[0m \u001b[1m0s\u001b[0m 38ms/step\n\u001b[1m1/1\u001b[0m \u001b[32m━━━━━━━━━━━━━━━━━━━━\u001b[0m\u001b[37m\u001b[0m \u001b[1m0s\u001b[0m 37ms/step\n",
          "output_type": "stream"
        },
        {
          "name": "stderr",
          "text": " 31%|███       | 131/425 [00:15<00:24, 12.21it/s]",
          "output_type": "stream"
        },
        {
          "name": "stdout",
          "text": "\u001b[1m1/1\u001b[0m \u001b[32m━━━━━━━━━━━━━━━━━━━━\u001b[0m\u001b[37m\u001b[0m \u001b[1m0s\u001b[0m 37ms/step\n\u001b[1m1/1\u001b[0m \u001b[32m━━━━━━━━━━━━━━━━━━━━\u001b[0m\u001b[37m\u001b[0m \u001b[1m0s\u001b[0m 37ms/step\n",
          "output_type": "stream"
        },
        {
          "name": "stderr",
          "text": " 31%|███▏      | 133/425 [00:15<00:23, 12.23it/s]",
          "output_type": "stream"
        },
        {
          "name": "stdout",
          "text": "\u001b[1m1/1\u001b[0m \u001b[32m━━━━━━━━━━━━━━━━━━━━\u001b[0m\u001b[37m\u001b[0m \u001b[1m0s\u001b[0m 36ms/step\n\u001b[1m1/1\u001b[0m \u001b[32m━━━━━━━━━━━━━━━━━━━━\u001b[0m\u001b[37m\u001b[0m \u001b[1m0s\u001b[0m 35ms/step\n",
          "output_type": "stream"
        },
        {
          "name": "stderr",
          "text": " 32%|███▏      | 135/425 [00:15<00:23, 12.33it/s]",
          "output_type": "stream"
        },
        {
          "name": "stdout",
          "text": "\u001b[1m1/1\u001b[0m \u001b[32m━━━━━━━━━━━━━━━━━━━━\u001b[0m\u001b[37m\u001b[0m \u001b[1m0s\u001b[0m 35ms/step\n\u001b[1m1/1\u001b[0m \u001b[32m━━━━━━━━━━━━━━━━━━━━\u001b[0m\u001b[37m\u001b[0m \u001b[1m0s\u001b[0m 35ms/step\n",
          "output_type": "stream"
        },
        {
          "name": "stderr",
          "text": " 32%|███▏      | 137/425 [00:15<00:23, 12.46it/s]",
          "output_type": "stream"
        },
        {
          "name": "stdout",
          "text": "\u001b[1m1/1\u001b[0m \u001b[32m━━━━━━━━━━━━━━━━━━━━\u001b[0m\u001b[37m\u001b[0m \u001b[1m0s\u001b[0m 37ms/step\n\u001b[1m1/1\u001b[0m \u001b[32m━━━━━━━━━━━━━━━━━━━━\u001b[0m\u001b[37m\u001b[0m \u001b[1m0s\u001b[0m 36ms/step\n",
          "output_type": "stream"
        },
        {
          "name": "stderr",
          "text": " 33%|███▎      | 139/425 [00:16<00:23, 12.42it/s]",
          "output_type": "stream"
        },
        {
          "name": "stdout",
          "text": "\u001b[1m1/1\u001b[0m \u001b[32m━━━━━━━━━━━━━━━━━━━━\u001b[0m\u001b[37m\u001b[0m \u001b[1m0s\u001b[0m 36ms/step\n\u001b[1m1/1\u001b[0m \u001b[32m━━━━━━━━━━━━━━━━━━━━\u001b[0m\u001b[37m\u001b[0m \u001b[1m0s\u001b[0m 36ms/step\n",
          "output_type": "stream"
        },
        {
          "name": "stderr",
          "text": " 33%|███▎      | 141/425 [00:16<00:23, 12.34it/s]",
          "output_type": "stream"
        },
        {
          "name": "stdout",
          "text": "\u001b[1m1/1\u001b[0m \u001b[32m━━━━━━━━━━━━━━━━━━━━\u001b[0m\u001b[37m\u001b[0m \u001b[1m0s\u001b[0m 36ms/step\n\u001b[1m1/1\u001b[0m \u001b[32m━━━━━━━━━━━━━━━━━━━━\u001b[0m\u001b[37m\u001b[0m \u001b[1m0s\u001b[0m 36ms/step\n",
          "output_type": "stream"
        },
        {
          "name": "stderr",
          "text": " 34%|███▎      | 143/425 [00:16<00:22, 12.36it/s]",
          "output_type": "stream"
        },
        {
          "name": "stdout",
          "text": "\u001b[1m1/1\u001b[0m \u001b[32m━━━━━━━━━━━━━━━━━━━━\u001b[0m\u001b[37m\u001b[0m \u001b[1m0s\u001b[0m 36ms/step\n\u001b[1m1/1\u001b[0m \u001b[32m━━━━━━━━━━━━━━━━━━━━\u001b[0m\u001b[37m\u001b[0m \u001b[1m0s\u001b[0m 37ms/step\n",
          "output_type": "stream"
        },
        {
          "name": "stderr",
          "text": " 34%|███▍      | 145/425 [00:16<00:22, 12.33it/s]",
          "output_type": "stream"
        },
        {
          "name": "stdout",
          "text": "\u001b[1m1/1\u001b[0m \u001b[32m━━━━━━━━━━━━━━━━━━━━\u001b[0m\u001b[37m\u001b[0m \u001b[1m0s\u001b[0m 36ms/step\n\u001b[1m1/1\u001b[0m \u001b[32m━━━━━━━━━━━━━━━━━━━━\u001b[0m\u001b[37m\u001b[0m \u001b[1m0s\u001b[0m 36ms/step\n",
          "output_type": "stream"
        },
        {
          "name": "stderr",
          "text": " 35%|███▍      | 147/425 [00:16<00:22, 12.34it/s]",
          "output_type": "stream"
        },
        {
          "name": "stdout",
          "text": "\u001b[1m1/1\u001b[0m \u001b[32m━━━━━━━━━━━━━━━━━━━━\u001b[0m\u001b[37m\u001b[0m \u001b[1m0s\u001b[0m 37ms/step\n\u001b[1m1/1\u001b[0m \u001b[32m━━━━━━━━━━━━━━━━━━━━\u001b[0m\u001b[37m\u001b[0m \u001b[1m0s\u001b[0m 37ms/step\n",
          "output_type": "stream"
        },
        {
          "name": "stderr",
          "text": " 35%|███▌      | 149/425 [00:16<00:22, 12.37it/s]",
          "output_type": "stream"
        },
        {
          "name": "stdout",
          "text": "\u001b[1m1/1\u001b[0m \u001b[32m━━━━━━━━━━━━━━━━━━━━\u001b[0m\u001b[37m\u001b[0m \u001b[1m0s\u001b[0m 37ms/step\n\u001b[1m1/1\u001b[0m \u001b[32m━━━━━━━━━━━━━━━━━━━━\u001b[0m\u001b[37m\u001b[0m \u001b[1m0s\u001b[0m 37ms/step\n",
          "output_type": "stream"
        },
        {
          "name": "stderr",
          "text": " 36%|███▌      | 151/425 [00:17<00:22, 12.37it/s]",
          "output_type": "stream"
        },
        {
          "name": "stdout",
          "text": "\u001b[1m1/1\u001b[0m \u001b[32m━━━━━━━━━━━━━━━━━━━━\u001b[0m\u001b[37m\u001b[0m \u001b[1m0s\u001b[0m 38ms/step\n\u001b[1m1/1\u001b[0m \u001b[32m━━━━━━━━━━━━━━━━━━━━\u001b[0m\u001b[37m\u001b[0m \u001b[1m0s\u001b[0m 37ms/step\n",
          "output_type": "stream"
        },
        {
          "name": "stderr",
          "text": " 36%|███▌      | 153/425 [00:17<00:22, 12.19it/s]",
          "output_type": "stream"
        },
        {
          "name": "stdout",
          "text": "\u001b[1m1/1\u001b[0m \u001b[32m━━━━━━━━━━━━━━━━━━━━\u001b[0m\u001b[37m\u001b[0m \u001b[1m0s\u001b[0m 38ms/step\n\u001b[1m1/1\u001b[0m \u001b[32m━━━━━━━━━━━━━━━━━━━━\u001b[0m\u001b[37m\u001b[0m \u001b[1m0s\u001b[0m 37ms/step\n",
          "output_type": "stream"
        },
        {
          "name": "stderr",
          "text": " 36%|███▋      | 155/425 [00:17<00:22, 12.16it/s]",
          "output_type": "stream"
        },
        {
          "name": "stdout",
          "text": "\u001b[1m1/1\u001b[0m \u001b[32m━━━━━━━━━━━━━━━━━━━━\u001b[0m\u001b[37m\u001b[0m \u001b[1m0s\u001b[0m 37ms/step\n\u001b[1m1/1\u001b[0m \u001b[32m━━━━━━━━━━━━━━━━━━━━\u001b[0m\u001b[37m\u001b[0m \u001b[1m0s\u001b[0m 37ms/step\n",
          "output_type": "stream"
        },
        {
          "name": "stderr",
          "text": " 37%|███▋      | 157/425 [00:17<00:22, 12.13it/s]",
          "output_type": "stream"
        },
        {
          "name": "stdout",
          "text": "\u001b[1m1/1\u001b[0m \u001b[32m━━━━━━━━━━━━━━━━━━━━\u001b[0m\u001b[37m\u001b[0m \u001b[1m0s\u001b[0m 36ms/step\n\u001b[1m1/1\u001b[0m \u001b[32m━━━━━━━━━━━━━━━━━━━━\u001b[0m\u001b[37m\u001b[0m \u001b[1m0s\u001b[0m 36ms/step\n",
          "output_type": "stream"
        },
        {
          "name": "stderr",
          "text": " 37%|███▋      | 159/425 [00:17<00:21, 12.19it/s]",
          "output_type": "stream"
        },
        {
          "name": "stdout",
          "text": "\u001b[1m1/1\u001b[0m \u001b[32m━━━━━━━━━━━━━━━━━━━━\u001b[0m\u001b[37m\u001b[0m \u001b[1m0s\u001b[0m 36ms/step\n\u001b[1m1/1\u001b[0m \u001b[32m━━━━━━━━━━━━━━━━━━━━\u001b[0m\u001b[37m\u001b[0m \u001b[1m0s\u001b[0m 36ms/step\n",
          "output_type": "stream"
        },
        {
          "name": "stderr",
          "text": " 38%|███▊      | 161/425 [00:17<00:21, 12.27it/s]",
          "output_type": "stream"
        },
        {
          "name": "stdout",
          "text": "\u001b[1m1/1\u001b[0m \u001b[32m━━━━━━━━━━━━━━━━━━━━\u001b[0m\u001b[37m\u001b[0m \u001b[1m0s\u001b[0m 36ms/step\n\u001b[1m1/1\u001b[0m \u001b[32m━━━━━━━━━━━━━━━━━━━━\u001b[0m\u001b[37m\u001b[0m \u001b[1m0s\u001b[0m 37ms/step\n",
          "output_type": "stream"
        },
        {
          "name": "stderr",
          "text": " 38%|███▊      | 163/425 [00:18<00:21, 12.30it/s]",
          "output_type": "stream"
        },
        {
          "name": "stdout",
          "text": "\u001b[1m1/1\u001b[0m \u001b[32m━━━━━━━━━━━━━━━━━━━━\u001b[0m\u001b[37m\u001b[0m \u001b[1m0s\u001b[0m 37ms/step\n\u001b[1m1/1\u001b[0m \u001b[32m━━━━━━━━━━━━━━━━━━━━\u001b[0m\u001b[37m\u001b[0m \u001b[1m0s\u001b[0m 37ms/step\n",
          "output_type": "stream"
        },
        {
          "name": "stderr",
          "text": " 39%|███▉      | 165/425 [00:18<00:21, 12.17it/s]",
          "output_type": "stream"
        },
        {
          "name": "stdout",
          "text": "\u001b[1m1/1\u001b[0m \u001b[32m━━━━━━━━━━━━━━━━━━━━\u001b[0m\u001b[37m\u001b[0m \u001b[1m0s\u001b[0m 40ms/step\n\u001b[1m1/1\u001b[0m \u001b[32m━━━━━━━━━━━━━━━━━━━━\u001b[0m\u001b[37m\u001b[0m \u001b[1m0s\u001b[0m 37ms/step\n",
          "output_type": "stream"
        },
        {
          "name": "stderr",
          "text": " 39%|███▉      | 167/425 [00:18<00:21, 12.10it/s]",
          "output_type": "stream"
        },
        {
          "name": "stdout",
          "text": "\u001b[1m1/1\u001b[0m \u001b[32m━━━━━━━━━━━━━━━━━━━━\u001b[0m\u001b[37m\u001b[0m \u001b[1m0s\u001b[0m 36ms/step\n\u001b[1m1/1\u001b[0m \u001b[32m━━━━━━━━━━━━━━━━━━━━\u001b[0m\u001b[37m\u001b[0m \u001b[1m0s\u001b[0m 38ms/step\n",
          "output_type": "stream"
        },
        {
          "name": "stderr",
          "text": " 40%|███▉      | 169/425 [00:18<00:21, 12.18it/s]",
          "output_type": "stream"
        },
        {
          "name": "stdout",
          "text": "\u001b[1m1/1\u001b[0m \u001b[32m━━━━━━━━━━━━━━━━━━━━\u001b[0m\u001b[37m\u001b[0m \u001b[1m0s\u001b[0m 38ms/step\n\u001b[1m1/1\u001b[0m \u001b[32m━━━━━━━━━━━━━━━━━━━━\u001b[0m\u001b[37m\u001b[0m \u001b[1m0s\u001b[0m 37ms/step\n",
          "output_type": "stream"
        },
        {
          "name": "stderr",
          "text": " 40%|████      | 171/425 [00:18<00:20, 12.12it/s]",
          "output_type": "stream"
        },
        {
          "name": "stdout",
          "text": "\u001b[1m1/1\u001b[0m \u001b[32m━━━━━━━━━━━━━━━━━━━━\u001b[0m\u001b[37m\u001b[0m \u001b[1m0s\u001b[0m 37ms/step\n\u001b[1m1/1\u001b[0m \u001b[32m━━━━━━━━━━━━━━━━━━━━\u001b[0m\u001b[37m\u001b[0m \u001b[1m0s\u001b[0m 36ms/step\n",
          "output_type": "stream"
        },
        {
          "name": "stderr",
          "text": " 41%|████      | 173/425 [00:18<00:20, 12.12it/s]",
          "output_type": "stream"
        },
        {
          "name": "stdout",
          "text": "\u001b[1m1/1\u001b[0m \u001b[32m━━━━━━━━━━━━━━━━━━━━\u001b[0m\u001b[37m\u001b[0m \u001b[1m0s\u001b[0m 37ms/step\n\u001b[1m1/1\u001b[0m \u001b[32m━━━━━━━━━━━━━━━━━━━━\u001b[0m\u001b[37m\u001b[0m \u001b[1m0s\u001b[0m 36ms/step\n",
          "output_type": "stream"
        },
        {
          "name": "stderr",
          "text": " 41%|████      | 175/425 [00:19<00:20, 12.22it/s]",
          "output_type": "stream"
        },
        {
          "name": "stdout",
          "text": "\u001b[1m1/1\u001b[0m \u001b[32m━━━━━━━━━━━━━━━━━━━━\u001b[0m\u001b[37m\u001b[0m \u001b[1m0s\u001b[0m 36ms/step\n\u001b[1m1/1\u001b[0m \u001b[32m━━━━━━━━━━━━━━━━━━━━\u001b[0m\u001b[37m\u001b[0m \u001b[1m0s\u001b[0m 38ms/step\n",
          "output_type": "stream"
        },
        {
          "name": "stderr",
          "text": " 42%|████▏     | 177/425 [00:19<00:20, 12.17it/s]",
          "output_type": "stream"
        },
        {
          "name": "stdout",
          "text": "\u001b[1m1/1\u001b[0m \u001b[32m━━━━━━━━━━━━━━━━━━━━\u001b[0m\u001b[37m\u001b[0m \u001b[1m0s\u001b[0m 35ms/step\n\u001b[1m1/1\u001b[0m \u001b[32m━━━━━━━━━━━━━━━━━━━━\u001b[0m\u001b[37m\u001b[0m \u001b[1m0s\u001b[0m 37ms/step\n",
          "output_type": "stream"
        },
        {
          "name": "stderr",
          "text": " 42%|████▏     | 179/425 [00:19<00:20, 12.29it/s]",
          "output_type": "stream"
        },
        {
          "name": "stdout",
          "text": "\u001b[1m1/1\u001b[0m \u001b[32m━━━━━━━━━━━━━━━━━━━━\u001b[0m\u001b[37m\u001b[0m \u001b[1m0s\u001b[0m 36ms/step\n\u001b[1m1/1\u001b[0m \u001b[32m━━━━━━━━━━━━━━━━━━━━\u001b[0m\u001b[37m\u001b[0m \u001b[1m0s\u001b[0m 36ms/step\n",
          "output_type": "stream"
        },
        {
          "name": "stderr",
          "text": " 43%|████▎     | 181/425 [00:19<00:19, 12.40it/s]",
          "output_type": "stream"
        },
        {
          "name": "stdout",
          "text": "\u001b[1m1/1\u001b[0m \u001b[32m━━━━━━━━━━━━━━━━━━━━\u001b[0m\u001b[37m\u001b[0m \u001b[1m0s\u001b[0m 37ms/step\n\u001b[1m1/1\u001b[0m \u001b[32m━━━━━━━━━━━━━━━━━━━━\u001b[0m\u001b[37m\u001b[0m \u001b[1m0s\u001b[0m 36ms/step\n",
          "output_type": "stream"
        },
        {
          "name": "stderr",
          "text": " 43%|████▎     | 183/425 [00:19<00:19, 12.41it/s]",
          "output_type": "stream"
        },
        {
          "name": "stdout",
          "text": "\u001b[1m1/1\u001b[0m \u001b[32m━━━━━━━━━━━━━━━━━━━━\u001b[0m\u001b[37m\u001b[0m \u001b[1m0s\u001b[0m 37ms/step\n\u001b[1m1/1\u001b[0m \u001b[32m━━━━━━━━━━━━━━━━━━━━\u001b[0m\u001b[37m\u001b[0m \u001b[1m0s\u001b[0m 36ms/step\n",
          "output_type": "stream"
        },
        {
          "name": "stderr",
          "text": " 44%|████▎     | 185/425 [00:19<00:19, 12.43it/s]",
          "output_type": "stream"
        },
        {
          "name": "stdout",
          "text": "\u001b[1m1/1\u001b[0m \u001b[32m━━━━━━━━━━━━━━━━━━━━\u001b[0m\u001b[37m\u001b[0m \u001b[1m0s\u001b[0m 36ms/step\n\u001b[1m1/1\u001b[0m \u001b[32m━━━━━━━━━━━━━━━━━━━━\u001b[0m\u001b[37m\u001b[0m \u001b[1m0s\u001b[0m 36ms/step\n",
          "output_type": "stream"
        },
        {
          "name": "stderr",
          "text": " 44%|████▍     | 187/425 [00:19<00:19, 12.47it/s]",
          "output_type": "stream"
        },
        {
          "name": "stdout",
          "text": "\u001b[1m1/1\u001b[0m \u001b[32m━━━━━━━━━━━━━━━━━━━━\u001b[0m\u001b[37m\u001b[0m \u001b[1m0s\u001b[0m 38ms/step\n\u001b[1m1/1\u001b[0m \u001b[32m━━━━━━━━━━━━━━━━━━━━\u001b[0m\u001b[37m\u001b[0m \u001b[1m0s\u001b[0m 38ms/step\n",
          "output_type": "stream"
        },
        {
          "name": "stderr",
          "text": " 44%|████▍     | 189/425 [00:20<00:19, 12.28it/s]",
          "output_type": "stream"
        },
        {
          "name": "stdout",
          "text": "\u001b[1m1/1\u001b[0m \u001b[32m━━━━━━━━━━━━━━━━━━━━\u001b[0m\u001b[37m\u001b[0m \u001b[1m0s\u001b[0m 37ms/step\n\u001b[1m1/1\u001b[0m \u001b[32m━━━━━━━━━━━━━━━━━━━━\u001b[0m\u001b[37m\u001b[0m \u001b[1m0s\u001b[0m 37ms/step\n",
          "output_type": "stream"
        },
        {
          "name": "stderr",
          "text": " 45%|████▍     | 191/425 [00:20<00:19, 12.25it/s]",
          "output_type": "stream"
        },
        {
          "name": "stdout",
          "text": "\u001b[1m1/1\u001b[0m \u001b[32m━━━━━━━━━━━━━━━━━━━━\u001b[0m\u001b[37m\u001b[0m \u001b[1m0s\u001b[0m 36ms/step\n\u001b[1m1/1\u001b[0m \u001b[32m━━━━━━━━━━━━━━━━━━━━\u001b[0m\u001b[37m\u001b[0m \u001b[1m0s\u001b[0m 36ms/step\n",
          "output_type": "stream"
        },
        {
          "name": "stderr",
          "text": " 45%|████▌     | 193/425 [00:20<00:18, 12.31it/s]",
          "output_type": "stream"
        },
        {
          "name": "stdout",
          "text": "\u001b[1m1/1\u001b[0m \u001b[32m━━━━━━━━━━━━━━━━━━━━\u001b[0m\u001b[37m\u001b[0m \u001b[1m0s\u001b[0m 37ms/step\n\u001b[1m1/1\u001b[0m \u001b[32m━━━━━━━━━━━━━━━━━━━━\u001b[0m\u001b[37m\u001b[0m \u001b[1m0s\u001b[0m 35ms/step\n",
          "output_type": "stream"
        },
        {
          "name": "stderr",
          "text": " 46%|████▌     | 195/425 [00:20<00:18, 12.34it/s]",
          "output_type": "stream"
        },
        {
          "name": "stdout",
          "text": "\u001b[1m1/1\u001b[0m \u001b[32m━━━━━━━━━━━━━━━━━━━━\u001b[0m\u001b[37m\u001b[0m \u001b[1m0s\u001b[0m 35ms/step\n\u001b[1m1/1\u001b[0m \u001b[32m━━━━━━━━━━━━━━━━━━━━\u001b[0m\u001b[37m\u001b[0m \u001b[1m0s\u001b[0m 36ms/step\n",
          "output_type": "stream"
        },
        {
          "name": "stderr",
          "text": " 46%|████▋     | 197/425 [00:20<00:18, 12.48it/s]",
          "output_type": "stream"
        },
        {
          "name": "stdout",
          "text": "\u001b[1m1/1\u001b[0m \u001b[32m━━━━━━━━━━━━━━━━━━━━\u001b[0m\u001b[37m\u001b[0m \u001b[1m0s\u001b[0m 38ms/step\n\u001b[1m1/1\u001b[0m \u001b[32m━━━━━━━━━━━━━━━━━━━━\u001b[0m\u001b[37m\u001b[0m \u001b[1m0s\u001b[0m 37ms/step\n",
          "output_type": "stream"
        },
        {
          "name": "stderr",
          "text": " 47%|████▋     | 199/425 [00:20<00:18, 12.36it/s]",
          "output_type": "stream"
        },
        {
          "name": "stdout",
          "text": "\u001b[1m1/1\u001b[0m \u001b[32m━━━━━━━━━━━━━━━━━━━━\u001b[0m\u001b[37m\u001b[0m \u001b[1m0s\u001b[0m 39ms/step\n\u001b[1m1/1\u001b[0m \u001b[32m━━━━━━━━━━━━━━━━━━━━\u001b[0m\u001b[37m\u001b[0m \u001b[1m0s\u001b[0m 39ms/step\n",
          "output_type": "stream"
        },
        {
          "name": "stderr",
          "text": " 47%|████▋     | 201/425 [00:21<00:18, 12.09it/s]",
          "output_type": "stream"
        },
        {
          "name": "stdout",
          "text": "\u001b[1m1/1\u001b[0m \u001b[32m━━━━━━━━━━━━━━━━━━━━\u001b[0m\u001b[37m\u001b[0m \u001b[1m0s\u001b[0m 37ms/step\n\u001b[1m1/1\u001b[0m \u001b[32m━━━━━━━━━━━━━━━━━━━━\u001b[0m\u001b[37m\u001b[0m \u001b[1m0s\u001b[0m 36ms/step\n",
          "output_type": "stream"
        },
        {
          "name": "stderr",
          "text": " 48%|████▊     | 203/425 [00:21<00:18, 12.14it/s]",
          "output_type": "stream"
        },
        {
          "name": "stdout",
          "text": "\u001b[1m1/1\u001b[0m \u001b[32m━━━━━━━━━━━━━━━━━━━━\u001b[0m\u001b[37m\u001b[0m \u001b[1m0s\u001b[0m 36ms/step\n\u001b[1m1/1\u001b[0m \u001b[32m━━━━━━━━━━━━━━━━━━━━\u001b[0m\u001b[37m\u001b[0m \u001b[1m0s\u001b[0m 35ms/step\n",
          "output_type": "stream"
        },
        {
          "name": "stderr",
          "text": " 48%|████▊     | 205/425 [00:21<00:17, 12.32it/s]",
          "output_type": "stream"
        },
        {
          "name": "stdout",
          "text": "\u001b[1m1/1\u001b[0m \u001b[32m━━━━━━━━━━━━━━━━━━━━\u001b[0m\u001b[37m\u001b[0m \u001b[1m0s\u001b[0m 36ms/step\n\u001b[1m1/1\u001b[0m \u001b[32m━━━━━━━━━━━━━━━━━━━━\u001b[0m\u001b[37m\u001b[0m \u001b[1m0s\u001b[0m 37ms/step\n",
          "output_type": "stream"
        },
        {
          "name": "stderr",
          "text": " 49%|████▊     | 207/425 [00:21<00:17, 12.36it/s]",
          "output_type": "stream"
        },
        {
          "name": "stdout",
          "text": "\u001b[1m1/1\u001b[0m \u001b[32m━━━━━━━━━━━━━━━━━━━━\u001b[0m\u001b[37m\u001b[0m \u001b[1m0s\u001b[0m 36ms/step\n\u001b[1m1/1\u001b[0m \u001b[32m━━━━━━━━━━━━━━━━━━━━\u001b[0m\u001b[37m\u001b[0m \u001b[1m0s\u001b[0m 35ms/step\n",
          "output_type": "stream"
        },
        {
          "name": "stderr",
          "text": " 49%|████▉     | 209/425 [00:21<00:17, 12.44it/s]",
          "output_type": "stream"
        },
        {
          "name": "stdout",
          "text": "\u001b[1m1/1\u001b[0m \u001b[32m━━━━━━━━━━━━━━━━━━━━\u001b[0m\u001b[37m\u001b[0m \u001b[1m0s\u001b[0m 35ms/step\n\u001b[1m1/1\u001b[0m \u001b[32m━━━━━━━━━━━━━━━━━━━━\u001b[0m\u001b[37m\u001b[0m \u001b[1m0s\u001b[0m 37ms/step\n",
          "output_type": "stream"
        },
        {
          "name": "stderr",
          "text": " 50%|████▉     | 211/425 [00:21<00:17, 12.51it/s]",
          "output_type": "stream"
        },
        {
          "name": "stdout",
          "text": "\u001b[1m1/1\u001b[0m \u001b[32m━━━━━━━━━━━━━━━━━━━━\u001b[0m\u001b[37m\u001b[0m \u001b[1m0s\u001b[0m 38ms/step\n\u001b[1m1/1\u001b[0m \u001b[32m━━━━━━━━━━━━━━━━━━━━\u001b[0m\u001b[37m\u001b[0m \u001b[1m0s\u001b[0m 37ms/step\n",
          "output_type": "stream"
        },
        {
          "name": "stderr",
          "text": " 50%|█████     | 213/425 [00:22<00:17, 12.29it/s]",
          "output_type": "stream"
        },
        {
          "name": "stdout",
          "text": "\u001b[1m1/1\u001b[0m \u001b[32m━━━━━━━━━━━━━━━━━━━━\u001b[0m\u001b[37m\u001b[0m \u001b[1m0s\u001b[0m 42ms/step\n\u001b[1m1/1\u001b[0m \u001b[32m━━━━━━━━━━━━━━━━━━━━\u001b[0m\u001b[37m\u001b[0m \u001b[1m0s\u001b[0m 42ms/step\n",
          "output_type": "stream"
        },
        {
          "name": "stderr",
          "text": " 51%|█████     | 215/425 [00:22<00:17, 11.96it/s]",
          "output_type": "stream"
        },
        {
          "name": "stdout",
          "text": "\u001b[1m1/1\u001b[0m \u001b[32m━━━━━━━━━━━━━━━━━━━━\u001b[0m\u001b[37m\u001b[0m \u001b[1m0s\u001b[0m 47ms/step\n\u001b[1m1/1\u001b[0m \u001b[32m━━━━━━━━━━━━━━━━━━━━\u001b[0m\u001b[37m\u001b[0m \u001b[1m0s\u001b[0m 37ms/step\n",
          "output_type": "stream"
        },
        {
          "name": "stderr",
          "text": " 51%|█████     | 217/425 [00:22<00:18, 11.42it/s]",
          "output_type": "stream"
        },
        {
          "name": "stdout",
          "text": "\u001b[1m1/1\u001b[0m \u001b[32m━━━━━━━━━━━━━━━━━━━━\u001b[0m\u001b[37m\u001b[0m \u001b[1m0s\u001b[0m 38ms/step\n\u001b[1m1/1\u001b[0m \u001b[32m━━━━━━━━━━━━━━━━━━━━\u001b[0m\u001b[37m\u001b[0m \u001b[1m0s\u001b[0m 36ms/step\n",
          "output_type": "stream"
        },
        {
          "name": "stderr",
          "text": " 52%|█████▏    | 219/425 [00:22<00:17, 11.62it/s]",
          "output_type": "stream"
        },
        {
          "name": "stdout",
          "text": "\u001b[1m1/1\u001b[0m \u001b[32m━━━━━━━━━━━━━━━━━━━━\u001b[0m\u001b[37m\u001b[0m \u001b[1m0s\u001b[0m 36ms/step\n\u001b[1m1/1\u001b[0m \u001b[32m━━━━━━━━━━━━━━━━━━━━\u001b[0m\u001b[37m\u001b[0m \u001b[1m0s\u001b[0m 36ms/step\n",
          "output_type": "stream"
        },
        {
          "name": "stderr",
          "text": " 52%|█████▏    | 221/425 [00:22<00:17, 11.87it/s]",
          "output_type": "stream"
        },
        {
          "name": "stdout",
          "text": "\u001b[1m1/1\u001b[0m \u001b[32m━━━━━━━━━━━━━━━━━━━━\u001b[0m\u001b[37m\u001b[0m \u001b[1m0s\u001b[0m 37ms/step\n\u001b[1m1/1\u001b[0m \u001b[32m━━━━━━━━━━━━━━━━━━━━\u001b[0m\u001b[37m\u001b[0m \u001b[1m0s\u001b[0m 37ms/step\n",
          "output_type": "stream"
        },
        {
          "name": "stderr",
          "text": " 52%|█████▏    | 223/425 [00:22<00:16, 12.01it/s]",
          "output_type": "stream"
        },
        {
          "name": "stdout",
          "text": "\u001b[1m1/1\u001b[0m \u001b[32m━━━━━━━━━━━━━━━━━━━━\u001b[0m\u001b[37m\u001b[0m \u001b[1m0s\u001b[0m 38ms/step\n\u001b[1m1/1\u001b[0m \u001b[32m━━━━━━━━━━━━━━━━━━━━\u001b[0m\u001b[37m\u001b[0m \u001b[1m0s\u001b[0m 37ms/step\n",
          "output_type": "stream"
        },
        {
          "name": "stderr",
          "text": " 53%|█████▎    | 225/425 [00:23<00:16, 11.99it/s]",
          "output_type": "stream"
        },
        {
          "name": "stdout",
          "text": "\u001b[1m1/1\u001b[0m \u001b[32m━━━━━━━━━━━━━━━━━━━━\u001b[0m\u001b[37m\u001b[0m \u001b[1m0s\u001b[0m 36ms/step\n\u001b[1m1/1\u001b[0m \u001b[32m━━━━━━━━━━━━━━━━━━━━\u001b[0m\u001b[37m\u001b[0m \u001b[1m0s\u001b[0m 36ms/step\n",
          "output_type": "stream"
        },
        {
          "name": "stderr",
          "text": " 53%|█████▎    | 227/425 [00:23<00:16, 12.03it/s]",
          "output_type": "stream"
        },
        {
          "name": "stdout",
          "text": "\u001b[1m1/1\u001b[0m \u001b[32m━━━━━━━━━━━━━━━━━━━━\u001b[0m\u001b[37m\u001b[0m \u001b[1m0s\u001b[0m 37ms/step\n\u001b[1m1/1\u001b[0m \u001b[32m━━━━━━━━━━━━━━━━━━━━\u001b[0m\u001b[37m\u001b[0m \u001b[1m0s\u001b[0m 36ms/step\n",
          "output_type": "stream"
        },
        {
          "name": "stderr",
          "text": " 54%|█████▍    | 229/425 [00:23<00:16, 12.11it/s]",
          "output_type": "stream"
        },
        {
          "name": "stdout",
          "text": "\u001b[1m1/1\u001b[0m \u001b[32m━━━━━━━━━━━━━━━━━━━━\u001b[0m\u001b[37m\u001b[0m \u001b[1m0s\u001b[0m 37ms/step\n\u001b[1m1/1\u001b[0m \u001b[32m━━━━━━━━━━━━━━━━━━━━\u001b[0m\u001b[37m\u001b[0m \u001b[1m0s\u001b[0m 39ms/step\n",
          "output_type": "stream"
        },
        {
          "name": "stderr",
          "text": " 54%|█████▍    | 231/425 [00:23<00:16, 12.12it/s]",
          "output_type": "stream"
        },
        {
          "name": "stdout",
          "text": "\u001b[1m1/1\u001b[0m \u001b[32m━━━━━━━━━━━━━━━━━━━━\u001b[0m\u001b[37m\u001b[0m \u001b[1m0s\u001b[0m 38ms/step\n\u001b[1m1/1\u001b[0m \u001b[32m━━━━━━━━━━━━━━━━━━━━\u001b[0m\u001b[37m\u001b[0m \u001b[1m0s\u001b[0m 37ms/step\n",
          "output_type": "stream"
        },
        {
          "name": "stderr",
          "text": " 55%|█████▍    | 233/425 [00:23<00:16, 12.00it/s]",
          "output_type": "stream"
        },
        {
          "name": "stdout",
          "text": "\u001b[1m1/1\u001b[0m \u001b[32m━━━━━━━━━━━━━━━━━━━━\u001b[0m\u001b[37m\u001b[0m \u001b[1m0s\u001b[0m 36ms/step\n\u001b[1m1/1\u001b[0m \u001b[32m━━━━━━━━━━━━━━━━━━━━\u001b[0m\u001b[37m\u001b[0m \u001b[1m0s\u001b[0m 36ms/step\n",
          "output_type": "stream"
        },
        {
          "name": "stderr",
          "text": " 55%|█████▌    | 235/425 [00:23<00:15, 12.13it/s]",
          "output_type": "stream"
        },
        {
          "name": "stdout",
          "text": "\u001b[1m1/1\u001b[0m \u001b[32m━━━━━━━━━━━━━━━━━━━━\u001b[0m\u001b[37m\u001b[0m \u001b[1m0s\u001b[0m 36ms/step\n\u001b[1m1/1\u001b[0m \u001b[32m━━━━━━━━━━━━━━━━━━━━\u001b[0m\u001b[37m\u001b[0m \u001b[1m0s\u001b[0m 36ms/step\n",
          "output_type": "stream"
        },
        {
          "name": "stderr",
          "text": " 56%|█████▌    | 237/425 [00:24<00:15, 12.21it/s]",
          "output_type": "stream"
        },
        {
          "name": "stdout",
          "text": "\u001b[1m1/1\u001b[0m \u001b[32m━━━━━━━━━━━━━━━━━━━━\u001b[0m\u001b[37m\u001b[0m \u001b[1m0s\u001b[0m 37ms/step\n\u001b[1m1/1\u001b[0m \u001b[32m━━━━━━━━━━━━━━━━━━━━\u001b[0m\u001b[37m\u001b[0m \u001b[1m0s\u001b[0m 37ms/step\n",
          "output_type": "stream"
        },
        {
          "name": "stderr",
          "text": " 56%|█████▌    | 239/425 [00:24<00:15, 12.19it/s]",
          "output_type": "stream"
        },
        {
          "name": "stdout",
          "text": "\u001b[1m1/1\u001b[0m \u001b[32m━━━━━━━━━━━━━━━━━━━━\u001b[0m\u001b[37m\u001b[0m \u001b[1m0s\u001b[0m 38ms/step\n\u001b[1m1/1\u001b[0m \u001b[32m━━━━━━━━━━━━━━━━━━━━\u001b[0m\u001b[37m\u001b[0m \u001b[1m0s\u001b[0m 37ms/step\n",
          "output_type": "stream"
        },
        {
          "name": "stderr",
          "text": " 57%|█████▋    | 241/425 [00:24<00:15, 12.11it/s]",
          "output_type": "stream"
        },
        {
          "name": "stdout",
          "text": "\u001b[1m1/1\u001b[0m \u001b[32m━━━━━━━━━━━━━━━━━━━━\u001b[0m\u001b[37m\u001b[0m \u001b[1m0s\u001b[0m 37ms/step\n\u001b[1m1/1\u001b[0m \u001b[32m━━━━━━━━━━━━━━━━━━━━\u001b[0m\u001b[37m\u001b[0m \u001b[1m0s\u001b[0m 39ms/step\n",
          "output_type": "stream"
        },
        {
          "name": "stderr",
          "text": " 57%|█████▋    | 243/425 [00:24<00:15, 12.09it/s]",
          "output_type": "stream"
        },
        {
          "name": "stdout",
          "text": "\u001b[1m1/1\u001b[0m \u001b[32m━━━━━━━━━━━━━━━━━━━━\u001b[0m\u001b[37m\u001b[0m \u001b[1m0s\u001b[0m 36ms/step\n\u001b[1m1/1\u001b[0m \u001b[32m━━━━━━━━━━━━━━━━━━━━\u001b[0m\u001b[37m\u001b[0m \u001b[1m0s\u001b[0m 36ms/step\n",
          "output_type": "stream"
        },
        {
          "name": "stderr",
          "text": " 58%|█████▊    | 245/425 [00:24<00:14, 12.22it/s]",
          "output_type": "stream"
        },
        {
          "name": "stdout",
          "text": "\u001b[1m1/1\u001b[0m \u001b[32m━━━━━━━━━━━━━━━━━━━━\u001b[0m\u001b[37m\u001b[0m \u001b[1m0s\u001b[0m 36ms/step\n\u001b[1m1/1\u001b[0m \u001b[32m━━━━━━━━━━━━━━━━━━━━\u001b[0m\u001b[37m\u001b[0m \u001b[1m0s\u001b[0m 35ms/step\n",
          "output_type": "stream"
        },
        {
          "name": "stderr",
          "text": " 58%|█████▊    | 247/425 [00:24<00:14, 12.36it/s]",
          "output_type": "stream"
        },
        {
          "name": "stdout",
          "text": "\u001b[1m1/1\u001b[0m \u001b[32m━━━━━━━━━━━━━━━━━━━━\u001b[0m\u001b[37m\u001b[0m \u001b[1m0s\u001b[0m 36ms/step\n\u001b[1m1/1\u001b[0m \u001b[32m━━━━━━━━━━━━━━━━━━━━\u001b[0m\u001b[37m\u001b[0m \u001b[1m0s\u001b[0m 37ms/step\n",
          "output_type": "stream"
        },
        {
          "name": "stderr",
          "text": " 59%|█████▊    | 249/425 [00:25<00:14, 12.29it/s]",
          "output_type": "stream"
        },
        {
          "name": "stdout",
          "text": "\u001b[1m1/1\u001b[0m \u001b[32m━━━━━━━━━━━━━━━━━━━━\u001b[0m\u001b[37m\u001b[0m \u001b[1m0s\u001b[0m 37ms/step\n\u001b[1m1/1\u001b[0m \u001b[32m━━━━━━━━━━━━━━━━━━━━\u001b[0m\u001b[37m\u001b[0m \u001b[1m0s\u001b[0m 36ms/step\n",
          "output_type": "stream"
        },
        {
          "name": "stderr",
          "text": " 59%|█████▉    | 251/425 [00:25<00:14, 12.37it/s]",
          "output_type": "stream"
        },
        {
          "name": "stdout",
          "text": "\u001b[1m1/1\u001b[0m \u001b[32m━━━━━━━━━━━━━━━━━━━━\u001b[0m\u001b[37m\u001b[0m \u001b[1m0s\u001b[0m 36ms/step\n\u001b[1m1/1\u001b[0m \u001b[32m━━━━━━━━━━━━━━━━━━━━\u001b[0m\u001b[37m\u001b[0m \u001b[1m0s\u001b[0m 37ms/step\n",
          "output_type": "stream"
        },
        {
          "name": "stderr",
          "text": " 60%|█████▉    | 253/425 [00:25<00:14, 12.25it/s]",
          "output_type": "stream"
        },
        {
          "name": "stdout",
          "text": "\u001b[1m1/1\u001b[0m \u001b[32m━━━━━━━━━━━━━━━━━━━━\u001b[0m\u001b[37m\u001b[0m \u001b[1m0s\u001b[0m 37ms/step\n\u001b[1m1/1\u001b[0m \u001b[32m━━━━━━━━━━━━━━━━━━━━\u001b[0m\u001b[37m\u001b[0m \u001b[1m0s\u001b[0m 37ms/step\n",
          "output_type": "stream"
        },
        {
          "name": "stderr",
          "text": " 60%|██████    | 255/425 [00:25<00:13, 12.25it/s]",
          "output_type": "stream"
        },
        {
          "name": "stdout",
          "text": "\u001b[1m1/1\u001b[0m \u001b[32m━━━━━━━━━━━━━━━━━━━━\u001b[0m\u001b[37m\u001b[0m \u001b[1m0s\u001b[0m 36ms/step\n\u001b[1m1/1\u001b[0m \u001b[32m━━━━━━━━━━━━━━━━━━━━\u001b[0m\u001b[37m\u001b[0m \u001b[1m0s\u001b[0m 38ms/step\n",
          "output_type": "stream"
        },
        {
          "name": "stderr",
          "text": " 60%|██████    | 257/425 [00:25<00:13, 12.12it/s]",
          "output_type": "stream"
        },
        {
          "name": "stdout",
          "text": "\u001b[1m1/1\u001b[0m \u001b[32m━━━━━━━━━━━━━━━━━━━━\u001b[0m\u001b[37m\u001b[0m \u001b[1m0s\u001b[0m 37ms/step\n\u001b[1m1/1\u001b[0m \u001b[32m━━━━━━━━━━━━━━━━━━━━\u001b[0m\u001b[37m\u001b[0m \u001b[1m0s\u001b[0m 36ms/step\n",
          "output_type": "stream"
        },
        {
          "name": "stderr",
          "text": " 61%|██████    | 259/425 [00:25<00:13, 12.12it/s]",
          "output_type": "stream"
        },
        {
          "name": "stdout",
          "text": "\u001b[1m1/1\u001b[0m \u001b[32m━━━━━━━━━━━━━━━━━━━━\u001b[0m\u001b[37m\u001b[0m \u001b[1m0s\u001b[0m 38ms/step\n\u001b[1m1/1\u001b[0m \u001b[32m━━━━━━━━━━━━━━━━━━━━\u001b[0m\u001b[37m\u001b[0m \u001b[1m0s\u001b[0m 40ms/step\n",
          "output_type": "stream"
        },
        {
          "name": "stderr",
          "text": " 61%|██████▏   | 261/425 [00:26<00:13, 11.99it/s]",
          "output_type": "stream"
        },
        {
          "name": "stdout",
          "text": "\u001b[1m1/1\u001b[0m \u001b[32m━━━━━━━━━━━━━━━━━━━━\u001b[0m\u001b[37m\u001b[0m \u001b[1m0s\u001b[0m 38ms/step\n\u001b[1m1/1\u001b[0m \u001b[32m━━━━━━━━━━━━━━━━━━━━\u001b[0m\u001b[37m\u001b[0m \u001b[1m0s\u001b[0m 39ms/step\n",
          "output_type": "stream"
        },
        {
          "name": "stderr",
          "text": " 62%|██████▏   | 263/425 [00:26<00:13, 11.94it/s]",
          "output_type": "stream"
        },
        {
          "name": "stdout",
          "text": "\u001b[1m1/1\u001b[0m \u001b[32m━━━━━━━━━━━━━━━━━━━━\u001b[0m\u001b[37m\u001b[0m \u001b[1m0s\u001b[0m 37ms/step\n\u001b[1m1/1\u001b[0m \u001b[32m━━━━━━━━━━━━━━━━━━━━\u001b[0m\u001b[37m\u001b[0m \u001b[1m0s\u001b[0m 36ms/step\n",
          "output_type": "stream"
        },
        {
          "name": "stderr",
          "text": " 62%|██████▏   | 265/425 [00:26<00:13, 12.06it/s]",
          "output_type": "stream"
        },
        {
          "name": "stdout",
          "text": "\u001b[1m1/1\u001b[0m \u001b[32m━━━━━━━━━━━━━━━━━━━━\u001b[0m\u001b[37m\u001b[0m \u001b[1m0s\u001b[0m 36ms/step\n\u001b[1m1/1\u001b[0m \u001b[32m━━━━━━━━━━━━━━━━━━━━\u001b[0m\u001b[37m\u001b[0m \u001b[1m0s\u001b[0m 35ms/step\n",
          "output_type": "stream"
        },
        {
          "name": "stderr",
          "text": " 63%|██████▎   | 267/425 [00:26<00:12, 12.24it/s]",
          "output_type": "stream"
        },
        {
          "name": "stdout",
          "text": "\u001b[1m1/1\u001b[0m \u001b[32m━━━━━━━━━━━━━━━━━━━━\u001b[0m\u001b[37m\u001b[0m \u001b[1m0s\u001b[0m 35ms/step\n\u001b[1m1/1\u001b[0m \u001b[32m━━━━━━━━━━━━━━━━━━━━\u001b[0m\u001b[37m\u001b[0m \u001b[1m0s\u001b[0m 36ms/step\n",
          "output_type": "stream"
        },
        {
          "name": "stderr",
          "text": " 63%|██████▎   | 269/425 [00:26<00:12, 12.36it/s]",
          "output_type": "stream"
        },
        {
          "name": "stdout",
          "text": "\u001b[1m1/1\u001b[0m \u001b[32m━━━━━━━━━━━━━━━━━━━━\u001b[0m\u001b[37m\u001b[0m \u001b[1m0s\u001b[0m 35ms/step\n\u001b[1m1/1\u001b[0m \u001b[32m━━━━━━━━━━━━━━━━━━━━\u001b[0m\u001b[37m\u001b[0m \u001b[1m0s\u001b[0m 35ms/step\n",
          "output_type": "stream"
        },
        {
          "name": "stderr",
          "text": " 64%|██████▍   | 271/425 [00:26<00:12, 12.50it/s]",
          "output_type": "stream"
        },
        {
          "name": "stdout",
          "text": "\u001b[1m1/1\u001b[0m \u001b[32m━━━━━━━━━━━━━━━━━━━━\u001b[0m\u001b[37m\u001b[0m \u001b[1m0s\u001b[0m 36ms/step\n\u001b[1m1/1\u001b[0m \u001b[32m━━━━━━━━━━━━━━━━━━━━\u001b[0m\u001b[37m\u001b[0m \u001b[1m0s\u001b[0m 36ms/step\n",
          "output_type": "stream"
        },
        {
          "name": "stderr",
          "text": " 64%|██████▍   | 273/425 [00:27<00:12, 12.51it/s]",
          "output_type": "stream"
        },
        {
          "name": "stdout",
          "text": "\u001b[1m1/1\u001b[0m \u001b[32m━━━━━━━━━━━━━━━━━━━━\u001b[0m\u001b[37m\u001b[0m \u001b[1m0s\u001b[0m 36ms/step\n\u001b[1m1/1\u001b[0m \u001b[32m━━━━━━━━━━━━━━━━━━━━\u001b[0m\u001b[37m\u001b[0m \u001b[1m0s\u001b[0m 36ms/step\n",
          "output_type": "stream"
        },
        {
          "name": "stderr",
          "text": " 65%|██████▍   | 275/425 [00:27<00:11, 12.55it/s]",
          "output_type": "stream"
        },
        {
          "name": "stdout",
          "text": "\u001b[1m1/1\u001b[0m \u001b[32m━━━━━━━━━━━━━━━━━━━━\u001b[0m\u001b[37m\u001b[0m \u001b[1m0s\u001b[0m 35ms/step\n\u001b[1m1/1\u001b[0m \u001b[32m━━━━━━━━━━━━━━━━━━━━\u001b[0m\u001b[37m\u001b[0m \u001b[1m0s\u001b[0m 36ms/step\n",
          "output_type": "stream"
        },
        {
          "name": "stderr",
          "text": " 65%|██████▌   | 277/425 [00:27<00:11, 12.61it/s]",
          "output_type": "stream"
        },
        {
          "name": "stdout",
          "text": "\u001b[1m1/1\u001b[0m \u001b[32m━━━━━━━━━━━━━━━━━━━━\u001b[0m\u001b[37m\u001b[0m \u001b[1m0s\u001b[0m 36ms/step\n\u001b[1m1/1\u001b[0m \u001b[32m━━━━━━━━━━━━━━━━━━━━\u001b[0m\u001b[37m\u001b[0m \u001b[1m0s\u001b[0m 35ms/step\n",
          "output_type": "stream"
        },
        {
          "name": "stderr",
          "text": " 66%|██████▌   | 279/425 [00:27<00:11, 12.61it/s]",
          "output_type": "stream"
        },
        {
          "name": "stdout",
          "text": "\u001b[1m1/1\u001b[0m \u001b[32m━━━━━━━━━━━━━━━━━━━━\u001b[0m\u001b[37m\u001b[0m \u001b[1m0s\u001b[0m 36ms/step\n\u001b[1m1/1\u001b[0m \u001b[32m━━━━━━━━━━━━━━━━━━━━\u001b[0m\u001b[37m\u001b[0m \u001b[1m0s\u001b[0m 35ms/step\n",
          "output_type": "stream"
        },
        {
          "name": "stderr",
          "text": " 66%|██████▌   | 281/425 [00:27<00:11, 12.72it/s]",
          "output_type": "stream"
        },
        {
          "name": "stdout",
          "text": "\u001b[1m1/1\u001b[0m \u001b[32m━━━━━━━━━━━━━━━━━━━━\u001b[0m\u001b[37m\u001b[0m \u001b[1m0s\u001b[0m 35ms/step\n\u001b[1m1/1\u001b[0m \u001b[32m━━━━━━━━━━━━━━━━━━━━\u001b[0m\u001b[37m\u001b[0m \u001b[1m0s\u001b[0m 35ms/step\n",
          "output_type": "stream"
        },
        {
          "name": "stderr",
          "text": " 67%|██████▋   | 283/425 [00:27<00:11, 12.75it/s]",
          "output_type": "stream"
        },
        {
          "name": "stdout",
          "text": "\u001b[1m1/1\u001b[0m \u001b[32m━━━━━━━━━━━━━━━━━━━━\u001b[0m\u001b[37m\u001b[0m \u001b[1m0s\u001b[0m 35ms/step\n\u001b[1m1/1\u001b[0m \u001b[32m━━━━━━━━━━━━━━━━━━━━\u001b[0m\u001b[37m\u001b[0m \u001b[1m0s\u001b[0m 36ms/step\n",
          "output_type": "stream"
        },
        {
          "name": "stderr",
          "text": " 67%|██████▋   | 285/425 [00:27<00:11, 12.73it/s]",
          "output_type": "stream"
        },
        {
          "name": "stdout",
          "text": "\u001b[1m1/1\u001b[0m \u001b[32m━━━━━━━━━━━━━━━━━━━━\u001b[0m\u001b[37m\u001b[0m \u001b[1m0s\u001b[0m 36ms/step\n\u001b[1m1/1\u001b[0m \u001b[32m━━━━━━━━━━━━━━━━━━━━\u001b[0m\u001b[37m\u001b[0m \u001b[1m0s\u001b[0m 36ms/step\n",
          "output_type": "stream"
        },
        {
          "name": "stderr",
          "text": " 68%|██████▊   | 287/425 [00:28<00:10, 12.76it/s]",
          "output_type": "stream"
        },
        {
          "name": "stdout",
          "text": "\u001b[1m1/1\u001b[0m \u001b[32m━━━━━━━━━━━━━━━━━━━━\u001b[0m\u001b[37m\u001b[0m \u001b[1m0s\u001b[0m 36ms/step\n\u001b[1m1/1\u001b[0m \u001b[32m━━━━━━━━━━━━━━━━━━━━\u001b[0m\u001b[37m\u001b[0m \u001b[1m0s\u001b[0m 37ms/step\n",
          "output_type": "stream"
        },
        {
          "name": "stderr",
          "text": " 68%|██████▊   | 289/425 [00:28<00:10, 12.68it/s]",
          "output_type": "stream"
        },
        {
          "name": "stdout",
          "text": "\u001b[1m1/1\u001b[0m \u001b[32m━━━━━━━━━━━━━━━━━━━━\u001b[0m\u001b[37m\u001b[0m \u001b[1m0s\u001b[0m 35ms/step\n\u001b[1m1/1\u001b[0m \u001b[32m━━━━━━━━━━━━━━━━━━━━\u001b[0m\u001b[37m\u001b[0m \u001b[1m0s\u001b[0m 35ms/step\n",
          "output_type": "stream"
        },
        {
          "name": "stderr",
          "text": " 68%|██████▊   | 291/425 [00:28<00:10, 12.72it/s]",
          "output_type": "stream"
        },
        {
          "name": "stdout",
          "text": "\u001b[1m1/1\u001b[0m \u001b[32m━━━━━━━━━━━━━━━━━━━━\u001b[0m\u001b[37m\u001b[0m \u001b[1m0s\u001b[0m 36ms/step\n\u001b[1m1/1\u001b[0m \u001b[32m━━━━━━━━━━━━━━━━━━━━\u001b[0m\u001b[37m\u001b[0m \u001b[1m0s\u001b[0m 35ms/step\n",
          "output_type": "stream"
        },
        {
          "name": "stderr",
          "text": " 69%|██████▉   | 293/425 [00:28<00:10, 12.60it/s]",
          "output_type": "stream"
        },
        {
          "name": "stdout",
          "text": "\u001b[1m1/1\u001b[0m \u001b[32m━━━━━━━━━━━━━━━━━━━━\u001b[0m\u001b[37m\u001b[0m \u001b[1m0s\u001b[0m 35ms/step\n\u001b[1m1/1\u001b[0m \u001b[32m━━━━━━━━━━━━━━━━━━━━\u001b[0m\u001b[37m\u001b[0m \u001b[1m0s\u001b[0m 35ms/step\n",
          "output_type": "stream"
        },
        {
          "name": "stderr",
          "text": " 69%|██████▉   | 295/425 [00:28<00:10, 12.69it/s]",
          "output_type": "stream"
        },
        {
          "name": "stdout",
          "text": "\u001b[1m1/1\u001b[0m \u001b[32m━━━━━━━━━━━━━━━━━━━━\u001b[0m\u001b[37m\u001b[0m \u001b[1m0s\u001b[0m 36ms/step\n\u001b[1m1/1\u001b[0m \u001b[32m━━━━━━━━━━━━━━━━━━━━\u001b[0m\u001b[37m\u001b[0m \u001b[1m0s\u001b[0m 37ms/step\n",
          "output_type": "stream"
        },
        {
          "name": "stderr",
          "text": " 70%|██████▉   | 297/425 [00:28<00:10, 12.61it/s]",
          "output_type": "stream"
        },
        {
          "name": "stdout",
          "text": "\u001b[1m1/1\u001b[0m \u001b[32m━━━━━━━━━━━━━━━━━━━━\u001b[0m\u001b[37m\u001b[0m \u001b[1m0s\u001b[0m 36ms/step\n\u001b[1m1/1\u001b[0m \u001b[32m━━━━━━━━━━━━━━━━━━━━\u001b[0m\u001b[37m\u001b[0m \u001b[1m0s\u001b[0m 36ms/step\n",
          "output_type": "stream"
        },
        {
          "name": "stderr",
          "text": " 70%|███████   | 299/425 [00:29<00:10, 12.46it/s]",
          "output_type": "stream"
        },
        {
          "name": "stdout",
          "text": "\u001b[1m1/1\u001b[0m \u001b[32m━━━━━━━━━━━━━━━━━━━━\u001b[0m\u001b[37m\u001b[0m \u001b[1m0s\u001b[0m 36ms/step\n\u001b[1m1/1\u001b[0m \u001b[32m━━━━━━━━━━━━━━━━━━━━\u001b[0m\u001b[37m\u001b[0m \u001b[1m0s\u001b[0m 38ms/step\n",
          "output_type": "stream"
        },
        {
          "name": "stderr",
          "text": " 71%|███████   | 301/425 [00:29<00:09, 12.41it/s]",
          "output_type": "stream"
        },
        {
          "name": "stdout",
          "text": "\u001b[1m1/1\u001b[0m \u001b[32m━━━━━━━━━━━━━━━━━━━━\u001b[0m\u001b[37m\u001b[0m \u001b[1m0s\u001b[0m 38ms/step\n\u001b[1m1/1\u001b[0m \u001b[32m━━━━━━━━━━━━━━━━━━━━\u001b[0m\u001b[37m\u001b[0m \u001b[1m0s\u001b[0m 38ms/step\n",
          "output_type": "stream"
        },
        {
          "name": "stderr",
          "text": " 71%|███████▏  | 303/425 [00:29<00:09, 12.22it/s]",
          "output_type": "stream"
        },
        {
          "name": "stdout",
          "text": "\u001b[1m1/1\u001b[0m \u001b[32m━━━━━━━━━━━━━━━━━━━━\u001b[0m\u001b[37m\u001b[0m \u001b[1m0s\u001b[0m 38ms/step\n\u001b[1m1/1\u001b[0m \u001b[32m━━━━━━━━━━━━━━━━━━━━\u001b[0m\u001b[37m\u001b[0m \u001b[1m0s\u001b[0m 38ms/step\n",
          "output_type": "stream"
        },
        {
          "name": "stderr",
          "text": " 72%|███████▏  | 305/425 [00:29<00:09, 12.13it/s]",
          "output_type": "stream"
        },
        {
          "name": "stdout",
          "text": "\u001b[1m1/1\u001b[0m \u001b[32m━━━━━━━━━━━━━━━━━━━━\u001b[0m\u001b[37m\u001b[0m \u001b[1m0s\u001b[0m 39ms/step\n\u001b[1m1/1\u001b[0m \u001b[32m━━━━━━━━━━━━━━━━━━━━\u001b[0m\u001b[37m\u001b[0m \u001b[1m0s\u001b[0m 38ms/step\n",
          "output_type": "stream"
        },
        {
          "name": "stderr",
          "text": " 72%|███████▏  | 307/425 [00:29<00:09, 12.07it/s]",
          "output_type": "stream"
        },
        {
          "name": "stdout",
          "text": "\u001b[1m1/1\u001b[0m \u001b[32m━━━━━━━━━━━━━━━━━━━━\u001b[0m\u001b[37m\u001b[0m \u001b[1m0s\u001b[0m 38ms/step\n\u001b[1m1/1\u001b[0m \u001b[32m━━━━━━━━━━━━━━━━━━━━\u001b[0m\u001b[37m\u001b[0m \u001b[1m0s\u001b[0m 39ms/step\n",
          "output_type": "stream"
        },
        {
          "name": "stderr",
          "text": " 73%|███████▎  | 309/425 [00:29<00:09, 11.91it/s]",
          "output_type": "stream"
        },
        {
          "name": "stdout",
          "text": "\u001b[1m1/1\u001b[0m \u001b[32m━━━━━━━━━━━━━━━━━━━━\u001b[0m\u001b[37m\u001b[0m \u001b[1m0s\u001b[0m 36ms/step\n\u001b[1m1/1\u001b[0m \u001b[32m━━━━━━━━━━━━━━━━━━━━\u001b[0m\u001b[37m\u001b[0m \u001b[1m0s\u001b[0m 36ms/step\n",
          "output_type": "stream"
        },
        {
          "name": "stderr",
          "text": " 73%|███████▎  | 311/425 [00:30<00:09, 12.09it/s]",
          "output_type": "stream"
        },
        {
          "name": "stdout",
          "text": "\u001b[1m1/1\u001b[0m \u001b[32m━━━━━━━━━━━━━━━━━━━━\u001b[0m\u001b[37m\u001b[0m \u001b[1m0s\u001b[0m 36ms/step\n\u001b[1m1/1\u001b[0m \u001b[32m━━━━━━━━━━━━━━━━━━━━\u001b[0m\u001b[37m\u001b[0m \u001b[1m0s\u001b[0m 36ms/step\n",
          "output_type": "stream"
        },
        {
          "name": "stderr",
          "text": " 74%|███████▎  | 313/425 [00:30<00:09, 12.21it/s]",
          "output_type": "stream"
        },
        {
          "name": "stdout",
          "text": "\u001b[1m1/1\u001b[0m \u001b[32m━━━━━━━━━━━━━━━━━━━━\u001b[0m\u001b[37m\u001b[0m \u001b[1m0s\u001b[0m 36ms/step\n\u001b[1m1/1\u001b[0m \u001b[32m━━━━━━━━━━━━━━━━━━━━\u001b[0m\u001b[37m\u001b[0m \u001b[1m0s\u001b[0m 36ms/step\n",
          "output_type": "stream"
        },
        {
          "name": "stderr",
          "text": " 74%|███████▍  | 315/425 [00:30<00:08, 12.24it/s]",
          "output_type": "stream"
        },
        {
          "name": "stdout",
          "text": "\u001b[1m1/1\u001b[0m \u001b[32m━━━━━━━━━━━━━━━━━━━━\u001b[0m\u001b[37m\u001b[0m \u001b[1m0s\u001b[0m 36ms/step\n\u001b[1m1/1\u001b[0m \u001b[32m━━━━━━━━━━━━━━━━━━━━\u001b[0m\u001b[37m\u001b[0m \u001b[1m0s\u001b[0m 36ms/step\n",
          "output_type": "stream"
        },
        {
          "name": "stderr",
          "text": " 75%|███████▍  | 317/425 [00:30<00:08, 12.28it/s]",
          "output_type": "stream"
        },
        {
          "name": "stdout",
          "text": "\u001b[1m1/1\u001b[0m \u001b[32m━━━━━━━━━━━━━━━━━━━━\u001b[0m\u001b[37m\u001b[0m \u001b[1m0s\u001b[0m 35ms/step\n\u001b[1m1/1\u001b[0m \u001b[32m━━━━━━━━━━━━━━━━━━━━\u001b[0m\u001b[37m\u001b[0m \u001b[1m0s\u001b[0m 35ms/step\n",
          "output_type": "stream"
        },
        {
          "name": "stderr",
          "text": " 75%|███████▌  | 319/425 [00:30<00:08, 12.40it/s]",
          "output_type": "stream"
        },
        {
          "name": "stdout",
          "text": "\u001b[1m1/1\u001b[0m \u001b[32m━━━━━━━━━━━━━━━━━━━━\u001b[0m\u001b[37m\u001b[0m \u001b[1m0s\u001b[0m 36ms/step\n\u001b[1m1/1\u001b[0m \u001b[32m━━━━━━━━━━━━━━━━━━━━\u001b[0m\u001b[37m\u001b[0m \u001b[1m0s\u001b[0m 38ms/step\n",
          "output_type": "stream"
        },
        {
          "name": "stderr",
          "text": " 76%|███████▌  | 321/425 [00:30<00:08, 12.39it/s]",
          "output_type": "stream"
        },
        {
          "name": "stdout",
          "text": "\u001b[1m1/1\u001b[0m \u001b[32m━━━━━━━━━━━━━━━━━━━━\u001b[0m\u001b[37m\u001b[0m \u001b[1m0s\u001b[0m 36ms/step\n\u001b[1m1/1\u001b[0m \u001b[32m━━━━━━━━━━━━━━━━━━━━\u001b[0m\u001b[37m\u001b[0m \u001b[1m0s\u001b[0m 37ms/step\n",
          "output_type": "stream"
        },
        {
          "name": "stderr",
          "text": " 76%|███████▌  | 323/425 [00:31<00:08, 12.44it/s]",
          "output_type": "stream"
        },
        {
          "name": "stdout",
          "text": "\u001b[1m1/1\u001b[0m \u001b[32m━━━━━━━━━━━━━━━━━━━━\u001b[0m\u001b[37m\u001b[0m \u001b[1m0s\u001b[0m 36ms/step\n\u001b[1m1/1\u001b[0m \u001b[32m━━━━━━━━━━━━━━━━━━━━\u001b[0m\u001b[37m\u001b[0m \u001b[1m0s\u001b[0m 37ms/step\n",
          "output_type": "stream"
        },
        {
          "name": "stderr",
          "text": " 76%|███████▋  | 325/425 [00:31<00:08, 12.41it/s]",
          "output_type": "stream"
        },
        {
          "name": "stdout",
          "text": "\u001b[1m1/1\u001b[0m \u001b[32m━━━━━━━━━━━━━━━━━━━━\u001b[0m\u001b[37m\u001b[0m \u001b[1m0s\u001b[0m 37ms/step\n\u001b[1m1/1\u001b[0m \u001b[32m━━━━━━━━━━━━━━━━━━━━\u001b[0m\u001b[37m\u001b[0m \u001b[1m0s\u001b[0m 35ms/step\n",
          "output_type": "stream"
        },
        {
          "name": "stderr",
          "text": " 77%|███████▋  | 327/425 [00:31<00:07, 12.47it/s]",
          "output_type": "stream"
        },
        {
          "name": "stdout",
          "text": "\u001b[1m1/1\u001b[0m \u001b[32m━━━━━━━━━━━━━━━━━━━━\u001b[0m\u001b[37m\u001b[0m \u001b[1m0s\u001b[0m 35ms/step\n\u001b[1m1/1\u001b[0m \u001b[32m━━━━━━━━━━━━━━━━━━━━\u001b[0m\u001b[37m\u001b[0m \u001b[1m0s\u001b[0m 35ms/step\n",
          "output_type": "stream"
        },
        {
          "name": "stderr",
          "text": " 77%|███████▋  | 329/425 [00:31<00:07, 12.54it/s]",
          "output_type": "stream"
        },
        {
          "name": "stdout",
          "text": "\u001b[1m1/1\u001b[0m \u001b[32m━━━━━━━━━━━━━━━━━━━━\u001b[0m\u001b[37m\u001b[0m \u001b[1m0s\u001b[0m 36ms/step\n\u001b[1m1/1\u001b[0m \u001b[32m━━━━━━━━━━━━━━━━━━━━\u001b[0m\u001b[37m\u001b[0m \u001b[1m0s\u001b[0m 35ms/step\n",
          "output_type": "stream"
        },
        {
          "name": "stderr",
          "text": " 78%|███████▊  | 331/425 [00:31<00:07, 12.59it/s]",
          "output_type": "stream"
        },
        {
          "name": "stdout",
          "text": "\u001b[1m1/1\u001b[0m \u001b[32m━━━━━━━━━━━━━━━━━━━━\u001b[0m\u001b[37m\u001b[0m \u001b[1m0s\u001b[0m 36ms/step\n\u001b[1m1/1\u001b[0m \u001b[32m━━━━━━━━━━━━━━━━━━━━\u001b[0m\u001b[37m\u001b[0m \u001b[1m0s\u001b[0m 39ms/step\n",
          "output_type": "stream"
        },
        {
          "name": "stderr",
          "text": " 78%|███████▊  | 333/425 [00:31<00:07, 12.45it/s]",
          "output_type": "stream"
        },
        {
          "name": "stdout",
          "text": "\u001b[1m1/1\u001b[0m \u001b[32m━━━━━━━━━━━━━━━━━━━━\u001b[0m\u001b[37m\u001b[0m \u001b[1m0s\u001b[0m 37ms/step\n\u001b[1m1/1\u001b[0m \u001b[32m━━━━━━━━━━━━━━━━━━━━\u001b[0m\u001b[37m\u001b[0m \u001b[1m0s\u001b[0m 37ms/step\n",
          "output_type": "stream"
        },
        {
          "name": "stderr",
          "text": " 79%|███████▉  | 335/425 [00:32<00:07, 12.37it/s]",
          "output_type": "stream"
        },
        {
          "name": "stdout",
          "text": "\u001b[1m1/1\u001b[0m \u001b[32m━━━━━━━━━━━━━━━━━━━━\u001b[0m\u001b[37m\u001b[0m \u001b[1m0s\u001b[0m 36ms/step\n\u001b[1m1/1\u001b[0m \u001b[32m━━━━━━━━━━━━━━━━━━━━\u001b[0m\u001b[37m\u001b[0m \u001b[1m0s\u001b[0m 37ms/step\n",
          "output_type": "stream"
        },
        {
          "name": "stderr",
          "text": " 79%|███████▉  | 337/425 [00:32<00:07, 12.24it/s]",
          "output_type": "stream"
        },
        {
          "name": "stdout",
          "text": "\u001b[1m1/1\u001b[0m \u001b[32m━━━━━━━━━━━━━━━━━━━━\u001b[0m\u001b[37m\u001b[0m \u001b[1m0s\u001b[0m 37ms/step\n\u001b[1m1/1\u001b[0m \u001b[32m━━━━━━━━━━━━━━━━━━━━\u001b[0m\u001b[37m\u001b[0m \u001b[1m0s\u001b[0m 46ms/step\n",
          "output_type": "stream"
        },
        {
          "name": "stderr",
          "text": " 80%|███████▉  | 339/425 [00:32<00:07, 11.70it/s]",
          "output_type": "stream"
        },
        {
          "name": "stdout",
          "text": "\u001b[1m1/1\u001b[0m \u001b[32m━━━━━━━━━━━━━━━━━━━━\u001b[0m\u001b[37m\u001b[0m \u001b[1m0s\u001b[0m 37ms/step\n\u001b[1m1/1\u001b[0m \u001b[32m━━━━━━━━━━━━━━━━━━━━\u001b[0m\u001b[37m\u001b[0m \u001b[1m0s\u001b[0m 37ms/step\n",
          "output_type": "stream"
        },
        {
          "name": "stderr",
          "text": " 80%|████████  | 341/425 [00:32<00:07, 11.77it/s]",
          "output_type": "stream"
        },
        {
          "name": "stdout",
          "text": "\u001b[1m1/1\u001b[0m \u001b[32m━━━━━━━━━━━━━━━━━━━━\u001b[0m\u001b[37m\u001b[0m \u001b[1m0s\u001b[0m 37ms/step\n\u001b[1m1/1\u001b[0m \u001b[32m━━━━━━━━━━━━━━━━━━━━\u001b[0m\u001b[37m\u001b[0m \u001b[1m0s\u001b[0m 40ms/step\n",
          "output_type": "stream"
        },
        {
          "name": "stderr",
          "text": " 81%|████████  | 343/425 [00:32<00:06, 11.77it/s]",
          "output_type": "stream"
        },
        {
          "name": "stdout",
          "text": "\u001b[1m1/1\u001b[0m \u001b[32m━━━━━━━━━━━━━━━━━━━━\u001b[0m\u001b[37m\u001b[0m \u001b[1m0s\u001b[0m 44ms/step\n\u001b[1m1/1\u001b[0m \u001b[32m━━━━━━━━━━━━━━━━━━━━\u001b[0m\u001b[37m\u001b[0m \u001b[1m0s\u001b[0m 43ms/step\n",
          "output_type": "stream"
        },
        {
          "name": "stderr",
          "text": " 81%|████████  | 345/425 [00:32<00:07, 11.35it/s]",
          "output_type": "stream"
        },
        {
          "name": "stdout",
          "text": "\u001b[1m1/1\u001b[0m \u001b[32m━━━━━━━━━━━━━━━━━━━━\u001b[0m\u001b[37m\u001b[0m \u001b[1m0s\u001b[0m 47ms/step\n\u001b[1m1/1\u001b[0m \u001b[32m━━━━━━━━━━━━━━━━━━━━\u001b[0m\u001b[37m\u001b[0m \u001b[1m0s\u001b[0m 44ms/step\n",
          "output_type": "stream"
        },
        {
          "name": "stderr",
          "text": " 82%|████████▏ | 347/425 [00:33<00:07, 10.97it/s]",
          "output_type": "stream"
        },
        {
          "name": "stdout",
          "text": "\u001b[1m1/1\u001b[0m \u001b[32m━━━━━━━━━━━━━━━━━━━━\u001b[0m\u001b[37m\u001b[0m \u001b[1m0s\u001b[0m 47ms/step\n\u001b[1m1/1\u001b[0m \u001b[32m━━━━━━━━━━━━━━━━━━━━\u001b[0m\u001b[37m\u001b[0m \u001b[1m0s\u001b[0m 42ms/step\n",
          "output_type": "stream"
        },
        {
          "name": "stderr",
          "text": " 82%|████████▏ | 349/425 [00:33<00:06, 10.90it/s]",
          "output_type": "stream"
        },
        {
          "name": "stdout",
          "text": "\u001b[1m1/1\u001b[0m \u001b[32m━━━━━━━━━━━━━━━━━━━━\u001b[0m\u001b[37m\u001b[0m \u001b[1m0s\u001b[0m 36ms/step\n\u001b[1m1/1\u001b[0m \u001b[32m━━━━━━━━━━━━━━━━━━━━\u001b[0m\u001b[37m\u001b[0m \u001b[1m0s\u001b[0m 36ms/step\n",
          "output_type": "stream"
        },
        {
          "name": "stderr",
          "text": " 83%|████████▎ | 351/425 [00:33<00:06, 11.20it/s]",
          "output_type": "stream"
        },
        {
          "name": "stdout",
          "text": "\u001b[1m1/1\u001b[0m \u001b[32m━━━━━━━━━━━━━━━━━━━━\u001b[0m\u001b[37m\u001b[0m \u001b[1m0s\u001b[0m 40ms/step\n\u001b[1m1/1\u001b[0m \u001b[32m━━━━━━━━━━━━━━━━━━━━\u001b[0m\u001b[37m\u001b[0m \u001b[1m0s\u001b[0m 43ms/step\n",
          "output_type": "stream"
        },
        {
          "name": "stderr",
          "text": " 83%|████████▎ | 353/425 [00:33<00:06, 11.18it/s]",
          "output_type": "stream"
        },
        {
          "name": "stdout",
          "text": "\u001b[1m1/1\u001b[0m \u001b[32m━━━━━━━━━━━━━━━━━━━━\u001b[0m\u001b[37m\u001b[0m \u001b[1m0s\u001b[0m 38ms/step\n\u001b[1m1/1\u001b[0m \u001b[32m━━━━━━━━━━━━━━━━━━━━\u001b[0m\u001b[37m\u001b[0m \u001b[1m0s\u001b[0m 39ms/step\n",
          "output_type": "stream"
        },
        {
          "name": "stderr",
          "text": " 84%|████████▎ | 355/425 [00:33<00:06, 11.23it/s]",
          "output_type": "stream"
        },
        {
          "name": "stdout",
          "text": "\u001b[1m1/1\u001b[0m \u001b[32m━━━━━━━━━━━━━━━━━━━━\u001b[0m\u001b[37m\u001b[0m \u001b[1m0s\u001b[0m 41ms/step\n\u001b[1m1/1\u001b[0m \u001b[32m━━━━━━━━━━━━━━━━━━━━\u001b[0m\u001b[37m\u001b[0m \u001b[1m0s\u001b[0m 38ms/step\n",
          "output_type": "stream"
        },
        {
          "name": "stderr",
          "text": " 84%|████████▍ | 357/425 [00:33<00:06, 11.33it/s]",
          "output_type": "stream"
        },
        {
          "name": "stdout",
          "text": "\u001b[1m1/1\u001b[0m \u001b[32m━━━━━━━━━━━━━━━━━━━━\u001b[0m\u001b[37m\u001b[0m \u001b[1m0s\u001b[0m 37ms/step\n\u001b[1m1/1\u001b[0m \u001b[32m━━━━━━━━━━━━━━━━━━━━\u001b[0m\u001b[37m\u001b[0m \u001b[1m0s\u001b[0m 37ms/step\n",
          "output_type": "stream"
        },
        {
          "name": "stderr",
          "text": " 84%|████████▍ | 359/425 [00:34<00:05, 11.56it/s]",
          "output_type": "stream"
        },
        {
          "name": "stdout",
          "text": "\u001b[1m1/1\u001b[0m \u001b[32m━━━━━━━━━━━━━━━━━━━━\u001b[0m\u001b[37m\u001b[0m \u001b[1m0s\u001b[0m 36ms/step\n\u001b[1m1/1\u001b[0m \u001b[32m━━━━━━━━━━━━━━━━━━━━\u001b[0m\u001b[37m\u001b[0m \u001b[1m0s\u001b[0m 35ms/step\n",
          "output_type": "stream"
        },
        {
          "name": "stderr",
          "text": " 85%|████████▍ | 361/425 [00:34<00:05, 11.85it/s]",
          "output_type": "stream"
        },
        {
          "name": "stdout",
          "text": "\u001b[1m1/1\u001b[0m \u001b[32m━━━━━━━━━━━━━━━━━━━━\u001b[0m\u001b[37m\u001b[0m \u001b[1m0s\u001b[0m 35ms/step\n\u001b[1m1/1\u001b[0m \u001b[32m━━━━━━━━━━━━━━━━━━━━\u001b[0m\u001b[37m\u001b[0m \u001b[1m0s\u001b[0m 35ms/step\n",
          "output_type": "stream"
        },
        {
          "name": "stderr",
          "text": " 85%|████████▌ | 363/425 [00:34<00:05, 12.15it/s]",
          "output_type": "stream"
        },
        {
          "name": "stdout",
          "text": "\u001b[1m1/1\u001b[0m \u001b[32m━━━━━━━━━━━━━━━━━━━━\u001b[0m\u001b[37m\u001b[0m \u001b[1m0s\u001b[0m 36ms/step\n\u001b[1m1/1\u001b[0m \u001b[32m━━━━━━━━━━━━━━━━━━━━\u001b[0m\u001b[37m\u001b[0m \u001b[1m0s\u001b[0m 36ms/step\n",
          "output_type": "stream"
        },
        {
          "name": "stderr",
          "text": " 86%|████████▌ | 365/425 [00:34<00:04, 12.32it/s]",
          "output_type": "stream"
        },
        {
          "name": "stdout",
          "text": "\u001b[1m1/1\u001b[0m \u001b[32m━━━━━━━━━━━━━━━━━━━━\u001b[0m\u001b[37m\u001b[0m \u001b[1m0s\u001b[0m 37ms/step\n\u001b[1m1/1\u001b[0m \u001b[32m━━━━━━━━━━━━━━━━━━━━\u001b[0m\u001b[37m\u001b[0m \u001b[1m0s\u001b[0m 35ms/step\n",
          "output_type": "stream"
        },
        {
          "name": "stderr",
          "text": " 86%|████████▋ | 367/425 [00:34<00:04, 12.43it/s]",
          "output_type": "stream"
        },
        {
          "name": "stdout",
          "text": "\u001b[1m1/1\u001b[0m \u001b[32m━━━━━━━━━━━━━━━━━━━━\u001b[0m\u001b[37m\u001b[0m \u001b[1m0s\u001b[0m 36ms/step\n\u001b[1m1/1\u001b[0m \u001b[32m━━━━━━━━━━━━━━━━━━━━\u001b[0m\u001b[37m\u001b[0m \u001b[1m0s\u001b[0m 37ms/step\n",
          "output_type": "stream"
        },
        {
          "name": "stderr",
          "text": " 87%|████████▋ | 369/425 [00:34<00:04, 12.38it/s]",
          "output_type": "stream"
        },
        {
          "name": "stdout",
          "text": "\u001b[1m1/1\u001b[0m \u001b[32m━━━━━━━━━━━━━━━━━━━━\u001b[0m\u001b[37m\u001b[0m \u001b[1m0s\u001b[0m 38ms/step\n\u001b[1m1/1\u001b[0m \u001b[32m━━━━━━━━━━━━━━━━━━━━\u001b[0m\u001b[37m\u001b[0m \u001b[1m0s\u001b[0m 36ms/step\n",
          "output_type": "stream"
        },
        {
          "name": "stderr",
          "text": " 87%|████████▋ | 371/425 [00:35<00:04, 12.28it/s]",
          "output_type": "stream"
        },
        {
          "name": "stdout",
          "text": "\u001b[1m1/1\u001b[0m \u001b[32m━━━━━━━━━━━━━━━━━━━━\u001b[0m\u001b[37m\u001b[0m \u001b[1m0s\u001b[0m 37ms/step\n\u001b[1m1/1\u001b[0m \u001b[32m━━━━━━━━━━━━━━━━━━━━\u001b[0m\u001b[37m\u001b[0m \u001b[1m0s\u001b[0m 38ms/step\n",
          "output_type": "stream"
        },
        {
          "name": "stderr",
          "text": " 88%|████████▊ | 373/425 [00:35<00:04, 12.26it/s]",
          "output_type": "stream"
        },
        {
          "name": "stdout",
          "text": "\u001b[1m1/1\u001b[0m \u001b[32m━━━━━━━━━━━━━━━━━━━━\u001b[0m\u001b[37m\u001b[0m \u001b[1m0s\u001b[0m 36ms/step\n\u001b[1m1/1\u001b[0m \u001b[32m━━━━━━━━━━━━━━━━━━━━\u001b[0m\u001b[37m\u001b[0m \u001b[1m0s\u001b[0m 35ms/step\n",
          "output_type": "stream"
        },
        {
          "name": "stderr",
          "text": " 88%|████████▊ | 375/425 [00:35<00:04, 12.38it/s]",
          "output_type": "stream"
        },
        {
          "name": "stdout",
          "text": "\u001b[1m1/1\u001b[0m \u001b[32m━━━━━━━━━━━━━━━━━━━━\u001b[0m\u001b[37m\u001b[0m \u001b[1m0s\u001b[0m 37ms/step\n\u001b[1m1/1\u001b[0m \u001b[32m━━━━━━━━━━━━━━━━━━━━\u001b[0m\u001b[37m\u001b[0m \u001b[1m0s\u001b[0m 36ms/step\n",
          "output_type": "stream"
        },
        {
          "name": "stderr",
          "text": " 89%|████████▊ | 377/425 [00:35<00:03, 12.35it/s]",
          "output_type": "stream"
        },
        {
          "name": "stdout",
          "text": "\u001b[1m1/1\u001b[0m \u001b[32m━━━━━━━━━━━━━━━━━━━━\u001b[0m\u001b[37m\u001b[0m \u001b[1m0s\u001b[0m 35ms/step\n\u001b[1m1/1\u001b[0m \u001b[32m━━━━━━━━━━━━━━━━━━━━\u001b[0m\u001b[37m\u001b[0m \u001b[1m0s\u001b[0m 36ms/step\n",
          "output_type": "stream"
        },
        {
          "name": "stderr",
          "text": " 89%|████████▉ | 379/425 [00:35<00:03, 12.42it/s]",
          "output_type": "stream"
        },
        {
          "name": "stdout",
          "text": "\u001b[1m1/1\u001b[0m \u001b[32m━━━━━━━━━━━━━━━━━━━━\u001b[0m\u001b[37m\u001b[0m \u001b[1m0s\u001b[0m 36ms/step\n\u001b[1m1/1\u001b[0m \u001b[32m━━━━━━━━━━━━━━━━━━━━\u001b[0m\u001b[37m\u001b[0m \u001b[1m0s\u001b[0m 37ms/step\n",
          "output_type": "stream"
        },
        {
          "name": "stderr",
          "text": " 90%|████████▉ | 381/425 [00:35<00:03, 12.38it/s]",
          "output_type": "stream"
        },
        {
          "name": "stdout",
          "text": "\u001b[1m1/1\u001b[0m \u001b[32m━━━━━━━━━━━━━━━━━━━━\u001b[0m\u001b[37m\u001b[0m \u001b[1m0s\u001b[0m 36ms/step\n\u001b[1m1/1\u001b[0m \u001b[32m━━━━━━━━━━━━━━━━━━━━\u001b[0m\u001b[37m\u001b[0m \u001b[1m0s\u001b[0m 36ms/step\n",
          "output_type": "stream"
        },
        {
          "name": "stderr",
          "text": " 90%|█████████ | 383/425 [00:36<00:03, 12.43it/s]",
          "output_type": "stream"
        },
        {
          "name": "stdout",
          "text": "\u001b[1m1/1\u001b[0m \u001b[32m━━━━━━━━━━━━━━━━━━━━\u001b[0m\u001b[37m\u001b[0m \u001b[1m0s\u001b[0m 36ms/step\n\u001b[1m1/1\u001b[0m \u001b[32m━━━━━━━━━━━━━━━━━━━━\u001b[0m\u001b[37m\u001b[0m \u001b[1m0s\u001b[0m 35ms/step\n",
          "output_type": "stream"
        },
        {
          "name": "stderr",
          "text": " 91%|█████████ | 385/425 [00:36<00:03, 12.49it/s]",
          "output_type": "stream"
        },
        {
          "name": "stdout",
          "text": "\u001b[1m1/1\u001b[0m \u001b[32m━━━━━━━━━━━━━━━━━━━━\u001b[0m\u001b[37m\u001b[0m \u001b[1m0s\u001b[0m 37ms/step\n\u001b[1m1/1\u001b[0m \u001b[32m━━━━━━━━━━━━━━━━━━━━\u001b[0m\u001b[37m\u001b[0m \u001b[1m0s\u001b[0m 37ms/step\n",
          "output_type": "stream"
        },
        {
          "name": "stderr",
          "text": " 91%|█████████ | 387/425 [00:36<00:03, 12.38it/s]",
          "output_type": "stream"
        },
        {
          "name": "stdout",
          "text": "\u001b[1m1/1\u001b[0m \u001b[32m━━━━━━━━━━━━━━━━━━━━\u001b[0m\u001b[37m\u001b[0m \u001b[1m0s\u001b[0m 36ms/step\n\u001b[1m1/1\u001b[0m \u001b[32m━━━━━━━━━━━━━━━━━━━━\u001b[0m\u001b[37m\u001b[0m \u001b[1m0s\u001b[0m 36ms/step\n",
          "output_type": "stream"
        },
        {
          "name": "stderr",
          "text": " 92%|█████████▏| 389/425 [00:36<00:02, 12.33it/s]",
          "output_type": "stream"
        },
        {
          "name": "stdout",
          "text": "\u001b[1m1/1\u001b[0m \u001b[32m━━━━━━━━━━━━━━━━━━━━\u001b[0m\u001b[37m\u001b[0m \u001b[1m0s\u001b[0m 36ms/step\n\u001b[1m1/1\u001b[0m \u001b[32m━━━━━━━━━━━━━━━━━━━━\u001b[0m\u001b[37m\u001b[0m \u001b[1m0s\u001b[0m 35ms/step\n",
          "output_type": "stream"
        },
        {
          "name": "stderr",
          "text": " 92%|█████████▏| 391/425 [00:36<00:02, 12.40it/s]",
          "output_type": "stream"
        },
        {
          "name": "stdout",
          "text": "\u001b[1m1/1\u001b[0m \u001b[32m━━━━━━━━━━━━━━━━━━━━\u001b[0m\u001b[37m\u001b[0m \u001b[1m0s\u001b[0m 36ms/step\n\u001b[1m1/1\u001b[0m \u001b[32m━━━━━━━━━━━━━━━━━━━━\u001b[0m\u001b[37m\u001b[0m \u001b[1m0s\u001b[0m 35ms/step\n",
          "output_type": "stream"
        },
        {
          "name": "stderr",
          "text": " 92%|█████████▏| 393/425 [00:36<00:02, 12.46it/s]",
          "output_type": "stream"
        },
        {
          "name": "stdout",
          "text": "\u001b[1m1/1\u001b[0m \u001b[32m━━━━━━━━━━━━━━━━━━━━\u001b[0m\u001b[37m\u001b[0m \u001b[1m0s\u001b[0m 36ms/step\n\u001b[1m1/1\u001b[0m \u001b[32m━━━━━━━━━━━━━━━━━━━━\u001b[0m\u001b[37m\u001b[0m \u001b[1m0s\u001b[0m 37ms/step\n",
          "output_type": "stream"
        },
        {
          "name": "stderr",
          "text": " 93%|█████████▎| 395/425 [00:37<00:02, 12.49it/s]",
          "output_type": "stream"
        },
        {
          "name": "stdout",
          "text": "\u001b[1m1/1\u001b[0m \u001b[32m━━━━━━━━━━━━━━━━━━━━\u001b[0m\u001b[37m\u001b[0m \u001b[1m0s\u001b[0m 39ms/step\n\u001b[1m1/1\u001b[0m \u001b[32m━━━━━━━━━━━━━━━━━━━━\u001b[0m\u001b[37m\u001b[0m \u001b[1m0s\u001b[0m 38ms/step\n",
          "output_type": "stream"
        },
        {
          "name": "stderr",
          "text": " 93%|█████████▎| 397/425 [00:37<00:02, 12.23it/s]",
          "output_type": "stream"
        },
        {
          "name": "stdout",
          "text": "\u001b[1m1/1\u001b[0m \u001b[32m━━━━━━━━━━━━━━━━━━━━\u001b[0m\u001b[37m\u001b[0m \u001b[1m0s\u001b[0m 37ms/step\n\u001b[1m1/1\u001b[0m \u001b[32m━━━━━━━━━━━━━━━━━━━━\u001b[0m\u001b[37m\u001b[0m \u001b[1m0s\u001b[0m 38ms/step\n",
          "output_type": "stream"
        },
        {
          "name": "stderr",
          "text": " 94%|█████████▍| 399/425 [00:37<00:02, 12.10it/s]",
          "output_type": "stream"
        },
        {
          "name": "stdout",
          "text": "\u001b[1m1/1\u001b[0m \u001b[32m━━━━━━━━━━━━━━━━━━━━\u001b[0m\u001b[37m\u001b[0m \u001b[1m0s\u001b[0m 39ms/step\n\u001b[1m1/1\u001b[0m \u001b[32m━━━━━━━━━━━━━━━━━━━━\u001b[0m\u001b[37m\u001b[0m \u001b[1m0s\u001b[0m 37ms/step\n",
          "output_type": "stream"
        },
        {
          "name": "stderr",
          "text": " 94%|█████████▍| 401/425 [00:37<00:02, 11.99it/s]",
          "output_type": "stream"
        },
        {
          "name": "stdout",
          "text": "\u001b[1m1/1\u001b[0m \u001b[32m━━━━━━━━━━━━━━━━━━━━\u001b[0m\u001b[37m\u001b[0m \u001b[1m0s\u001b[0m 36ms/step\n\u001b[1m1/1\u001b[0m \u001b[32m━━━━━━━━━━━━━━━━━━━━\u001b[0m\u001b[37m\u001b[0m \u001b[1m0s\u001b[0m 38ms/step\n",
          "output_type": "stream"
        },
        {
          "name": "stderr",
          "text": " 95%|█████████▍| 403/425 [00:37<00:01, 12.07it/s]",
          "output_type": "stream"
        },
        {
          "name": "stdout",
          "text": "\u001b[1m1/1\u001b[0m \u001b[32m━━━━━━━━━━━━━━━━━━━━\u001b[0m\u001b[37m\u001b[0m \u001b[1m0s\u001b[0m 37ms/step\n\u001b[1m1/1\u001b[0m \u001b[32m━━━━━━━━━━━━━━━━━━━━\u001b[0m\u001b[37m\u001b[0m \u001b[1m0s\u001b[0m 36ms/step\n",
          "output_type": "stream"
        },
        {
          "name": "stderr",
          "text": " 95%|█████████▌| 405/425 [00:37<00:01, 11.94it/s]",
          "output_type": "stream"
        },
        {
          "name": "stdout",
          "text": "\u001b[1m1/1\u001b[0m \u001b[32m━━━━━━━━━━━━━━━━━━━━\u001b[0m\u001b[37m\u001b[0m \u001b[1m0s\u001b[0m 36ms/step\n\u001b[1m1/1\u001b[0m \u001b[32m━━━━━━━━━━━━━━━━━━━━\u001b[0m\u001b[37m\u001b[0m \u001b[1m0s\u001b[0m 37ms/step\n",
          "output_type": "stream"
        },
        {
          "name": "stderr",
          "text": " 96%|█████████▌| 407/425 [00:38<00:01, 12.12it/s]",
          "output_type": "stream"
        },
        {
          "name": "stdout",
          "text": "\u001b[1m1/1\u001b[0m \u001b[32m━━━━━━━━━━━━━━━━━━━━\u001b[0m\u001b[37m\u001b[0m \u001b[1m0s\u001b[0m 36ms/step\n\u001b[1m1/1\u001b[0m \u001b[32m━━━━━━━━━━━━━━━━━━━━\u001b[0m\u001b[37m\u001b[0m \u001b[1m0s\u001b[0m 36ms/step\n",
          "output_type": "stream"
        },
        {
          "name": "stderr",
          "text": " 96%|█████████▌| 409/425 [00:38<00:01, 12.21it/s]",
          "output_type": "stream"
        },
        {
          "name": "stdout",
          "text": "\u001b[1m1/1\u001b[0m \u001b[32m━━━━━━━━━━━━━━━━━━━━\u001b[0m\u001b[37m\u001b[0m \u001b[1m0s\u001b[0m 36ms/step\n\u001b[1m1/1\u001b[0m \u001b[32m━━━━━━━━━━━━━━━━━━━━\u001b[0m\u001b[37m\u001b[0m \u001b[1m0s\u001b[0m 36ms/step\n",
          "output_type": "stream"
        },
        {
          "name": "stderr",
          "text": " 97%|█████████▋| 411/425 [00:38<00:01, 12.31it/s]",
          "output_type": "stream"
        },
        {
          "name": "stdout",
          "text": "\u001b[1m1/1\u001b[0m \u001b[32m━━━━━━━━━━━━━━━━━━━━\u001b[0m\u001b[37m\u001b[0m \u001b[1m0s\u001b[0m 36ms/step\n\u001b[1m1/1\u001b[0m \u001b[32m━━━━━━━━━━━━━━━━━━━━\u001b[0m\u001b[37m\u001b[0m \u001b[1m0s\u001b[0m 37ms/step\n",
          "output_type": "stream"
        },
        {
          "name": "stderr",
          "text": " 97%|█████████▋| 413/425 [00:38<00:00, 12.36it/s]",
          "output_type": "stream"
        },
        {
          "name": "stdout",
          "text": "\u001b[1m1/1\u001b[0m \u001b[32m━━━━━━━━━━━━━━━━━━━━\u001b[0m\u001b[37m\u001b[0m \u001b[1m0s\u001b[0m 35ms/step\n\u001b[1m1/1\u001b[0m \u001b[32m━━━━━━━━━━━━━━━━━━━━\u001b[0m\u001b[37m\u001b[0m \u001b[1m0s\u001b[0m 37ms/step\n",
          "output_type": "stream"
        },
        {
          "name": "stderr",
          "text": " 98%|█████████▊| 415/425 [00:38<00:00, 12.33it/s]",
          "output_type": "stream"
        },
        {
          "name": "stdout",
          "text": "\u001b[1m1/1\u001b[0m \u001b[32m━━━━━━━━━━━━━━━━━━━━\u001b[0m\u001b[37m\u001b[0m \u001b[1m0s\u001b[0m 38ms/step\n\u001b[1m1/1\u001b[0m \u001b[32m━━━━━━━━━━━━━━━━━━━━\u001b[0m\u001b[37m\u001b[0m \u001b[1m0s\u001b[0m 38ms/step\n",
          "output_type": "stream"
        },
        {
          "name": "stderr",
          "text": " 98%|█████████▊| 417/425 [00:38<00:00, 12.12it/s]",
          "output_type": "stream"
        },
        {
          "name": "stdout",
          "text": "\u001b[1m1/1\u001b[0m \u001b[32m━━━━━━━━━━━━━━━━━━━━\u001b[0m\u001b[37m\u001b[0m \u001b[1m0s\u001b[0m 39ms/step\n\u001b[1m1/1\u001b[0m \u001b[32m━━━━━━━━━━━━━━━━━━━━\u001b[0m\u001b[37m\u001b[0m \u001b[1m0s\u001b[0m 38ms/step\n",
          "output_type": "stream"
        },
        {
          "name": "stderr",
          "text": " 99%|█████████▊| 419/425 [00:39<00:00, 12.07it/s]",
          "output_type": "stream"
        },
        {
          "name": "stdout",
          "text": "\u001b[1m1/1\u001b[0m \u001b[32m━━━━━━━━━━━━━━━━━━━━\u001b[0m\u001b[37m\u001b[0m \u001b[1m0s\u001b[0m 37ms/step\n\u001b[1m1/1\u001b[0m \u001b[32m━━━━━━━━━━━━━━━━━━━━\u001b[0m\u001b[37m\u001b[0m \u001b[1m0s\u001b[0m 36ms/step\n",
          "output_type": "stream"
        },
        {
          "name": "stderr",
          "text": " 99%|█████████▉| 421/425 [00:39<00:00, 12.10it/s]",
          "output_type": "stream"
        },
        {
          "name": "stdout",
          "text": "\u001b[1m1/1\u001b[0m \u001b[32m━━━━━━━━━━━━━━━━━━━━\u001b[0m\u001b[37m\u001b[0m \u001b[1m0s\u001b[0m 36ms/step\n\u001b[1m1/1\u001b[0m \u001b[32m━━━━━━━━━━━━━━━━━━━━\u001b[0m\u001b[37m\u001b[0m \u001b[1m0s\u001b[0m 36ms/step\n",
          "output_type": "stream"
        },
        {
          "name": "stderr",
          "text": "100%|█████████▉| 423/425 [00:39<00:00, 12.20it/s]",
          "output_type": "stream"
        },
        {
          "name": "stdout",
          "text": "\u001b[1m1/1\u001b[0m \u001b[32m━━━━━━━━━━━━━━━━━━━━\u001b[0m\u001b[37m\u001b[0m \u001b[1m0s\u001b[0m 35ms/step\n\u001b[1m1/1\u001b[0m \u001b[32m━━━━━━━━━━━━━━━━━━━━\u001b[0m\u001b[37m\u001b[0m \u001b[1m0s\u001b[0m 37ms/step\n",
          "output_type": "stream"
        },
        {
          "name": "stderr",
          "text": "100%|██████████| 425/425 [00:39<00:00, 10.76it/s]",
          "output_type": "stream"
        },
        {
          "name": "stdout",
          "text": "✅ Saved submission.csv with 425 rows\n",
          "output_type": "stream"
        },
        {
          "name": "stderr",
          "text": "\n",
          "output_type": "stream"
        }
      ],
      "execution_count": null
    }
  ]
}